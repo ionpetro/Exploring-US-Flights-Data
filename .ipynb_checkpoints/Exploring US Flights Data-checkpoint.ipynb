{
 "cells": [
  {
   "cell_type": "markdown",
   "metadata": {
    "slideshow": {
     "slide_type": "-"
    }
   },
   "source": [
    "<div style=\"text-align: center;\">\n",
    "\n",
    "# Exploring US Flights Data\n",
    "<br>\n",
    "<img src=\"https://img.freepik.com/free-vector/airplane-flight-travel-america-flag-map_37787-135.jpg?size=626&ext=jpg\" style=\" display: block; margin-left: auto; margin-right: auto; width: 50%;\">\n",
    "<strong style='font-size: 12px;'>Source: freepik.com</strong>\n",
    "\n",
    "In this report, you will investigate the [Airline On-Time Performance Data](https://www.transtats.bts.gov/Tables.asp?DB_ID=120&DB_Name=Airline%20On-Time%20Performance%20Data&DB_Short_Name=On-Time#). This is a dataset created by the Bureau of Transportation and Statistics."
   ]
  },
  {
   "cell_type": "markdown",
   "metadata": {
    "slideshow": {
     "slide_type": "-"
    }
   },
   "source": [
    "We will use the 2018 data available at <https://auebgr-my.sharepoint.com/:u:/g/personal/louridas_aueb_gr/EbeTzde1LddFmqNWBFWWxNcBj5tDR_zvzDHvqqcmnndeEQ?e=0pwH6j>.\n",
    "\n",
    "Enjoy!\n",
    "\n",
    "---------\n",
    "\n",
    "> Ion Petropoulos <br />\n",
    "> Department of Management Science and Technology <br />\n",
    "> Athens University of Economics and Business <br />\n",
    "> ionpetro@gmail.com"
   ]
  },
  {
   "cell_type": "markdown",
   "metadata": {
    "slideshow": {
     "slide_type": "-"
    }
   },
   "source": [
    "**Note** that if you want to run the notebook then you need to create a ```data```folder with the following files:\n",
    "* [data/L_UNIQUE_CARRIERS.csv_](https://auebgr-my.sharepoint.com/:u:/g/personal/louridas_aueb_gr/EbeTzde1LddFmqNWBFWWxNcBj5tDR_zvzDHvqqcmnndeEQ?e=0pwH6j)\n",
    "* [data/USflights.csv](https://www.transtats.bts.gov/Download_Lookup.asp?Lookup=L_UNIQUE_CARRIERS)\n"
   ]
  },
  {
   "cell_type": "markdown",
   "metadata": {
    "slideshow": {
     "slide_type": "-"
    }
   },
   "source": [
    "## TABLE OF CONTENTS\n",
    "\n",
    "[**DATA CLEANING**](#clean)  <br>\n",
    "[**\"MISERY INDEX\" for airports**](#question1)  <br>\n",
    "[**\"MISERY INDEX\" for airlines**](#question2)  <br>\n",
    "[**Distribution of Departures for Airports**](#question3)  <br>\n",
    "[**Temporal Distribution of Delays**](#question4)  <br>\n",
    "[**Which airline has the best performance?**](#question5)  <br>\n",
    "[**ANNEX I - Which are the most busy airports?**](#annexI)  <br>"
   ]
  },
  {
   "cell_type": "markdown",
   "metadata": {
    "slideshow": {
     "slide_type": "-"
    }
   },
   "source": [
    "First, we import all the libraries that we are going to use for the Analysis"
   ]
  },
  {
   "cell_type": "code",
   "execution_count": 1,
   "metadata": {
    "slideshow": {
     "slide_type": "-"
    }
   },
   "outputs": [],
   "source": [
    "import numpy as np\n",
    "import pandas as pd\n",
    "import matplotlib.pyplot as plt\n",
    "import seaborn as sns\n",
    "import requests\n",
    "from bs4 import BeautifulSoup\n",
    "\n",
    "%matplotlib inline"
   ]
  },
  {
   "cell_type": "markdown",
   "metadata": {
    "slideshow": {
     "slide_type": "-"
    }
   },
   "source": [
    "Let's now read the data and create a Dataframe"
   ]
  },
  {
   "cell_type": "code",
   "execution_count": 2,
   "metadata": {
    "slideshow": {
     "slide_type": "-"
    }
   },
   "outputs": [
    {
     "data": {
      "text/html": [
       "<div>\n",
       "<style scoped>\n",
       "    .dataframe tbody tr th:only-of-type {\n",
       "        vertical-align: middle;\n",
       "    }\n",
       "\n",
       "    .dataframe tbody tr th {\n",
       "        vertical-align: top;\n",
       "    }\n",
       "\n",
       "    .dataframe thead th {\n",
       "        text-align: right;\n",
       "    }\n",
       "</style>\n",
       "<table border=\"1\" class=\"dataframe\">\n",
       "  <thead>\n",
       "    <tr style=\"text-align: right;\">\n",
       "      <th></th>\n",
       "      <th>FL_DATE</th>\n",
       "      <th>TAIL_NUM</th>\n",
       "      <th>CARRIER</th>\n",
       "      <th>ORIGIN</th>\n",
       "      <th>ORIGIN_CITY_NAME</th>\n",
       "      <th>DEST</th>\n",
       "      <th>DEST_CITY_NAME</th>\n",
       "      <th>DEP_TIME</th>\n",
       "      <th>DEP_DELAY</th>\n",
       "      <th>ARR_TIME</th>\n",
       "      <th>ARR_DELAY</th>\n",
       "      <th>CANCELLED</th>\n",
       "      <th>CANCELLATION_CODE</th>\n",
       "      <th>DIVERTED</th>\n",
       "      <th>CARRIER_DELAY</th>\n",
       "      <th>WEATHER_DELAY</th>\n",
       "      <th>NAS_DELAY</th>\n",
       "      <th>SECURITY_DELAY</th>\n",
       "      <th>LATE_AIRCRAFT_DELAY</th>\n",
       "      <th>Unnamed: 19</th>\n",
       "    </tr>\n",
       "  </thead>\n",
       "  <tbody>\n",
       "    <tr>\n",
       "      <td>0</td>\n",
       "      <td>2018-01-01</td>\n",
       "      <td>N8891A</td>\n",
       "      <td>9E</td>\n",
       "      <td>GFK</td>\n",
       "      <td>Grand Forks, ND</td>\n",
       "      <td>MSP</td>\n",
       "      <td>Minneapolis, MN</td>\n",
       "      <td>1302.0</td>\n",
       "      <td>-8.0</td>\n",
       "      <td>1417.0</td>\n",
       "      <td>-12.0</td>\n",
       "      <td>0.0</td>\n",
       "      <td>NaN</td>\n",
       "      <td>0.0</td>\n",
       "      <td>NaN</td>\n",
       "      <td>NaN</td>\n",
       "      <td>NaN</td>\n",
       "      <td>NaN</td>\n",
       "      <td>NaN</td>\n",
       "      <td>NaN</td>\n",
       "    </tr>\n",
       "    <tr>\n",
       "      <td>1</td>\n",
       "      <td>2018-01-01</td>\n",
       "      <td>N8891A</td>\n",
       "      <td>9E</td>\n",
       "      <td>MSP</td>\n",
       "      <td>Minneapolis, MN</td>\n",
       "      <td>GFK</td>\n",
       "      <td>Grand Forks, ND</td>\n",
       "      <td>1124.0</td>\n",
       "      <td>9.0</td>\n",
       "      <td>1234.0</td>\n",
       "      <td>-11.0</td>\n",
       "      <td>0.0</td>\n",
       "      <td>NaN</td>\n",
       "      <td>0.0</td>\n",
       "      <td>NaN</td>\n",
       "      <td>NaN</td>\n",
       "      <td>NaN</td>\n",
       "      <td>NaN</td>\n",
       "      <td>NaN</td>\n",
       "      <td>NaN</td>\n",
       "    </tr>\n",
       "    <tr>\n",
       "      <td>2</td>\n",
       "      <td>2018-01-01</td>\n",
       "      <td>N293PQ</td>\n",
       "      <td>9E</td>\n",
       "      <td>DTW</td>\n",
       "      <td>Detroit, MI</td>\n",
       "      <td>SAT</td>\n",
       "      <td>San Antonio, TX</td>\n",
       "      <td>2022.0</td>\n",
       "      <td>4.0</td>\n",
       "      <td>2232.0</td>\n",
       "      <td>-50.0</td>\n",
       "      <td>0.0</td>\n",
       "      <td>NaN</td>\n",
       "      <td>0.0</td>\n",
       "      <td>NaN</td>\n",
       "      <td>NaN</td>\n",
       "      <td>NaN</td>\n",
       "      <td>NaN</td>\n",
       "      <td>NaN</td>\n",
       "      <td>NaN</td>\n",
       "    </tr>\n",
       "    <tr>\n",
       "      <td>3</td>\n",
       "      <td>2018-01-01</td>\n",
       "      <td>N295PQ</td>\n",
       "      <td>9E</td>\n",
       "      <td>BOS</td>\n",
       "      <td>Boston, MA</td>\n",
       "      <td>CVG</td>\n",
       "      <td>Cincinnati, OH</td>\n",
       "      <td>1349.0</td>\n",
       "      <td>104.0</td>\n",
       "      <td>1613.0</td>\n",
       "      <td>94.0</td>\n",
       "      <td>0.0</td>\n",
       "      <td>NaN</td>\n",
       "      <td>0.0</td>\n",
       "      <td>79.0</td>\n",
       "      <td>0.0</td>\n",
       "      <td>0.0</td>\n",
       "      <td>0.0</td>\n",
       "      <td>15.0</td>\n",
       "      <td>NaN</td>\n",
       "    </tr>\n",
       "    <tr>\n",
       "      <td>4</td>\n",
       "      <td>2018-01-01</td>\n",
       "      <td>N605LR</td>\n",
       "      <td>9E</td>\n",
       "      <td>MSP</td>\n",
       "      <td>Minneapolis, MN</td>\n",
       "      <td>CLT</td>\n",
       "      <td>Charlotte, NC</td>\n",
       "      <td>846.0</td>\n",
       "      <td>1.0</td>\n",
       "      <td>1214.0</td>\n",
       "      <td>-14.0</td>\n",
       "      <td>0.0</td>\n",
       "      <td>NaN</td>\n",
       "      <td>0.0</td>\n",
       "      <td>NaN</td>\n",
       "      <td>NaN</td>\n",
       "      <td>NaN</td>\n",
       "      <td>NaN</td>\n",
       "      <td>NaN</td>\n",
       "      <td>NaN</td>\n",
       "    </tr>\n",
       "  </tbody>\n",
       "</table>\n",
       "</div>"
      ],
      "text/plain": [
       "     FL_DATE TAIL_NUM CARRIER ORIGIN ORIGIN_CITY_NAME DEST   DEST_CITY_NAME  \\\n",
       "0 2018-01-01   N8891A      9E    GFK  Grand Forks, ND  MSP  Minneapolis, MN   \n",
       "1 2018-01-01   N8891A      9E    MSP  Minneapolis, MN  GFK  Grand Forks, ND   \n",
       "2 2018-01-01   N293PQ      9E    DTW      Detroit, MI  SAT  San Antonio, TX   \n",
       "3 2018-01-01   N295PQ      9E    BOS       Boston, MA  CVG   Cincinnati, OH   \n",
       "4 2018-01-01   N605LR      9E    MSP  Minneapolis, MN  CLT    Charlotte, NC   \n",
       "\n",
       "   DEP_TIME  DEP_DELAY  ARR_TIME  ARR_DELAY  CANCELLED CANCELLATION_CODE  \\\n",
       "0    1302.0       -8.0    1417.0      -12.0        0.0               NaN   \n",
       "1    1124.0        9.0    1234.0      -11.0        0.0               NaN   \n",
       "2    2022.0        4.0    2232.0      -50.0        0.0               NaN   \n",
       "3    1349.0      104.0    1613.0       94.0        0.0               NaN   \n",
       "4     846.0        1.0    1214.0      -14.0        0.0               NaN   \n",
       "\n",
       "   DIVERTED  CARRIER_DELAY  WEATHER_DELAY  NAS_DELAY  SECURITY_DELAY  \\\n",
       "0       0.0            NaN            NaN        NaN             NaN   \n",
       "1       0.0            NaN            NaN        NaN             NaN   \n",
       "2       0.0            NaN            NaN        NaN             NaN   \n",
       "3       0.0           79.0            0.0        0.0             0.0   \n",
       "4       0.0            NaN            NaN        NaN             NaN   \n",
       "\n",
       "   LATE_AIRCRAFT_DELAY  Unnamed: 19  \n",
       "0                  NaN          NaN  \n",
       "1                  NaN          NaN  \n",
       "2                  NaN          NaN  \n",
       "3                 15.0          NaN  \n",
       "4                  NaN          NaN  "
      ]
     },
     "execution_count": 2,
     "metadata": {},
     "output_type": "execute_result"
    }
   ],
   "source": [
    "flights = pd.read_csv('data/USflights.csv', parse_dates=['FL_DATE'], sep=',')\n",
    "flights.head()"
   ]
  },
  {
   "cell_type": "markdown",
   "metadata": {
    "slideshow": {
     "slide_type": "-"
    }
   },
   "source": [
    "We can get some stats about our dataset"
   ]
  },
  {
   "cell_type": "code",
   "execution_count": 3,
   "metadata": {
    "slideshow": {
     "slide_type": "-"
    }
   },
   "outputs": [
    {
     "data": {
      "text/html": [
       "<div>\n",
       "<style scoped>\n",
       "    .dataframe tbody tr th:only-of-type {\n",
       "        vertical-align: middle;\n",
       "    }\n",
       "\n",
       "    .dataframe tbody tr th {\n",
       "        vertical-align: top;\n",
       "    }\n",
       "\n",
       "    .dataframe thead th {\n",
       "        text-align: right;\n",
       "    }\n",
       "</style>\n",
       "<table border=\"1\" class=\"dataframe\">\n",
       "  <thead>\n",
       "    <tr style=\"text-align: right;\">\n",
       "      <th></th>\n",
       "      <th>DEP_TIME</th>\n",
       "      <th>DEP_DELAY</th>\n",
       "      <th>ARR_TIME</th>\n",
       "      <th>ARR_DELAY</th>\n",
       "    </tr>\n",
       "  </thead>\n",
       "  <tbody>\n",
       "    <tr>\n",
       "      <td>count</td>\n",
       "      <td>7.101129e+06</td>\n",
       "      <td>7.096212e+06</td>\n",
       "      <td>7.094201e+06</td>\n",
       "      <td>7.076406e+06</td>\n",
       "    </tr>\n",
       "    <tr>\n",
       "      <td>mean</td>\n",
       "      <td>1.333854e+03</td>\n",
       "      <td>9.969858e+00</td>\n",
       "      <td>1.466784e+03</td>\n",
       "      <td>5.048581e+00</td>\n",
       "    </tr>\n",
       "    <tr>\n",
       "      <td>std</td>\n",
       "      <td>5.045055e+02</td>\n",
       "      <td>4.482964e+01</td>\n",
       "      <td>5.377089e+02</td>\n",
       "      <td>4.692664e+01</td>\n",
       "    </tr>\n",
       "    <tr>\n",
       "      <td>min</td>\n",
       "      <td>1.000000e+00</td>\n",
       "      <td>-1.220000e+02</td>\n",
       "      <td>1.000000e+00</td>\n",
       "      <td>-1.200000e+02</td>\n",
       "    </tr>\n",
       "    <tr>\n",
       "      <td>25%</td>\n",
       "      <td>9.160000e+02</td>\n",
       "      <td>-5.000000e+00</td>\n",
       "      <td>1.049000e+03</td>\n",
       "      <td>-1.400000e+01</td>\n",
       "    </tr>\n",
       "    <tr>\n",
       "      <td>50%</td>\n",
       "      <td>1.326000e+03</td>\n",
       "      <td>-2.000000e+00</td>\n",
       "      <td>1.506000e+03</td>\n",
       "      <td>-6.000000e+00</td>\n",
       "    </tr>\n",
       "    <tr>\n",
       "      <td>75%</td>\n",
       "      <td>1.744000e+03</td>\n",
       "      <td>7.000000e+00</td>\n",
       "      <td>1.916000e+03</td>\n",
       "      <td>8.000000e+00</td>\n",
       "    </tr>\n",
       "    <tr>\n",
       "      <td>max</td>\n",
       "      <td>2.400000e+03</td>\n",
       "      <td>2.710000e+03</td>\n",
       "      <td>2.400000e+03</td>\n",
       "      <td>2.692000e+03</td>\n",
       "    </tr>\n",
       "  </tbody>\n",
       "</table>\n",
       "</div>"
      ],
      "text/plain": [
       "           DEP_TIME     DEP_DELAY      ARR_TIME     ARR_DELAY\n",
       "count  7.101129e+06  7.096212e+06  7.094201e+06  7.076406e+06\n",
       "mean   1.333854e+03  9.969858e+00  1.466784e+03  5.048581e+00\n",
       "std    5.045055e+02  4.482964e+01  5.377089e+02  4.692664e+01\n",
       "min    1.000000e+00 -1.220000e+02  1.000000e+00 -1.200000e+02\n",
       "25%    9.160000e+02 -5.000000e+00  1.049000e+03 -1.400000e+01\n",
       "50%    1.326000e+03 -2.000000e+00  1.506000e+03 -6.000000e+00\n",
       "75%    1.744000e+03  7.000000e+00  1.916000e+03  8.000000e+00\n",
       "max    2.400000e+03  2.710000e+03  2.400000e+03  2.692000e+03"
      ]
     },
     "execution_count": 3,
     "metadata": {},
     "output_type": "execute_result"
    }
   ],
   "source": [
    "flights.loc[:, ['DEP_TIME', 'DEP_DELAY', 'ARR_TIME', 'ARR_DELAY']].describe()"
   ]
  },
  {
   "cell_type": "markdown",
   "metadata": {
    "slideshow": {
     "slide_type": "-"
    }
   },
   "source": [
    "## DATA CLEANING <a class=\"anchor\" id=\"clean\"></a>"
   ]
  },
  {
   "cell_type": "markdown",
   "metadata": {
    "slideshow": {
     "slide_type": "-"
    }
   },
   "source": [
    "The first thing we notice is an empty column in the end of the dataset. We can get rid of that by deleting the column"
   ]
  },
  {
   "cell_type": "code",
   "execution_count": 4,
   "metadata": {
    "slideshow": {
     "slide_type": "-"
    }
   },
   "outputs": [],
   "source": [
    "#deleting the empty column\n",
    "del(flights['Unnamed: 19'])"
   ]
  },
  {
   "cell_type": "markdown",
   "metadata": {
    "slideshow": {
     "slide_type": "-"
    }
   },
   "source": [
    "Let's check for null values on each column"
   ]
  },
  {
   "cell_type": "code",
   "execution_count": 5,
   "metadata": {
    "slideshow": {
     "slide_type": "-"
    }
   },
   "outputs": [
    {
     "data": {
      "text/plain": [
       "FL_DATE                      0\n",
       "TAIL_NUM                 14526\n",
       "CARRIER                      0\n",
       "ORIGIN                       0\n",
       "ORIGIN_CITY_NAME             0\n",
       "DEST                         0\n",
       "DEST_CITY_NAME               0\n",
       "DEP_TIME                112317\n",
       "DEP_DELAY               117234\n",
       "ARR_TIME                119245\n",
       "ARR_DELAY               137040\n",
       "CANCELLED                    0\n",
       "CANCELLATION_CODE      7096862\n",
       "DIVERTED                     0\n",
       "CARRIER_DELAY          5860736\n",
       "WEATHER_DELAY          5860736\n",
       "NAS_DELAY              5860736\n",
       "SECURITY_DELAY         5860736\n",
       "LATE_AIRCRAFT_DELAY    5860736\n",
       "dtype: int64"
      ]
     },
     "execution_count": 5,
     "metadata": {},
     "output_type": "execute_result"
    }
   ],
   "source": [
    "flights.isnull().sum()"
   ]
  },
  {
   "cell_type": "markdown",
   "metadata": {
    "slideshow": {
     "slide_type": "-"
    }
   },
   "source": [
    "We see that there are some Null Values on **TAIL_NUM**, but still we won't drop them."
   ]
  },
  {
   "cell_type": "code",
   "execution_count": 6,
   "metadata": {
    "slideshow": {
     "slide_type": "-"
    }
   },
   "outputs": [
    {
     "data": {
      "text/plain": [
       "FL_DATE                datetime64[ns]\n",
       "TAIL_NUM                       object\n",
       "CARRIER                        object\n",
       "ORIGIN                         object\n",
       "ORIGIN_CITY_NAME               object\n",
       "DEST                           object\n",
       "DEST_CITY_NAME                 object\n",
       "DEP_TIME                      float64\n",
       "DEP_DELAY                     float64\n",
       "ARR_TIME                      float64\n",
       "ARR_DELAY                     float64\n",
       "CANCELLED                     float64\n",
       "CANCELLATION_CODE              object\n",
       "DIVERTED                      float64\n",
       "CARRIER_DELAY                 float64\n",
       "WEATHER_DELAY                 float64\n",
       "NAS_DELAY                     float64\n",
       "SECURITY_DELAY                float64\n",
       "LATE_AIRCRAFT_DELAY           float64\n",
       "dtype: object"
      ]
     },
     "execution_count": 6,
     "metadata": {},
     "output_type": "execute_result"
    }
   ],
   "source": [
    "flights.dtypes"
   ]
  },
  {
   "cell_type": "markdown",
   "metadata": {
    "slideshow": {
     "slide_type": "fragment"
    }
   },
   "source": [
    "What else we need to do is to convert **ARR_TIME** and **DEP_TIME** to proper format. We have to note that both are ```float64 dtype```."
   ]
  },
  {
   "cell_type": "code",
   "execution_count": 7,
   "metadata": {
    "slideshow": {
     "slide_type": "slide"
    }
   },
   "outputs": [],
   "source": [
    "# converting DEP_TIME to actual time of Departure\n",
    "flights['DEP_TIME'] = flights.DEP_TIME.fillna(0).astype(np.int64).astype(str).str.replace('(\\d{2}$)', '') + ':' + flights.DEP_TIME.fillna(0).astype(np.int64).astype(str).str.extract('(\\d{2}$)', expand=False) + ':00'"
   ]
  },
  {
   "cell_type": "code",
   "execution_count": 8,
   "metadata": {
    "slideshow": {
     "slide_type": "fragment"
    }
   },
   "outputs": [],
   "source": [
    "# converting ARR_TIME to actual time of Departure\n",
    "flights['ARR_TIME'] = flights.ARR_TIME.fillna(0).astype(np.int64).astype(str).str.replace('(\\d{2}$)', '') + ':' + flights.ARR_TIME.fillna(0).astype(np.int64).astype(str).str.extract('(\\d{2}$)', expand=False) + ':00'"
   ]
  },
  {
   "cell_type": "code",
   "execution_count": 9,
   "metadata": {
    "slideshow": {
     "slide_type": "fragment"
    }
   },
   "outputs": [
    {
     "data": {
      "text/html": [
       "<div>\n",
       "<style scoped>\n",
       "    .dataframe tbody tr th:only-of-type {\n",
       "        vertical-align: middle;\n",
       "    }\n",
       "\n",
       "    .dataframe tbody tr th {\n",
       "        vertical-align: top;\n",
       "    }\n",
       "\n",
       "    .dataframe thead th {\n",
       "        text-align: right;\n",
       "    }\n",
       "</style>\n",
       "<table border=\"1\" class=\"dataframe\">\n",
       "  <thead>\n",
       "    <tr style=\"text-align: right;\">\n",
       "      <th></th>\n",
       "      <th>FL_DATE</th>\n",
       "      <th>TAIL_NUM</th>\n",
       "      <th>CARRIER</th>\n",
       "      <th>ORIGIN</th>\n",
       "      <th>ORIGIN_CITY_NAME</th>\n",
       "      <th>DEST</th>\n",
       "      <th>DEST_CITY_NAME</th>\n",
       "      <th>DEP_TIME</th>\n",
       "      <th>DEP_DELAY</th>\n",
       "      <th>ARR_TIME</th>\n",
       "      <th>ARR_DELAY</th>\n",
       "      <th>CANCELLED</th>\n",
       "      <th>CANCELLATION_CODE</th>\n",
       "      <th>DIVERTED</th>\n",
       "      <th>CARRIER_DELAY</th>\n",
       "      <th>WEATHER_DELAY</th>\n",
       "      <th>NAS_DELAY</th>\n",
       "      <th>SECURITY_DELAY</th>\n",
       "      <th>LATE_AIRCRAFT_DELAY</th>\n",
       "    </tr>\n",
       "  </thead>\n",
       "  <tbody>\n",
       "    <tr>\n",
       "      <td>7213441</td>\n",
       "      <td>2018-12-31</td>\n",
       "      <td>N316JB</td>\n",
       "      <td>B6</td>\n",
       "      <td>RDU</td>\n",
       "      <td>Raleigh/Durham, NC</td>\n",
       "      <td>BOS</td>\n",
       "      <td>Boston, MA</td>\n",
       "      <td>14:00:00</td>\n",
       "      <td>4.0</td>\n",
       "      <td>15:57:00</td>\n",
       "      <td>11.0</td>\n",
       "      <td>0.0</td>\n",
       "      <td>NaN</td>\n",
       "      <td>0.0</td>\n",
       "      <td>NaN</td>\n",
       "      <td>NaN</td>\n",
       "      <td>NaN</td>\n",
       "      <td>NaN</td>\n",
       "      <td>NaN</td>\n",
       "    </tr>\n",
       "    <tr>\n",
       "      <td>7213442</td>\n",
       "      <td>2018-12-31</td>\n",
       "      <td>N715JB</td>\n",
       "      <td>B6</td>\n",
       "      <td>JFK</td>\n",
       "      <td>New York, NY</td>\n",
       "      <td>MCO</td>\n",
       "      <td>Orlando, FL</td>\n",
       "      <td>21:38:00</td>\n",
       "      <td>11.0</td>\n",
       "      <td>:16:00</td>\n",
       "      <td>-7.0</td>\n",
       "      <td>0.0</td>\n",
       "      <td>NaN</td>\n",
       "      <td>0.0</td>\n",
       "      <td>NaN</td>\n",
       "      <td>NaN</td>\n",
       "      <td>NaN</td>\n",
       "      <td>NaN</td>\n",
       "      <td>NaN</td>\n",
       "    </tr>\n",
       "    <tr>\n",
       "      <td>7213443</td>\n",
       "      <td>2018-12-31</td>\n",
       "      <td>N510JB</td>\n",
       "      <td>B6</td>\n",
       "      <td>BOS</td>\n",
       "      <td>Boston, MA</td>\n",
       "      <td>TPA</td>\n",
       "      <td>Tampa, FL</td>\n",
       "      <td>22:15:00</td>\n",
       "      <td>25.0</td>\n",
       "      <td>1:31:00</td>\n",
       "      <td>15.0</td>\n",
       "      <td>0.0</td>\n",
       "      <td>NaN</td>\n",
       "      <td>0.0</td>\n",
       "      <td>13.0</td>\n",
       "      <td>0.0</td>\n",
       "      <td>0.0</td>\n",
       "      <td>0.0</td>\n",
       "      <td>2.0</td>\n",
       "    </tr>\n",
       "    <tr>\n",
       "      <td>7213444</td>\n",
       "      <td>2018-12-31</td>\n",
       "      <td>N346JB</td>\n",
       "      <td>B6</td>\n",
       "      <td>MCO</td>\n",
       "      <td>Orlando, FL</td>\n",
       "      <td>LGA</td>\n",
       "      <td>New York, NY</td>\n",
       "      <td>21:01:00</td>\n",
       "      <td>1.0</td>\n",
       "      <td>23:18:00</td>\n",
       "      <td>-13.0</td>\n",
       "      <td>0.0</td>\n",
       "      <td>NaN</td>\n",
       "      <td>0.0</td>\n",
       "      <td>NaN</td>\n",
       "      <td>NaN</td>\n",
       "      <td>NaN</td>\n",
       "      <td>NaN</td>\n",
       "      <td>NaN</td>\n",
       "    </tr>\n",
       "    <tr>\n",
       "      <td>7213445</td>\n",
       "      <td>2018-12-31</td>\n",
       "      <td>N258JB</td>\n",
       "      <td>B6</td>\n",
       "      <td>LGA</td>\n",
       "      <td>New York, NY</td>\n",
       "      <td>MCO</td>\n",
       "      <td>Orlando, FL</td>\n",
       "      <td>17:41:00</td>\n",
       "      <td>-12.0</td>\n",
       "      <td>20:23:00</td>\n",
       "      <td>-39.0</td>\n",
       "      <td>0.0</td>\n",
       "      <td>NaN</td>\n",
       "      <td>0.0</td>\n",
       "      <td>NaN</td>\n",
       "      <td>NaN</td>\n",
       "      <td>NaN</td>\n",
       "      <td>NaN</td>\n",
       "      <td>NaN</td>\n",
       "    </tr>\n",
       "  </tbody>\n",
       "</table>\n",
       "</div>"
      ],
      "text/plain": [
       "           FL_DATE TAIL_NUM CARRIER ORIGIN    ORIGIN_CITY_NAME DEST  \\\n",
       "7213441 2018-12-31   N316JB      B6    RDU  Raleigh/Durham, NC  BOS   \n",
       "7213442 2018-12-31   N715JB      B6    JFK        New York, NY  MCO   \n",
       "7213443 2018-12-31   N510JB      B6    BOS          Boston, MA  TPA   \n",
       "7213444 2018-12-31   N346JB      B6    MCO         Orlando, FL  LGA   \n",
       "7213445 2018-12-31   N258JB      B6    LGA        New York, NY  MCO   \n",
       "\n",
       "        DEST_CITY_NAME  DEP_TIME  DEP_DELAY  ARR_TIME  ARR_DELAY  CANCELLED  \\\n",
       "7213441     Boston, MA  14:00:00        4.0  15:57:00       11.0        0.0   \n",
       "7213442    Orlando, FL  21:38:00       11.0    :16:00       -7.0        0.0   \n",
       "7213443      Tampa, FL  22:15:00       25.0   1:31:00       15.0        0.0   \n",
       "7213444   New York, NY  21:01:00        1.0  23:18:00      -13.0        0.0   \n",
       "7213445    Orlando, FL  17:41:00      -12.0  20:23:00      -39.0        0.0   \n",
       "\n",
       "        CANCELLATION_CODE  DIVERTED  CARRIER_DELAY  WEATHER_DELAY  NAS_DELAY  \\\n",
       "7213441               NaN       0.0            NaN            NaN        NaN   \n",
       "7213442               NaN       0.0            NaN            NaN        NaN   \n",
       "7213443               NaN       0.0           13.0            0.0        0.0   \n",
       "7213444               NaN       0.0            NaN            NaN        NaN   \n",
       "7213445               NaN       0.0            NaN            NaN        NaN   \n",
       "\n",
       "         SECURITY_DELAY  LATE_AIRCRAFT_DELAY  \n",
       "7213441             NaN                  NaN  \n",
       "7213442             NaN                  NaN  \n",
       "7213443             0.0                  2.0  \n",
       "7213444             NaN                  NaN  \n",
       "7213445             NaN                  NaN  "
      ]
     },
     "execution_count": 9,
     "metadata": {},
     "output_type": "execute_result"
    }
   ],
   "source": [
    "flights.tail()"
   ]
  },
  {
   "cell_type": "markdown",
   "metadata": {
    "slideshow": {
     "slide_type": "slide"
    }
   },
   "source": [
    "* We can quickly notice that there were some floats like 16.0\n",
    "\n",
    "* This type of float represented 00:16:00\n",
    "\n",
    "* So we need to add 00 in front of every number like that"
   ]
  },
  {
   "cell_type": "code",
   "execution_count": 10,
   "metadata": {
    "slideshow": {
     "slide_type": "fragment"
    }
   },
   "outputs": [],
   "source": [
    "#fix ARR_TIME, DEP_TIME at midnight\n",
    "flights.ARR_TIME = np.where(flights.ARR_TIME.str.startswith(':'), '00' + flights.ARR_TIME, flights.ARR_TIME)\n",
    "flights.DEP_TIME = np.where(flights.DEP_TIME.str.startswith(':'), '00' + flights.DEP_TIME, flights.DEP_TIME)\n",
    "#convert Series to timedelta64\n",
    "flights.ARR_TIME = pd.to_timedelta(flights.ARR_TIME)\n",
    "flights.DEP_TIME = pd.to_timedelta(flights.DEP_TIME)"
   ]
  },
  {
   "cell_type": "markdown",
   "metadata": {
    "slideshow": {
     "slide_type": "slide"
    }
   },
   "source": [
    "Now the types of our values seem correct"
   ]
  },
  {
   "cell_type": "code",
   "execution_count": 11,
   "metadata": {
    "slideshow": {
     "slide_type": "skip"
    }
   },
   "outputs": [
    {
     "data": {
      "text/plain": [
       "FL_DATE                 datetime64[ns]\n",
       "TAIL_NUM                        object\n",
       "CARRIER                         object\n",
       "ORIGIN                          object\n",
       "ORIGIN_CITY_NAME                object\n",
       "DEST                            object\n",
       "DEST_CITY_NAME                  object\n",
       "DEP_TIME               timedelta64[ns]\n",
       "DEP_DELAY                      float64\n",
       "ARR_TIME               timedelta64[ns]\n",
       "ARR_DELAY                      float64\n",
       "CANCELLED                      float64\n",
       "CANCELLATION_CODE               object\n",
       "DIVERTED                       float64\n",
       "CARRIER_DELAY                  float64\n",
       "WEATHER_DELAY                  float64\n",
       "NAS_DELAY                      float64\n",
       "SECURITY_DELAY                 float64\n",
       "LATE_AIRCRAFT_DELAY            float64\n",
       "dtype: object"
      ]
     },
     "execution_count": 11,
     "metadata": {},
     "output_type": "execute_result"
    }
   ],
   "source": [
    "flights.dtypes"
   ]
  },
  {
   "cell_type": "markdown",
   "metadata": {
    "slideshow": {
     "slide_type": "slide"
    }
   },
   "source": [
    "## \"MISERY INDEX\" for airports <a class=\"anchor\" id=\"question1\"></a>"
   ]
  },
  {
   "cell_type": "markdown",
   "metadata": {
    "slideshow": {
     "slide_type": "fragment"
    }
   },
   "source": [
    "* We will try to sort the airports in descending order of the probability that a flights departing from the airport has a **delay**.\n",
    "\n",
    "* According to the Dataset Documentation, ```DepTime``` shows the\tActual Departure Time while the ```DepDelay``` shows the Difference in minutes between scheduled and actual departure time. \n",
    "\n",
    "* We can also find that delays less that 15 mins are not considered official, but we are not going to take that into consideration for this analysis. *(Sir... a delay is a delay!)*\n",
    "\n",
    "* Early departures show **negative** numbers."
   ]
  },
  {
   "cell_type": "code",
   "execution_count": 12,
   "metadata": {
    "slideshow": {
     "slide_type": "slide"
    }
   },
   "outputs": [
    {
     "data": {
      "text/plain": [
       "ORIGIN\n",
       "YNG     2\n",
       "ART    25\n",
       "IFP    45\n",
       "CYS    58\n",
       "AKN    63\n",
       "dtype: int64"
      ]
     },
     "execution_count": 12,
     "metadata": {},
     "output_type": "execute_result"
    }
   ],
   "source": [
    "#create a dataframe with the columns we need\n",
    "probability_df = flights.loc[:, ['ORIGIN', 'DEP_DELAY']]\n",
    "\n",
    "#group the dataframe by the ORIGIN and count how many flights has each \n",
    "airport_flights = probability_df.groupby('ORIGIN').size().sort_values()\n",
    "\n",
    "airport_flights.head()"
   ]
  },
  {
   "cell_type": "markdown",
   "metadata": {
    "slideshow": {
     "slide_type": "slide"
    }
   },
   "source": [
    "* We can see that there are some airports with preposterously low number of flights. We are not interested in them so we are going to **remove the lowest 1%**"
   ]
  },
  {
   "cell_type": "code",
   "execution_count": 13,
   "metadata": {
    "slideshow": {
     "slide_type": "fragment"
    }
   },
   "outputs": [
    {
     "data": {
      "text/html": [
       "<div>\n",
       "<style scoped>\n",
       "    .dataframe tbody tr th:only-of-type {\n",
       "        vertical-align: middle;\n",
       "    }\n",
       "\n",
       "    .dataframe tbody tr th {\n",
       "        vertical-align: top;\n",
       "    }\n",
       "\n",
       "    .dataframe thead th {\n",
       "        text-align: right;\n",
       "    }\n",
       "</style>\n",
       "<table border=\"1\" class=\"dataframe\">\n",
       "  <thead>\n",
       "    <tr style=\"text-align: right;\">\n",
       "      <th></th>\n",
       "      <th>TOTAL_FLIGHTS</th>\n",
       "    </tr>\n",
       "    <tr>\n",
       "      <th>ORIGIN</th>\n",
       "      <th></th>\n",
       "    </tr>\n",
       "  </thead>\n",
       "  <tbody>\n",
       "    <tr>\n",
       "      <td>AKN</td>\n",
       "      <td>63</td>\n",
       "    </tr>\n",
       "    <tr>\n",
       "      <td>BKG</td>\n",
       "      <td>71</td>\n",
       "    </tr>\n",
       "    <tr>\n",
       "      <td>DLG</td>\n",
       "      <td>84</td>\n",
       "    </tr>\n",
       "    <tr>\n",
       "      <td>GST</td>\n",
       "      <td>84</td>\n",
       "    </tr>\n",
       "    <tr>\n",
       "      <td>HYA</td>\n",
       "      <td>89</td>\n",
       "    </tr>\n",
       "    <tr>\n",
       "      <td>...</td>\n",
       "      <td>...</td>\n",
       "    </tr>\n",
       "    <tr>\n",
       "      <td>CLT</td>\n",
       "      <td>233317</td>\n",
       "    </tr>\n",
       "    <tr>\n",
       "      <td>DEN</td>\n",
       "      <td>235989</td>\n",
       "    </tr>\n",
       "    <tr>\n",
       "      <td>DFW</td>\n",
       "      <td>279298</td>\n",
       "    </tr>\n",
       "    <tr>\n",
       "      <td>ORD</td>\n",
       "      <td>332953</td>\n",
       "    </tr>\n",
       "    <tr>\n",
       "      <td>ATL</td>\n",
       "      <td>390046</td>\n",
       "    </tr>\n",
       "  </tbody>\n",
       "</table>\n",
       "<p>354 rows × 1 columns</p>\n",
       "</div>"
      ],
      "text/plain": [
       "        TOTAL_FLIGHTS\n",
       "ORIGIN               \n",
       "AKN                63\n",
       "BKG                71\n",
       "DLG                84\n",
       "GST                84\n",
       "HYA                89\n",
       "...               ...\n",
       "CLT            233317\n",
       "DEN            235989\n",
       "DFW            279298\n",
       "ORD            332953\n",
       "ATL            390046\n",
       "\n",
       "[354 rows x 1 columns]"
      ]
     },
     "execution_count": 13,
     "metadata": {},
     "output_type": "execute_result"
    }
   ],
   "source": [
    "#save the result into a dataframe\n",
    "airport_flights = pd.DataFrame(airport_flights, columns=['TOTAL_FLIGHTS'])\n",
    "\n",
    "#keep the hightest 99%\n",
    "airport_flights = airport_flights.loc[airport_flights.TOTAL_FLIGHTS >= airport_flights.TOTAL_FLIGHTS.quantile(0.01)]\n",
    "\n",
    "airport_flights"
   ]
  },
  {
   "cell_type": "code",
   "execution_count": 14,
   "metadata": {
    "slideshow": {
     "slide_type": "slide"
    }
   },
   "outputs": [
    {
     "data": {
      "text/html": [
       "<div>\n",
       "<style scoped>\n",
       "    .dataframe tbody tr th:only-of-type {\n",
       "        vertical-align: middle;\n",
       "    }\n",
       "\n",
       "    .dataframe tbody tr th {\n",
       "        vertical-align: top;\n",
       "    }\n",
       "\n",
       "    .dataframe thead th {\n",
       "        text-align: right;\n",
       "    }\n",
       "</style>\n",
       "<table border=\"1\" class=\"dataframe\">\n",
       "  <thead>\n",
       "    <tr style=\"text-align: right;\">\n",
       "      <th></th>\n",
       "      <th>DEP_DELAY</th>\n",
       "    </tr>\n",
       "    <tr>\n",
       "      <th>ORIGIN</th>\n",
       "      <th></th>\n",
       "    </tr>\n",
       "  </thead>\n",
       "  <tbody>\n",
       "    <tr>\n",
       "      <td>ABE</td>\n",
       "      <td>1246</td>\n",
       "    </tr>\n",
       "    <tr>\n",
       "      <td>ABI</td>\n",
       "      <td>599</td>\n",
       "    </tr>\n",
       "    <tr>\n",
       "      <td>ABQ</td>\n",
       "      <td>8699</td>\n",
       "    </tr>\n",
       "    <tr>\n",
       "      <td>ABR</td>\n",
       "      <td>155</td>\n",
       "    </tr>\n",
       "    <tr>\n",
       "      <td>ABY</td>\n",
       "      <td>286</td>\n",
       "    </tr>\n",
       "    <tr>\n",
       "      <td>...</td>\n",
       "      <td>...</td>\n",
       "    </tr>\n",
       "    <tr>\n",
       "      <td>WYS</td>\n",
       "      <td>60</td>\n",
       "    </tr>\n",
       "    <tr>\n",
       "      <td>XNA</td>\n",
       "      <td>3537</td>\n",
       "    </tr>\n",
       "    <tr>\n",
       "      <td>YAK</td>\n",
       "      <td>127</td>\n",
       "    </tr>\n",
       "    <tr>\n",
       "      <td>YNG</td>\n",
       "      <td>2</td>\n",
       "    </tr>\n",
       "    <tr>\n",
       "      <td>YUM</td>\n",
       "      <td>253</td>\n",
       "    </tr>\n",
       "  </tbody>\n",
       "</table>\n",
       "<p>358 rows × 1 columns</p>\n",
       "</div>"
      ],
      "text/plain": [
       "        DEP_DELAY\n",
       "ORIGIN           \n",
       "ABE          1246\n",
       "ABI           599\n",
       "ABQ          8699\n",
       "ABR           155\n",
       "ABY           286\n",
       "...           ...\n",
       "WYS            60\n",
       "XNA          3537\n",
       "YAK           127\n",
       "YNG             2\n",
       "YUM           253\n",
       "\n",
       "[358 rows x 1 columns]"
      ]
     },
     "execution_count": 14,
     "metadata": {},
     "output_type": "execute_result"
    }
   ],
   "source": [
    "#we are looking only for the positive Departure Delays\n",
    "probability_df.DEP_DELAY = probability_df.DEP_DELAY.loc[probability_df.DEP_DELAY > 0]\n",
    "\n",
    "grouped_delay_df = probability_df.groupby('ORIGIN') #save that because I need later\n",
    "\n",
    "#how many delays has each airport\n",
    "delay_df= grouped_delay_df.count()\n",
    "\n",
    "delay_df"
   ]
  },
  {
   "cell_type": "markdown",
   "metadata": {
    "slideshow": {
     "slide_type": "slide"
    }
   },
   "source": [
    "So now we need to merge the two dataframes so we can calculate the [classical - \"a priori'\"](https://web.ma.utexas.edu/users/mks/statmistakes/probability.html) probability.\n",
    "\n",
    "\\begin{align}\n",
    "P(delay)\n",
    "  = \\dfrac{delayed flights}{total flights}\n",
    "\\end{align}\n"
   ]
  },
  {
   "cell_type": "code",
   "execution_count": 15,
   "metadata": {
    "slideshow": {
     "slide_type": "fragment"
    }
   },
   "outputs": [
    {
     "data": {
      "text/html": [
       "<div>\n",
       "<style scoped>\n",
       "    .dataframe tbody tr th:only-of-type {\n",
       "        vertical-align: middle;\n",
       "    }\n",
       "\n",
       "    .dataframe tbody tr th {\n",
       "        vertical-align: top;\n",
       "    }\n",
       "\n",
       "    .dataframe thead th {\n",
       "        text-align: right;\n",
       "    }\n",
       "</style>\n",
       "<table border=\"1\" class=\"dataframe\">\n",
       "  <thead>\n",
       "    <tr style=\"text-align: right;\">\n",
       "      <th></th>\n",
       "      <th>ORIGIN</th>\n",
       "      <th>TOTAL_FLIGHTS</th>\n",
       "      <th>DEP_DELAY</th>\n",
       "      <th>PROBABILITY</th>\n",
       "    </tr>\n",
       "  </thead>\n",
       "  <tbody>\n",
       "    <tr>\n",
       "      <td>9</td>\n",
       "      <td>OGD</td>\n",
       "      <td>126</td>\n",
       "      <td>83</td>\n",
       "      <td>0.658730</td>\n",
       "    </tr>\n",
       "    <tr>\n",
       "      <td>71</td>\n",
       "      <td>SCK</td>\n",
       "      <td>747</td>\n",
       "      <td>486</td>\n",
       "      <td>0.650602</td>\n",
       "    </tr>\n",
       "    <tr>\n",
       "      <td>328</td>\n",
       "      <td>MDW</td>\n",
       "      <td>87095</td>\n",
       "      <td>51131</td>\n",
       "      <td>0.587072</td>\n",
       "    </tr>\n",
       "    <tr>\n",
       "      <td>4</td>\n",
       "      <td>HYA</td>\n",
       "      <td>89</td>\n",
       "      <td>52</td>\n",
       "      <td>0.584270</td>\n",
       "    </tr>\n",
       "    <tr>\n",
       "      <td>325</td>\n",
       "      <td>DAL</td>\n",
       "      <td>70995</td>\n",
       "      <td>40544</td>\n",
       "      <td>0.571082</td>\n",
       "    </tr>\n",
       "    <tr>\n",
       "      <td>...</td>\n",
       "      <td>...</td>\n",
       "      <td>...</td>\n",
       "      <td>...</td>\n",
       "      <td>...</td>\n",
       "    </tr>\n",
       "    <tr>\n",
       "      <td>43</td>\n",
       "      <td>EKO</td>\n",
       "      <td>647</td>\n",
       "      <td>76</td>\n",
       "      <td>0.117465</td>\n",
       "    </tr>\n",
       "    <tr>\n",
       "      <td>93</td>\n",
       "      <td>CPR</td>\n",
       "      <td>985</td>\n",
       "      <td>109</td>\n",
       "      <td>0.110660</td>\n",
       "    </tr>\n",
       "    <tr>\n",
       "      <td>54</td>\n",
       "      <td>LWS</td>\n",
       "      <td>717</td>\n",
       "      <td>65</td>\n",
       "      <td>0.090656</td>\n",
       "    </tr>\n",
       "    <tr>\n",
       "      <td>30</td>\n",
       "      <td>LBF</td>\n",
       "      <td>569</td>\n",
       "      <td>50</td>\n",
       "      <td>0.087873</td>\n",
       "    </tr>\n",
       "    <tr>\n",
       "      <td>16</td>\n",
       "      <td>EAR</td>\n",
       "      <td>200</td>\n",
       "      <td>17</td>\n",
       "      <td>0.085000</td>\n",
       "    </tr>\n",
       "  </tbody>\n",
       "</table>\n",
       "<p>354 rows × 4 columns</p>\n",
       "</div>"
      ],
      "text/plain": [
       "    ORIGIN  TOTAL_FLIGHTS  DEP_DELAY  PROBABILITY\n",
       "9      OGD            126         83     0.658730\n",
       "71     SCK            747        486     0.650602\n",
       "328    MDW          87095      51131     0.587072\n",
       "4      HYA             89         52     0.584270\n",
       "325    DAL          70995      40544     0.571082\n",
       "..     ...            ...        ...          ...\n",
       "43     EKO            647         76     0.117465\n",
       "93     CPR            985        109     0.110660\n",
       "54     LWS            717         65     0.090656\n",
       "30     LBF            569         50     0.087873\n",
       "16     EAR            200         17     0.085000\n",
       "\n",
       "[354 rows x 4 columns]"
      ]
     },
     "execution_count": 15,
     "metadata": {},
     "output_type": "execute_result"
    }
   ],
   "source": [
    "#merging the dataframes on ORIGIN key\n",
    "prob = pd.merge(airport_flights, delay_df, on='ORIGIN', how='inner').reset_index()\n",
    "\n",
    "#calculating the probability\n",
    "prob['PROBABILITY'] = prob.DEP_DELAY.div(prob.TOTAL_FLIGHTS)\n",
    "\n",
    "#descending order\n",
    "prob.sort_values(by=['PROBABILITY'], ascending=False)"
   ]
  },
  {
   "cell_type": "markdown",
   "metadata": {
    "slideshow": {
     "slide_type": "slide"
    }
   },
   "source": [
    "* We can also find the ```average``` and ```median``` delay for each airport.\n",
    "\n",
    "* Remember that we are not taking negative delays into consideration."
   ]
  },
  {
   "cell_type": "code",
   "execution_count": 16,
   "metadata": {
    "slideshow": {
     "slide_type": "subslide"
    }
   },
   "outputs": [
    {
     "data": {
      "text/html": [
       "<div>\n",
       "<style scoped>\n",
       "    .dataframe tbody tr th:only-of-type {\n",
       "        vertical-align: middle;\n",
       "    }\n",
       "\n",
       "    .dataframe tbody tr th {\n",
       "        vertical-align: top;\n",
       "    }\n",
       "\n",
       "    .dataframe thead th {\n",
       "        text-align: right;\n",
       "    }\n",
       "</style>\n",
       "<table border=\"1\" class=\"dataframe\">\n",
       "  <thead>\n",
       "    <tr style=\"text-align: right;\">\n",
       "      <th></th>\n",
       "      <th>MEAN</th>\n",
       "      <th>MEDIAN</th>\n",
       "    </tr>\n",
       "    <tr>\n",
       "      <th>ORIGIN</th>\n",
       "      <th></th>\n",
       "      <th></th>\n",
       "    </tr>\n",
       "  </thead>\n",
       "  <tbody>\n",
       "    <tr>\n",
       "      <td>ABE</td>\n",
       "      <td>52.702247</td>\n",
       "      <td>19.0</td>\n",
       "    </tr>\n",
       "    <tr>\n",
       "      <td>ABI</td>\n",
       "      <td>41.250417</td>\n",
       "      <td>18.0</td>\n",
       "    </tr>\n",
       "    <tr>\n",
       "      <td>ABQ</td>\n",
       "      <td>32.061846</td>\n",
       "      <td>14.0</td>\n",
       "    </tr>\n",
       "    <tr>\n",
       "      <td>ABR</td>\n",
       "      <td>63.883871</td>\n",
       "      <td>17.0</td>\n",
       "    </tr>\n",
       "    <tr>\n",
       "      <td>ABY</td>\n",
       "      <td>68.332168</td>\n",
       "      <td>22.0</td>\n",
       "    </tr>\n",
       "    <tr>\n",
       "      <td>...</td>\n",
       "      <td>...</td>\n",
       "      <td>...</td>\n",
       "    </tr>\n",
       "    <tr>\n",
       "      <td>WYS</td>\n",
       "      <td>15.233333</td>\n",
       "      <td>6.0</td>\n",
       "    </tr>\n",
       "    <tr>\n",
       "      <td>XNA</td>\n",
       "      <td>52.724343</td>\n",
       "      <td>23.0</td>\n",
       "    </tr>\n",
       "    <tr>\n",
       "      <td>YAK</td>\n",
       "      <td>28.740157</td>\n",
       "      <td>13.0</td>\n",
       "    </tr>\n",
       "    <tr>\n",
       "      <td>YNG</td>\n",
       "      <td>63.000000</td>\n",
       "      <td>63.0</td>\n",
       "    </tr>\n",
       "    <tr>\n",
       "      <td>YUM</td>\n",
       "      <td>28.715415</td>\n",
       "      <td>12.0</td>\n",
       "    </tr>\n",
       "  </tbody>\n",
       "</table>\n",
       "<p>358 rows × 2 columns</p>\n",
       "</div>"
      ],
      "text/plain": [
       "             MEAN  MEDIAN\n",
       "ORIGIN                   \n",
       "ABE     52.702247    19.0\n",
       "ABI     41.250417    18.0\n",
       "ABQ     32.061846    14.0\n",
       "ABR     63.883871    17.0\n",
       "ABY     68.332168    22.0\n",
       "...           ...     ...\n",
       "WYS     15.233333     6.0\n",
       "XNA     52.724343    23.0\n",
       "YAK     28.740157    13.0\n",
       "YNG     63.000000    63.0\n",
       "YUM     28.715415    12.0\n",
       "\n",
       "[358 rows x 2 columns]"
      ]
     },
     "execution_count": 16,
     "metadata": {},
     "output_type": "execute_result"
    }
   ],
   "source": [
    "#here we use the grouped_delay_df containing the delayed flights\n",
    "more_stats = grouped_delay_df.agg(['mean', 'median'])\n",
    "\n",
    "more_stats.sort_values(by=[('DEP_DELAY',   'median')], ascending=False)\n",
    "\n",
    "#prettify - lower the level\n",
    "more_stats.columns = more_stats.columns.droplevel()\n",
    "more_stats.rename(columns={'mean': 'MEAN', 'median': 'MEDIAN'}, inplace=True)\n",
    "\n",
    "more_stats"
   ]
  },
  {
   "cell_type": "markdown",
   "metadata": {
    "slideshow": {
     "slide_type": "slide"
    }
   },
   "source": [
    "* Time to put all the data together so we can see the Stats we calculated"
   ]
  },
  {
   "cell_type": "code",
   "execution_count": 17,
   "metadata": {
    "slideshow": {
     "slide_type": "slide"
    }
   },
   "outputs": [
    {
     "data": {
      "text/html": [
       "<div>\n",
       "<style scoped>\n",
       "    .dataframe tbody tr th:only-of-type {\n",
       "        vertical-align: middle;\n",
       "    }\n",
       "\n",
       "    .dataframe tbody tr th {\n",
       "        vertical-align: top;\n",
       "    }\n",
       "\n",
       "    .dataframe thead th {\n",
       "        text-align: right;\n",
       "    }\n",
       "</style>\n",
       "<table border=\"1\" class=\"dataframe\">\n",
       "  <thead>\n",
       "    <tr style=\"text-align: right;\">\n",
       "      <th></th>\n",
       "      <th>PROBABILITY</th>\n",
       "      <th>MEAN</th>\n",
       "      <th>MEDIAN</th>\n",
       "    </tr>\n",
       "    <tr>\n",
       "      <th>ORIGIN</th>\n",
       "      <th></th>\n",
       "      <th></th>\n",
       "      <th></th>\n",
       "    </tr>\n",
       "  </thead>\n",
       "  <tbody>\n",
       "    <tr>\n",
       "      <td>OGD</td>\n",
       "      <td>0.658730</td>\n",
       "      <td>30.903614</td>\n",
       "      <td>14.0</td>\n",
       "    </tr>\n",
       "    <tr>\n",
       "      <td>SCK</td>\n",
       "      <td>0.650602</td>\n",
       "      <td>38.913580</td>\n",
       "      <td>21.0</td>\n",
       "    </tr>\n",
       "    <tr>\n",
       "      <td>MDW</td>\n",
       "      <td>0.587072</td>\n",
       "      <td>26.619233</td>\n",
       "      <td>14.0</td>\n",
       "    </tr>\n",
       "    <tr>\n",
       "      <td>HYA</td>\n",
       "      <td>0.584270</td>\n",
       "      <td>61.269231</td>\n",
       "      <td>15.0</td>\n",
       "    </tr>\n",
       "    <tr>\n",
       "      <td>DAL</td>\n",
       "      <td>0.571082</td>\n",
       "      <td>26.842961</td>\n",
       "      <td>13.0</td>\n",
       "    </tr>\n",
       "    <tr>\n",
       "      <td>...</td>\n",
       "      <td>...</td>\n",
       "      <td>...</td>\n",
       "      <td>...</td>\n",
       "    </tr>\n",
       "    <tr>\n",
       "      <td>EKO</td>\n",
       "      <td>0.117465</td>\n",
       "      <td>51.039474</td>\n",
       "      <td>9.0</td>\n",
       "    </tr>\n",
       "    <tr>\n",
       "      <td>CPR</td>\n",
       "      <td>0.110660</td>\n",
       "      <td>68.073394</td>\n",
       "      <td>20.0</td>\n",
       "    </tr>\n",
       "    <tr>\n",
       "      <td>LWS</td>\n",
       "      <td>0.090656</td>\n",
       "      <td>53.815385</td>\n",
       "      <td>29.0</td>\n",
       "    </tr>\n",
       "    <tr>\n",
       "      <td>LBF</td>\n",
       "      <td>0.087873</td>\n",
       "      <td>60.140000</td>\n",
       "      <td>21.0</td>\n",
       "    </tr>\n",
       "    <tr>\n",
       "      <td>EAR</td>\n",
       "      <td>0.085000</td>\n",
       "      <td>51.882353</td>\n",
       "      <td>13.0</td>\n",
       "    </tr>\n",
       "  </tbody>\n",
       "</table>\n",
       "<p>354 rows × 3 columns</p>\n",
       "</div>"
      ],
      "text/plain": [
       "        PROBABILITY       MEAN  MEDIAN\n",
       "ORIGIN                                \n",
       "OGD        0.658730  30.903614    14.0\n",
       "SCK        0.650602  38.913580    21.0\n",
       "MDW        0.587072  26.619233    14.0\n",
       "HYA        0.584270  61.269231    15.0\n",
       "DAL        0.571082  26.842961    13.0\n",
       "...             ...        ...     ...\n",
       "EKO        0.117465  51.039474     9.0\n",
       "CPR        0.110660  68.073394    20.0\n",
       "LWS        0.090656  53.815385    29.0\n",
       "LBF        0.087873  60.140000    21.0\n",
       "EAR        0.085000  51.882353    13.0\n",
       "\n",
       "[354 rows x 3 columns]"
      ]
     },
     "execution_count": 17,
     "metadata": {},
     "output_type": "execute_result"
    }
   ],
   "source": [
    "final_prob = pd.merge(prob, more_stats, on='ORIGIN', how='inner')\n",
    "\n",
    "#since we are using an inner merge, we don't have to remove the outliers\n",
    "\n",
    "final_prob = final_prob.set_index('ORIGIN')\n",
    "\n",
    "final_prob = final_prob.drop(columns=['TOTAL_FLIGHTS', 'DEP_DELAY'])\n",
    "\n",
    "final_prob.sort_values(by=['PROBABILITY'], ascending=False, inplace=True)\n",
    "\n",
    "final_prob"
   ]
  },
  {
   "cell_type": "markdown",
   "metadata": {
    "slideshow": {
     "slide_type": "fragment"
    }
   },
   "source": [
    "* Visiting [Ogden-Hinckley Airport](https://en.wikipedia.org/wiki/Ogden-Hinckley_Airport) in Utah, there is a chance of **65%** to have a delayed flight!! Oh well...\n"
   ]
  },
  {
   "cell_type": "markdown",
   "metadata": {
    "slideshow": {
     "slide_type": "slide"
    }
   },
   "source": [
    "* These are the **Top 10 Airports with the highest probability of Delay**. Have that in mind people!"
   ]
  },
  {
   "cell_type": "code",
   "execution_count": 18,
   "metadata": {
    "slideshow": {
     "slide_type": "subslide"
    }
   },
   "outputs": [
    {
     "data": {
      "text/html": [
       "<div>\n",
       "<style scoped>\n",
       "    .dataframe tbody tr th:only-of-type {\n",
       "        vertical-align: middle;\n",
       "    }\n",
       "\n",
       "    .dataframe tbody tr th {\n",
       "        vertical-align: top;\n",
       "    }\n",
       "\n",
       "    .dataframe thead th {\n",
       "        text-align: right;\n",
       "    }\n",
       "</style>\n",
       "<table border=\"1\" class=\"dataframe\">\n",
       "  <thead>\n",
       "    <tr style=\"text-align: right;\">\n",
       "      <th></th>\n",
       "      <th>PROBABILITY</th>\n",
       "      <th>MEAN</th>\n",
       "      <th>MEDIAN</th>\n",
       "    </tr>\n",
       "    <tr>\n",
       "      <th>ORIGIN</th>\n",
       "      <th></th>\n",
       "      <th></th>\n",
       "      <th></th>\n",
       "    </tr>\n",
       "  </thead>\n",
       "  <tbody>\n",
       "    <tr>\n",
       "      <td>OGD</td>\n",
       "      <td>0.658730</td>\n",
       "      <td>30.903614</td>\n",
       "      <td>14.0</td>\n",
       "    </tr>\n",
       "    <tr>\n",
       "      <td>SCK</td>\n",
       "      <td>0.650602</td>\n",
       "      <td>38.913580</td>\n",
       "      <td>21.0</td>\n",
       "    </tr>\n",
       "    <tr>\n",
       "      <td>MDW</td>\n",
       "      <td>0.587072</td>\n",
       "      <td>26.619233</td>\n",
       "      <td>14.0</td>\n",
       "    </tr>\n",
       "    <tr>\n",
       "      <td>HYA</td>\n",
       "      <td>0.584270</td>\n",
       "      <td>61.269231</td>\n",
       "      <td>15.0</td>\n",
       "    </tr>\n",
       "    <tr>\n",
       "      <td>DAL</td>\n",
       "      <td>0.571082</td>\n",
       "      <td>26.842961</td>\n",
       "      <td>13.0</td>\n",
       "    </tr>\n",
       "    <tr>\n",
       "      <td>HOU</td>\n",
       "      <td>0.543524</td>\n",
       "      <td>25.861314</td>\n",
       "      <td>13.0</td>\n",
       "    </tr>\n",
       "    <tr>\n",
       "      <td>OWB</td>\n",
       "      <td>0.504505</td>\n",
       "      <td>59.303571</td>\n",
       "      <td>25.0</td>\n",
       "    </tr>\n",
       "    <tr>\n",
       "      <td>HGR</td>\n",
       "      <td>0.492754</td>\n",
       "      <td>58.161765</td>\n",
       "      <td>26.5</td>\n",
       "    </tr>\n",
       "    <tr>\n",
       "      <td>HTS</td>\n",
       "      <td>0.481229</td>\n",
       "      <td>41.390071</td>\n",
       "      <td>19.0</td>\n",
       "    </tr>\n",
       "    <tr>\n",
       "      <td>PPG</td>\n",
       "      <td>0.475410</td>\n",
       "      <td>106.448276</td>\n",
       "      <td>19.0</td>\n",
       "    </tr>\n",
       "  </tbody>\n",
       "</table>\n",
       "</div>"
      ],
      "text/plain": [
       "        PROBABILITY        MEAN  MEDIAN\n",
       "ORIGIN                                 \n",
       "OGD        0.658730   30.903614    14.0\n",
       "SCK        0.650602   38.913580    21.0\n",
       "MDW        0.587072   26.619233    14.0\n",
       "HYA        0.584270   61.269231    15.0\n",
       "DAL        0.571082   26.842961    13.0\n",
       "HOU        0.543524   25.861314    13.0\n",
       "OWB        0.504505   59.303571    25.0\n",
       "HGR        0.492754   58.161765    26.5\n",
       "HTS        0.481229   41.390071    19.0\n",
       "PPG        0.475410  106.448276    19.0"
      ]
     },
     "execution_count": 18,
     "metadata": {},
     "output_type": "execute_result"
    }
   ],
   "source": [
    "final_prob[:10]"
   ]
  },
  {
   "cell_type": "markdown",
   "metadata": {
    "slideshow": {
     "slide_type": "slide"
    }
   },
   "source": [
    "* Since numbers are very boring, let's plot this on an horizontal plot\n",
    "\n",
    "* We are going to use the ```seaborn``` style for our plots"
   ]
  },
  {
   "cell_type": "code",
   "execution_count": 19,
   "metadata": {
    "slideshow": {
     "slide_type": "fragment"
    }
   },
   "outputs": [],
   "source": [
    "plt.style.use('seaborn')"
   ]
  },
  {
   "cell_type": "code",
   "execution_count": 20,
   "metadata": {
    "slideshow": {
     "slide_type": "slide"
    }
   },
   "outputs": [
    {
     "data": {
      "text/plain": [
       "<BarContainer object of 10 artists>"
      ]
     },
     "execution_count": 20,
     "metadata": {},
     "output_type": "execute_result"
    },
    {
     "data": {
      "image/png": "[encoded data removed]",
      "text/plain": [
       "<Figure size 864x720 with 1 Axes>"
      ]
     },
     "metadata": {},
     "output_type": "display_data"
    }
   ],
   "source": [
    "final_prob = final_prob.reset_index()\n",
    "\n",
    "final_prob.sort_values(by=['PROBABILITY'], inplace=True)\n",
    "\n",
    "perc = []\n",
    "for i in range(7):\n",
    "    perc.append(str(i*10)+'%')\n",
    "\n",
    "# Top 10 airports with the highest probability of delay\n",
    "top10 = final_prob[-10:]\n",
    "\n",
    "fig, ax = plt.subplots()\n",
    "\n",
    "ax.set_ylabel('Airports')\n",
    "ax.set_xlabel('Probability of Delay')\n",
    "ax.set_title('Top 10 Aiports with the highest probability of delay')\n",
    "\n",
    "fig.set_size_inches(12, 10)\n",
    "ax.set_xticklabels(perc)\n",
    "\n",
    "ax.barh(top10.ORIGIN, top10.PROBABILITY, align='center')"
   ]
  },
  {
   "cell_type": "markdown",
   "metadata": {
    "slideshow": {
     "slide_type": "slide"
    }
   },
   "source": [
    "## \"MISERY INDEX\" for airlines <a class=\"anchor\" id=\"question2\"></a>"
   ]
  },
  {
   "cell_type": "markdown",
   "metadata": {
    "slideshow": {
     "slide_type": "subslide"
    }
   },
   "source": [
    "* A delayed flight can be caused due to many reasons like security issues, bad airport infrastracture, inappropriate weather, technical aircraft errors e.t.c.\n",
    "\n",
    "* To create a Misery Index for the airlines, we are going to base our analysis on the ```CARRIER DELAY``` column.\n",
    "\n",
    "* We are going to find the airlines that are making life difficult for passengers.  "
   ]
  },
  {
   "cell_type": "code",
   "execution_count": 21,
   "metadata": {
    "slideshow": {
     "slide_type": "slide"
    }
   },
   "outputs": [
    {
     "data": {
      "text/plain": [
       "18"
      ]
     },
     "execution_count": 21,
     "metadata": {},
     "output_type": "execute_result"
    }
   ],
   "source": [
    "len(flights.CARRIER.unique())"
   ]
  },
  {
   "cell_type": "markdown",
   "metadata": {
    "slideshow": {
     "slide_type": "fragment"
    }
   },
   "source": [
    "* It seems we have 18 different Carriers\n",
    "\n",
    "* We are looking for the Total Flights per carrier."
   ]
  },
  {
   "cell_type": "code",
   "execution_count": 22,
   "metadata": {
    "slideshow": {
     "slide_type": "slide"
    }
   },
   "outputs": [
    {
     "data": {
      "text/html": [
       "<div>\n",
       "<style scoped>\n",
       "    .dataframe tbody tr th:only-of-type {\n",
       "        vertical-align: middle;\n",
       "    }\n",
       "\n",
       "    .dataframe tbody tr th {\n",
       "        vertical-align: top;\n",
       "    }\n",
       "\n",
       "    .dataframe thead th {\n",
       "        text-align: right;\n",
       "    }\n",
       "</style>\n",
       "<table border=\"1\" class=\"dataframe\">\n",
       "  <thead>\n",
       "    <tr style=\"text-align: right;\">\n",
       "      <th></th>\n",
       "      <th>total_flights</th>\n",
       "    </tr>\n",
       "    <tr>\n",
       "      <th>CARRIER</th>\n",
       "      <th></th>\n",
       "    </tr>\n",
       "  </thead>\n",
       "  <tbody>\n",
       "    <tr>\n",
       "      <td>9E</td>\n",
       "      <td>245917</td>\n",
       "    </tr>\n",
       "    <tr>\n",
       "      <td>AA</td>\n",
       "      <td>916818</td>\n",
       "    </tr>\n",
       "    <tr>\n",
       "      <td>AS</td>\n",
       "      <td>245761</td>\n",
       "    </tr>\n",
       "    <tr>\n",
       "      <td>B6</td>\n",
       "      <td>305010</td>\n",
       "    </tr>\n",
       "    <tr>\n",
       "      <td>DL</td>\n",
       "      <td>949283</td>\n",
       "    </tr>\n",
       "    <tr>\n",
       "      <td>EV</td>\n",
       "      <td>202890</td>\n",
       "    </tr>\n",
       "    <tr>\n",
       "      <td>F9</td>\n",
       "      <td>120035</td>\n",
       "    </tr>\n",
       "    <tr>\n",
       "      <td>G4</td>\n",
       "      <td>96221</td>\n",
       "    </tr>\n",
       "    <tr>\n",
       "      <td>HA</td>\n",
       "      <td>83723</td>\n",
       "    </tr>\n",
       "    <tr>\n",
       "      <td>MQ</td>\n",
       "      <td>296001</td>\n",
       "    </tr>\n",
       "    <tr>\n",
       "      <td>NK</td>\n",
       "      <td>176178</td>\n",
       "    </tr>\n",
       "    <tr>\n",
       "      <td>OH</td>\n",
       "      <td>278457</td>\n",
       "    </tr>\n",
       "    <tr>\n",
       "      <td>OO</td>\n",
       "      <td>774137</td>\n",
       "    </tr>\n",
       "    <tr>\n",
       "      <td>UA</td>\n",
       "      <td>621565</td>\n",
       "    </tr>\n",
       "    <tr>\n",
       "      <td>VX</td>\n",
       "      <td>17670</td>\n",
       "    </tr>\n",
       "    <tr>\n",
       "      <td>WN</td>\n",
       "      <td>1352552</td>\n",
       "    </tr>\n",
       "    <tr>\n",
       "      <td>YV</td>\n",
       "      <td>215138</td>\n",
       "    </tr>\n",
       "    <tr>\n",
       "      <td>YX</td>\n",
       "      <td>316090</td>\n",
       "    </tr>\n",
       "  </tbody>\n",
       "</table>\n",
       "</div>"
      ],
      "text/plain": [
       "         total_flights\n",
       "CARRIER               \n",
       "9E              245917\n",
       "AA              916818\n",
       "AS              245761\n",
       "B6              305010\n",
       "DL              949283\n",
       "EV              202890\n",
       "F9              120035\n",
       "G4               96221\n",
       "HA               83723\n",
       "MQ              296001\n",
       "NK              176178\n",
       "OH              278457\n",
       "OO              774137\n",
       "UA              621565\n",
       "VX               17670\n",
       "WN             1352552\n",
       "YV              215138\n",
       "YX              316090"
      ]
     },
     "execution_count": 22,
     "metadata": {},
     "output_type": "execute_result"
    }
   ],
   "source": [
    "#how many flights per Carrier\n",
    "grouped_carrier_flights = flights.groupby('CARRIER').size()\n",
    "\n",
    "carrier_flights = pd.DataFrame(grouped_carrier_flights, columns=['total_flights'])\n",
    "\n",
    "carrier_flights"
   ]
  },
  {
   "cell_type": "code",
   "execution_count": 23,
   "metadata": {
    "slideshow": {
     "slide_type": "slide"
    }
   },
   "outputs": [
    {
     "data": {
      "text/html": [
       "<div>\n",
       "<style scoped>\n",
       "    .dataframe tbody tr th:only-of-type {\n",
       "        vertical-align: middle;\n",
       "    }\n",
       "\n",
       "    .dataframe tbody tr th {\n",
       "        vertical-align: top;\n",
       "    }\n",
       "\n",
       "    .dataframe thead th {\n",
       "        text-align: right;\n",
       "    }\n",
       "</style>\n",
       "<table border=\"1\" class=\"dataframe\">\n",
       "  <thead>\n",
       "    <tr style=\"text-align: right;\">\n",
       "      <th></th>\n",
       "      <th>CARRIER_DELAY</th>\n",
       "    </tr>\n",
       "    <tr>\n",
       "      <th>CARRIER</th>\n",
       "      <th></th>\n",
       "    </tr>\n",
       "  </thead>\n",
       "  <tbody>\n",
       "    <tr>\n",
       "      <td>9E</td>\n",
       "      <td>17291</td>\n",
       "    </tr>\n",
       "    <tr>\n",
       "      <td>AA</td>\n",
       "      <td>96337</td>\n",
       "    </tr>\n",
       "    <tr>\n",
       "      <td>AS</td>\n",
       "      <td>12416</td>\n",
       "    </tr>\n",
       "    <tr>\n",
       "      <td>B6</td>\n",
       "      <td>55247</td>\n",
       "    </tr>\n",
       "    <tr>\n",
       "      <td>DL</td>\n",
       "      <td>65604</td>\n",
       "    </tr>\n",
       "    <tr>\n",
       "      <td>EV</td>\n",
       "      <td>17247</td>\n",
       "    </tr>\n",
       "    <tr>\n",
       "      <td>F9</td>\n",
       "      <td>18816</td>\n",
       "    </tr>\n",
       "    <tr>\n",
       "      <td>G4</td>\n",
       "      <td>9876</td>\n",
       "    </tr>\n",
       "    <tr>\n",
       "      <td>HA</td>\n",
       "      <td>7375</td>\n",
       "    </tr>\n",
       "    <tr>\n",
       "      <td>MQ</td>\n",
       "      <td>23155</td>\n",
       "    </tr>\n",
       "    <tr>\n",
       "      <td>NK</td>\n",
       "      <td>10304</td>\n",
       "    </tr>\n",
       "    <tr>\n",
       "      <td>OH</td>\n",
       "      <td>30304</td>\n",
       "    </tr>\n",
       "    <tr>\n",
       "      <td>OO</td>\n",
       "      <td>44202</td>\n",
       "    </tr>\n",
       "    <tr>\n",
       "      <td>UA</td>\n",
       "      <td>49043</td>\n",
       "    </tr>\n",
       "    <tr>\n",
       "      <td>VX</td>\n",
       "      <td>1166</td>\n",
       "    </tr>\n",
       "    <tr>\n",
       "      <td>WN</td>\n",
       "      <td>163911</td>\n",
       "    </tr>\n",
       "    <tr>\n",
       "      <td>YV</td>\n",
       "      <td>19022</td>\n",
       "    </tr>\n",
       "    <tr>\n",
       "      <td>YX</td>\n",
       "      <td>20836</td>\n",
       "    </tr>\n",
       "  </tbody>\n",
       "</table>\n",
       "</div>"
      ],
      "text/plain": [
       "         CARRIER_DELAY\n",
       "CARRIER               \n",
       "9E               17291\n",
       "AA               96337\n",
       "AS               12416\n",
       "B6               55247\n",
       "DL               65604\n",
       "EV               17247\n",
       "F9               18816\n",
       "G4                9876\n",
       "HA                7375\n",
       "MQ               23155\n",
       "NK               10304\n",
       "OH               30304\n",
       "OO               44202\n",
       "UA               49043\n",
       "VX                1166\n",
       "WN              163911\n",
       "YV               19022\n",
       "YX               20836"
      ]
     },
     "execution_count": 23,
     "metadata": {},
     "output_type": "execute_result"
    }
   ],
   "source": [
    "#find the flights that had a delay\n",
    "actual_delays = flights.loc[flights.CARRIER_DELAY > 0]\n",
    "\n",
    "#hold only the columns that we are interested in\n",
    "delays = actual_delays.loc[:, ['CARRIER', 'CARRIER_DELAY']]\n",
    "\n",
    "grouped_delays = delays.groupby('CARRIER')\n",
    "\n",
    "counted_delays = pd.DataFrame(grouped_delays.count())\n",
    "\n",
    "counted_delays"
   ]
  },
  {
   "cell_type": "markdown",
   "metadata": {
    "slideshow": {
     "slide_type": "slide"
    }
   },
   "source": [
    "So the only thing we have to do now is to merge and calculate the probability according to the ```mathematical formula```"
   ]
  },
  {
   "cell_type": "code",
   "execution_count": 24,
   "metadata": {
    "slideshow": {
     "slide_type": "fragment"
    }
   },
   "outputs": [
    {
     "data": {
      "text/html": [
       "<div>\n",
       "<style scoped>\n",
       "    .dataframe tbody tr th:only-of-type {\n",
       "        vertical-align: middle;\n",
       "    }\n",
       "\n",
       "    .dataframe tbody tr th {\n",
       "        vertical-align: top;\n",
       "    }\n",
       "\n",
       "    .dataframe thead th {\n",
       "        text-align: right;\n",
       "    }\n",
       "</style>\n",
       "<table border=\"1\" class=\"dataframe\">\n",
       "  <thead>\n",
       "    <tr style=\"text-align: right;\">\n",
       "      <th></th>\n",
       "      <th>DELAY_PROB</th>\n",
       "    </tr>\n",
       "    <tr>\n",
       "      <th>CARRIER</th>\n",
       "      <th></th>\n",
       "    </tr>\n",
       "  </thead>\n",
       "  <tbody>\n",
       "    <tr>\n",
       "      <td>B6</td>\n",
       "      <td>0.181132</td>\n",
       "    </tr>\n",
       "    <tr>\n",
       "      <td>F9</td>\n",
       "      <td>0.156754</td>\n",
       "    </tr>\n",
       "    <tr>\n",
       "      <td>WN</td>\n",
       "      <td>0.121186</td>\n",
       "    </tr>\n",
       "    <tr>\n",
       "      <td>OH</td>\n",
       "      <td>0.108828</td>\n",
       "    </tr>\n",
       "    <tr>\n",
       "      <td>AA</td>\n",
       "      <td>0.105078</td>\n",
       "    </tr>\n",
       "  </tbody>\n",
       "</table>\n",
       "</div>"
      ],
      "text/plain": [
       "         DELAY_PROB\n",
       "CARRIER            \n",
       "B6         0.181132\n",
       "F9         0.156754\n",
       "WN         0.121186\n",
       "OH         0.108828\n",
       "AA         0.105078"
      ]
     },
     "execution_count": 24,
     "metadata": {},
     "output_type": "execute_result"
    }
   ],
   "source": [
    "carrier_prob = pd.merge(carrier_flights, counted_delays, on='CARRIER', how='inner')\n",
    "\n",
    "#calculate the probability\n",
    "carrier_prob = carrier_prob.CARRIER_DELAY / carrier_prob.total_flights\n",
    "\n",
    "carrier_prob = pd.DataFrame(carrier_prob, columns=['DELAY_PROB'])\n",
    "\n",
    "carrier_prob.sort_values(by=['DELAY_PROB'], inplace=True, ascending=False)\n",
    "\n",
    "carrier_prob.head()"
   ]
  },
  {
   "cell_type": "markdown",
   "metadata": {
    "slideshow": {
     "slide_type": "slide"
    }
   },
   "source": [
    "* We now want to find the **average and median delay of each carrier**\n",
    "\n",
    "* The dataframe ```grouped_delays``` is already created so we are going to use that"
   ]
  },
  {
   "cell_type": "code",
   "execution_count": 25,
   "metadata": {
    "slideshow": {
     "slide_type": "fragment"
    }
   },
   "outputs": [
    {
     "data": {
      "text/html": [
       "<div>\n",
       "<style scoped>\n",
       "    .dataframe tbody tr th:only-of-type {\n",
       "        vertical-align: middle;\n",
       "    }\n",
       "\n",
       "    .dataframe tbody tr th {\n",
       "        vertical-align: top;\n",
       "    }\n",
       "\n",
       "    .dataframe thead th {\n",
       "        text-align: right;\n",
       "    }\n",
       "</style>\n",
       "<table border=\"1\" class=\"dataframe\">\n",
       "  <thead>\n",
       "    <tr style=\"text-align: right;\">\n",
       "      <th></th>\n",
       "      <th>MEAN_DELAY</th>\n",
       "      <th>MEDIAN_DELAY</th>\n",
       "    </tr>\n",
       "    <tr>\n",
       "      <th>CARRIER</th>\n",
       "      <th></th>\n",
       "      <th></th>\n",
       "    </tr>\n",
       "  </thead>\n",
       "  <tbody>\n",
       "    <tr>\n",
       "      <td>9E</td>\n",
       "      <td>51.227517</td>\n",
       "      <td>23.0</td>\n",
       "    </tr>\n",
       "    <tr>\n",
       "      <td>AA</td>\n",
       "      <td>38.773887</td>\n",
       "      <td>19.0</td>\n",
       "    </tr>\n",
       "    <tr>\n",
       "      <td>AS</td>\n",
       "      <td>43.478334</td>\n",
       "      <td>25.0</td>\n",
       "    </tr>\n",
       "    <tr>\n",
       "      <td>B6</td>\n",
       "      <td>32.796460</td>\n",
       "      <td>15.0</td>\n",
       "    </tr>\n",
       "    <tr>\n",
       "      <td>DL</td>\n",
       "      <td>44.403832</td>\n",
       "      <td>18.0</td>\n",
       "    </tr>\n",
       "    <tr>\n",
       "      <td>EV</td>\n",
       "      <td>66.355366</td>\n",
       "      <td>27.0</td>\n",
       "    </tr>\n",
       "    <tr>\n",
       "      <td>F9</td>\n",
       "      <td>36.818612</td>\n",
       "      <td>18.0</td>\n",
       "    </tr>\n",
       "    <tr>\n",
       "      <td>G4</td>\n",
       "      <td>58.956561</td>\n",
       "      <td>23.0</td>\n",
       "    </tr>\n",
       "    <tr>\n",
       "      <td>HA</td>\n",
       "      <td>33.972610</td>\n",
       "      <td>19.0</td>\n",
       "    </tr>\n",
       "    <tr>\n",
       "      <td>MQ</td>\n",
       "      <td>34.160484</td>\n",
       "      <td>17.0</td>\n",
       "    </tr>\n",
       "    <tr>\n",
       "      <td>NK</td>\n",
       "      <td>40.012325</td>\n",
       "      <td>16.0</td>\n",
       "    </tr>\n",
       "    <tr>\n",
       "      <td>OH</td>\n",
       "      <td>33.348766</td>\n",
       "      <td>15.0</td>\n",
       "    </tr>\n",
       "    <tr>\n",
       "      <td>OO</td>\n",
       "      <td>80.612235</td>\n",
       "      <td>35.0</td>\n",
       "    </tr>\n",
       "    <tr>\n",
       "      <td>UA</td>\n",
       "      <td>38.866872</td>\n",
       "      <td>18.0</td>\n",
       "    </tr>\n",
       "    <tr>\n",
       "      <td>VX</td>\n",
       "      <td>45.530875</td>\n",
       "      <td>27.0</td>\n",
       "    </tr>\n",
       "    <tr>\n",
       "      <td>WN</td>\n",
       "      <td>25.354265</td>\n",
       "      <td>13.0</td>\n",
       "    </tr>\n",
       "    <tr>\n",
       "      <td>YV</td>\n",
       "      <td>55.892283</td>\n",
       "      <td>28.0</td>\n",
       "    </tr>\n",
       "    <tr>\n",
       "      <td>YX</td>\n",
       "      <td>38.667307</td>\n",
       "      <td>19.0</td>\n",
       "    </tr>\n",
       "  </tbody>\n",
       "</table>\n",
       "</div>"
      ],
      "text/plain": [
       "         MEAN_DELAY  MEDIAN_DELAY\n",
       "CARRIER                          \n",
       "9E        51.227517          23.0\n",
       "AA        38.773887          19.0\n",
       "AS        43.478334          25.0\n",
       "B6        32.796460          15.0\n",
       "DL        44.403832          18.0\n",
       "EV        66.355366          27.0\n",
       "F9        36.818612          18.0\n",
       "G4        58.956561          23.0\n",
       "HA        33.972610          19.0\n",
       "MQ        34.160484          17.0\n",
       "NK        40.012325          16.0\n",
       "OH        33.348766          15.0\n",
       "OO        80.612235          35.0\n",
       "UA        38.866872          18.0\n",
       "VX        45.530875          27.0\n",
       "WN        25.354265          13.0\n",
       "YV        55.892283          28.0\n",
       "YX        38.667307          19.0"
      ]
     },
     "execution_count": 25,
     "metadata": {},
     "output_type": "execute_result"
    }
   ],
   "source": [
    "more_carrier_stats = grouped_delays.agg(['mean', 'median'])\n",
    "\n",
    "# Drop one level since we want to merge 2 df with the same level\n",
    "more_carrier_stats.columns = more_carrier_stats.columns.droplevel()\n",
    "\n",
    "more_carrier_stats.rename(columns={'mean': 'MEAN_DELAY', 'median': 'MEDIAN_DELAY'}, inplace=True)\n",
    "\n",
    "more_carrier_stats"
   ]
  },
  {
   "cell_type": "markdown",
   "metadata": {
    "slideshow": {
     "slide_type": "slide"
    }
   },
   "source": [
    "It's merging time. Let's tabulate"
   ]
  },
  {
   "cell_type": "code",
   "execution_count": 26,
   "metadata": {
    "slideshow": {
     "slide_type": "subslide"
    }
   },
   "outputs": [
    {
     "data": {
      "text/html": [
       "<div>\n",
       "<style scoped>\n",
       "    .dataframe tbody tr th:only-of-type {\n",
       "        vertical-align: middle;\n",
       "    }\n",
       "\n",
       "    .dataframe tbody tr th {\n",
       "        vertical-align: top;\n",
       "    }\n",
       "\n",
       "    .dataframe thead th {\n",
       "        text-align: right;\n",
       "    }\n",
       "</style>\n",
       "<table border=\"1\" class=\"dataframe\">\n",
       "  <thead>\n",
       "    <tr style=\"text-align: right;\">\n",
       "      <th></th>\n",
       "      <th>DELAY_PROB</th>\n",
       "      <th>MEAN_DELAY</th>\n",
       "      <th>MEDIAN_DELAY</th>\n",
       "    </tr>\n",
       "    <tr>\n",
       "      <th>CARRIER</th>\n",
       "      <th></th>\n",
       "      <th></th>\n",
       "      <th></th>\n",
       "    </tr>\n",
       "  </thead>\n",
       "  <tbody>\n",
       "    <tr>\n",
       "      <td>B6</td>\n",
       "      <td>0.181132</td>\n",
       "      <td>32.796460</td>\n",
       "      <td>15.0</td>\n",
       "    </tr>\n",
       "    <tr>\n",
       "      <td>F9</td>\n",
       "      <td>0.156754</td>\n",
       "      <td>36.818612</td>\n",
       "      <td>18.0</td>\n",
       "    </tr>\n",
       "    <tr>\n",
       "      <td>WN</td>\n",
       "      <td>0.121186</td>\n",
       "      <td>25.354265</td>\n",
       "      <td>13.0</td>\n",
       "    </tr>\n",
       "    <tr>\n",
       "      <td>OH</td>\n",
       "      <td>0.108828</td>\n",
       "      <td>33.348766</td>\n",
       "      <td>15.0</td>\n",
       "    </tr>\n",
       "    <tr>\n",
       "      <td>AA</td>\n",
       "      <td>0.105078</td>\n",
       "      <td>38.773887</td>\n",
       "      <td>19.0</td>\n",
       "    </tr>\n",
       "    <tr>\n",
       "      <td>G4</td>\n",
       "      <td>0.102639</td>\n",
       "      <td>58.956561</td>\n",
       "      <td>23.0</td>\n",
       "    </tr>\n",
       "    <tr>\n",
       "      <td>YV</td>\n",
       "      <td>0.088418</td>\n",
       "      <td>55.892283</td>\n",
       "      <td>28.0</td>\n",
       "    </tr>\n",
       "    <tr>\n",
       "      <td>HA</td>\n",
       "      <td>0.088088</td>\n",
       "      <td>33.972610</td>\n",
       "      <td>19.0</td>\n",
       "    </tr>\n",
       "    <tr>\n",
       "      <td>EV</td>\n",
       "      <td>0.085007</td>\n",
       "      <td>66.355366</td>\n",
       "      <td>27.0</td>\n",
       "    </tr>\n",
       "    <tr>\n",
       "      <td>UA</td>\n",
       "      <td>0.078902</td>\n",
       "      <td>38.866872</td>\n",
       "      <td>18.0</td>\n",
       "    </tr>\n",
       "    <tr>\n",
       "      <td>MQ</td>\n",
       "      <td>0.078226</td>\n",
       "      <td>34.160484</td>\n",
       "      <td>17.0</td>\n",
       "    </tr>\n",
       "    <tr>\n",
       "      <td>9E</td>\n",
       "      <td>0.070312</td>\n",
       "      <td>51.227517</td>\n",
       "      <td>23.0</td>\n",
       "    </tr>\n",
       "    <tr>\n",
       "      <td>DL</td>\n",
       "      <td>0.069109</td>\n",
       "      <td>44.403832</td>\n",
       "      <td>18.0</td>\n",
       "    </tr>\n",
       "    <tr>\n",
       "      <td>VX</td>\n",
       "      <td>0.065988</td>\n",
       "      <td>45.530875</td>\n",
       "      <td>27.0</td>\n",
       "    </tr>\n",
       "    <tr>\n",
       "      <td>YX</td>\n",
       "      <td>0.065918</td>\n",
       "      <td>38.667307</td>\n",
       "      <td>19.0</td>\n",
       "    </tr>\n",
       "    <tr>\n",
       "      <td>NK</td>\n",
       "      <td>0.058486</td>\n",
       "      <td>40.012325</td>\n",
       "      <td>16.0</td>\n",
       "    </tr>\n",
       "    <tr>\n",
       "      <td>OO</td>\n",
       "      <td>0.057098</td>\n",
       "      <td>80.612235</td>\n",
       "      <td>35.0</td>\n",
       "    </tr>\n",
       "    <tr>\n",
       "      <td>AS</td>\n",
       "      <td>0.050521</td>\n",
       "      <td>43.478334</td>\n",
       "      <td>25.0</td>\n",
       "    </tr>\n",
       "  </tbody>\n",
       "</table>\n",
       "</div>"
      ],
      "text/plain": [
       "         DELAY_PROB  MEAN_DELAY  MEDIAN_DELAY\n",
       "CARRIER                                      \n",
       "B6         0.181132   32.796460          15.0\n",
       "F9         0.156754   36.818612          18.0\n",
       "WN         0.121186   25.354265          13.0\n",
       "OH         0.108828   33.348766          15.0\n",
       "AA         0.105078   38.773887          19.0\n",
       "G4         0.102639   58.956561          23.0\n",
       "YV         0.088418   55.892283          28.0\n",
       "HA         0.088088   33.972610          19.0\n",
       "EV         0.085007   66.355366          27.0\n",
       "UA         0.078902   38.866872          18.0\n",
       "MQ         0.078226   34.160484          17.0\n",
       "9E         0.070312   51.227517          23.0\n",
       "DL         0.069109   44.403832          18.0\n",
       "VX         0.065988   45.530875          27.0\n",
       "YX         0.065918   38.667307          19.0\n",
       "NK         0.058486   40.012325          16.0\n",
       "OO         0.057098   80.612235          35.0\n",
       "AS         0.050521   43.478334          25.0"
      ]
     },
     "execution_count": 26,
     "metadata": {},
     "output_type": "execute_result"
    }
   ],
   "source": [
    "total_carrier_stats = pd.merge(carrier_prob, more_carrier_stats, on='CARRIER', how='inner')\n",
    "\n",
    "#Sorting by Delayed Probability\n",
    "total_carrier_stats.sort_values(by=['DELAY_PROB'], ascending=False, inplace=True)\n",
    "\n",
    "total_carrier_stats"
   ]
  },
  {
   "cell_type": "markdown",
   "metadata": {
    "slideshow": {
     "slide_type": "slide"
    }
   },
   "source": [
    "We will now use the lookup table of the Dataset Documentation so we can include airline names in our results"
   ]
  },
  {
   "cell_type": "code",
   "execution_count": 27,
   "metadata": {
    "slideshow": {
     "slide_type": "fragment"
    }
   },
   "outputs": [
    {
     "data": {
      "text/html": [
       "<div>\n",
       "<style scoped>\n",
       "    .dataframe tbody tr th:only-of-type {\n",
       "        vertical-align: middle;\n",
       "    }\n",
       "\n",
       "    .dataframe tbody tr th {\n",
       "        vertical-align: top;\n",
       "    }\n",
       "\n",
       "    .dataframe thead th {\n",
       "        text-align: right;\n",
       "    }\n",
       "</style>\n",
       "<table border=\"1\" class=\"dataframe\">\n",
       "  <thead>\n",
       "    <tr style=\"text-align: right;\">\n",
       "      <th></th>\n",
       "      <th>Code</th>\n",
       "      <th>Description</th>\n",
       "    </tr>\n",
       "  </thead>\n",
       "  <tbody>\n",
       "    <tr>\n",
       "      <td>0</td>\n",
       "      <td>02Q</td>\n",
       "      <td>Titan Airways</td>\n",
       "    </tr>\n",
       "    <tr>\n",
       "      <td>1</td>\n",
       "      <td>04Q</td>\n",
       "      <td>Tradewind Aviation</td>\n",
       "    </tr>\n",
       "    <tr>\n",
       "      <td>2</td>\n",
       "      <td>05Q</td>\n",
       "      <td>Comlux Aviation, AG</td>\n",
       "    </tr>\n",
       "    <tr>\n",
       "      <td>3</td>\n",
       "      <td>06Q</td>\n",
       "      <td>Master Top Linhas Aereas Ltd.</td>\n",
       "    </tr>\n",
       "    <tr>\n",
       "      <td>4</td>\n",
       "      <td>07Q</td>\n",
       "      <td>Flair Airlines Ltd.</td>\n",
       "    </tr>\n",
       "    <tr>\n",
       "      <td>...</td>\n",
       "      <td>...</td>\n",
       "      <td>...</td>\n",
       "    </tr>\n",
       "    <tr>\n",
       "      <td>1660</td>\n",
       "      <td>ZW</td>\n",
       "      <td>Air Wisconsin Airlines Corp</td>\n",
       "    </tr>\n",
       "    <tr>\n",
       "      <td>1661</td>\n",
       "      <td>ZX</td>\n",
       "      <td>Air Georgian</td>\n",
       "    </tr>\n",
       "    <tr>\n",
       "      <td>1662</td>\n",
       "      <td>ZX (1)</td>\n",
       "      <td>Airbc Ltd.</td>\n",
       "    </tr>\n",
       "    <tr>\n",
       "      <td>1663</td>\n",
       "      <td>ZY</td>\n",
       "      <td>Atlantic Gulf Airlines</td>\n",
       "    </tr>\n",
       "    <tr>\n",
       "      <td>1664</td>\n",
       "      <td>ZYZ</td>\n",
       "      <td>Skyway Aviation Inc.</td>\n",
       "    </tr>\n",
       "  </tbody>\n",
       "</table>\n",
       "<p>1665 rows × 2 columns</p>\n",
       "</div>"
      ],
      "text/plain": [
       "        Code                    Description\n",
       "0        02Q                  Titan Airways\n",
       "1        04Q             Tradewind Aviation\n",
       "2        05Q            Comlux Aviation, AG\n",
       "3        06Q  Master Top Linhas Aereas Ltd.\n",
       "4        07Q            Flair Airlines Ltd.\n",
       "...      ...                            ...\n",
       "1660      ZW    Air Wisconsin Airlines Corp\n",
       "1661      ZX                   Air Georgian\n",
       "1662  ZX (1)                     Airbc Ltd.\n",
       "1663      ZY         Atlantic Gulf Airlines\n",
       "1664     ZYZ           Skyway Aviation Inc.\n",
       "\n",
       "[1665 rows x 2 columns]"
      ]
     },
     "execution_count": 27,
     "metadata": {},
     "output_type": "execute_result"
    }
   ],
   "source": [
    "carrier_lookup = pd.read_csv('data/L_UNIQUE_CARRIERS.csv_')\n",
    "\n",
    "carrier_lookup"
   ]
  },
  {
   "cell_type": "code",
   "execution_count": 28,
   "metadata": {
    "slideshow": {
     "slide_type": "slide"
    }
   },
   "outputs": [
    {
     "data": {
      "text/html": [
       "<div>\n",
       "<style scoped>\n",
       "    .dataframe tbody tr th:only-of-type {\n",
       "        vertical-align: middle;\n",
       "    }\n",
       "\n",
       "    .dataframe tbody tr th {\n",
       "        vertical-align: top;\n",
       "    }\n",
       "\n",
       "    .dataframe thead th {\n",
       "        text-align: right;\n",
       "    }\n",
       "</style>\n",
       "<table border=\"1\" class=\"dataframe\">\n",
       "  <thead>\n",
       "    <tr style=\"text-align: right;\">\n",
       "      <th></th>\n",
       "      <th>DELAY_PROB</th>\n",
       "      <th>MEAN_DELAY</th>\n",
       "      <th>MEDIAN_DELAY</th>\n",
       "      <th>CODE_DESC</th>\n",
       "    </tr>\n",
       "    <tr>\n",
       "      <th>Code</th>\n",
       "      <th></th>\n",
       "      <th></th>\n",
       "      <th></th>\n",
       "      <th></th>\n",
       "    </tr>\n",
       "  </thead>\n",
       "  <tbody>\n",
       "    <tr>\n",
       "      <td>B6</td>\n",
       "      <td>0.181132</td>\n",
       "      <td>32.796460</td>\n",
       "      <td>15.0</td>\n",
       "      <td>JetBlue Airways</td>\n",
       "    </tr>\n",
       "    <tr>\n",
       "      <td>F9</td>\n",
       "      <td>0.156754</td>\n",
       "      <td>36.818612</td>\n",
       "      <td>18.0</td>\n",
       "      <td>Frontier Airlines Inc.</td>\n",
       "    </tr>\n",
       "    <tr>\n",
       "      <td>WN</td>\n",
       "      <td>0.121186</td>\n",
       "      <td>25.354265</td>\n",
       "      <td>13.0</td>\n",
       "      <td>Southwest Airlines Co.</td>\n",
       "    </tr>\n",
       "    <tr>\n",
       "      <td>OH</td>\n",
       "      <td>0.108828</td>\n",
       "      <td>33.348766</td>\n",
       "      <td>15.0</td>\n",
       "      <td>PSA Airlines Inc.</td>\n",
       "    </tr>\n",
       "    <tr>\n",
       "      <td>AA</td>\n",
       "      <td>0.105078</td>\n",
       "      <td>38.773887</td>\n",
       "      <td>19.0</td>\n",
       "      <td>American Airlines Inc.</td>\n",
       "    </tr>\n",
       "    <tr>\n",
       "      <td>G4</td>\n",
       "      <td>0.102639</td>\n",
       "      <td>58.956561</td>\n",
       "      <td>23.0</td>\n",
       "      <td>Allegiant Air</td>\n",
       "    </tr>\n",
       "    <tr>\n",
       "      <td>YV</td>\n",
       "      <td>0.088418</td>\n",
       "      <td>55.892283</td>\n",
       "      <td>28.0</td>\n",
       "      <td>Mesa Airlines Inc.</td>\n",
       "    </tr>\n",
       "    <tr>\n",
       "      <td>HA</td>\n",
       "      <td>0.088088</td>\n",
       "      <td>33.972610</td>\n",
       "      <td>19.0</td>\n",
       "      <td>Hawaiian Airlines Inc.</td>\n",
       "    </tr>\n",
       "    <tr>\n",
       "      <td>EV</td>\n",
       "      <td>0.085007</td>\n",
       "      <td>66.355366</td>\n",
       "      <td>27.0</td>\n",
       "      <td>ExpressJet Airlines LLC</td>\n",
       "    </tr>\n",
       "    <tr>\n",
       "      <td>UA</td>\n",
       "      <td>0.078902</td>\n",
       "      <td>38.866872</td>\n",
       "      <td>18.0</td>\n",
       "      <td>United Air Lines Inc.</td>\n",
       "    </tr>\n",
       "    <tr>\n",
       "      <td>MQ</td>\n",
       "      <td>0.078226</td>\n",
       "      <td>34.160484</td>\n",
       "      <td>17.0</td>\n",
       "      <td>Envoy Air</td>\n",
       "    </tr>\n",
       "    <tr>\n",
       "      <td>9E</td>\n",
       "      <td>0.070312</td>\n",
       "      <td>51.227517</td>\n",
       "      <td>23.0</td>\n",
       "      <td>Endeavor Air Inc.</td>\n",
       "    </tr>\n",
       "    <tr>\n",
       "      <td>DL</td>\n",
       "      <td>0.069109</td>\n",
       "      <td>44.403832</td>\n",
       "      <td>18.0</td>\n",
       "      <td>Delta Air Lines Inc.</td>\n",
       "    </tr>\n",
       "    <tr>\n",
       "      <td>VX</td>\n",
       "      <td>0.065988</td>\n",
       "      <td>45.530875</td>\n",
       "      <td>27.0</td>\n",
       "      <td>Virgin America</td>\n",
       "    </tr>\n",
       "    <tr>\n",
       "      <td>YX</td>\n",
       "      <td>0.065918</td>\n",
       "      <td>38.667307</td>\n",
       "      <td>19.0</td>\n",
       "      <td>Republic Airline</td>\n",
       "    </tr>\n",
       "    <tr>\n",
       "      <td>NK</td>\n",
       "      <td>0.058486</td>\n",
       "      <td>40.012325</td>\n",
       "      <td>16.0</td>\n",
       "      <td>Spirit Air Lines</td>\n",
       "    </tr>\n",
       "    <tr>\n",
       "      <td>OO</td>\n",
       "      <td>0.057098</td>\n",
       "      <td>80.612235</td>\n",
       "      <td>35.0</td>\n",
       "      <td>SkyWest Airlines Inc.</td>\n",
       "    </tr>\n",
       "    <tr>\n",
       "      <td>AS</td>\n",
       "      <td>0.050521</td>\n",
       "      <td>43.478334</td>\n",
       "      <td>25.0</td>\n",
       "      <td>Alaska Airlines Inc.</td>\n",
       "    </tr>\n",
       "  </tbody>\n",
       "</table>\n",
       "</div>"
      ],
      "text/plain": [
       "      DELAY_PROB  MEAN_DELAY  MEDIAN_DELAY                CODE_DESC\n",
       "Code                                                               \n",
       "B6      0.181132   32.796460          15.0          JetBlue Airways\n",
       "F9      0.156754   36.818612          18.0   Frontier Airlines Inc.\n",
       "WN      0.121186   25.354265          13.0   Southwest Airlines Co.\n",
       "OH      0.108828   33.348766          15.0        PSA Airlines Inc.\n",
       "AA      0.105078   38.773887          19.0   American Airlines Inc.\n",
       "G4      0.102639   58.956561          23.0            Allegiant Air\n",
       "YV      0.088418   55.892283          28.0       Mesa Airlines Inc.\n",
       "HA      0.088088   33.972610          19.0   Hawaiian Airlines Inc.\n",
       "EV      0.085007   66.355366          27.0  ExpressJet Airlines LLC\n",
       "UA      0.078902   38.866872          18.0    United Air Lines Inc.\n",
       "MQ      0.078226   34.160484          17.0                Envoy Air\n",
       "9E      0.070312   51.227517          23.0        Endeavor Air Inc.\n",
       "DL      0.069109   44.403832          18.0     Delta Air Lines Inc.\n",
       "VX      0.065988   45.530875          27.0           Virgin America\n",
       "YX      0.065918   38.667307          19.0         Republic Airline\n",
       "NK      0.058486   40.012325          16.0         Spirit Air Lines\n",
       "OO      0.057098   80.612235          35.0    SkyWest Airlines Inc.\n",
       "AS      0.050521   43.478334          25.0     Alaska Airlines Inc."
      ]
     },
     "execution_count": 28,
     "metadata": {},
     "output_type": "execute_result"
    }
   ],
   "source": [
    "#merging the 2 dfs\n",
    "total_carrier_stats = pd.merge(total_carrier_stats, carrier_lookup, left_on='CARRIER', right_on='Code', how='left')\n",
    "\n",
    "#prettifying the result\n",
    "total_carrier_stats.set_index(total_carrier_stats.Code, inplace=True)\n",
    "del total_carrier_stats['Code']\n",
    "total_carrier_stats.rename(columns={'Description': 'CODE_DESC'}, inplace=True)\n",
    "total_carrier_stats"
   ]
  },
  {
   "cell_type": "markdown",
   "metadata": {
    "slideshow": {
     "slide_type": "slide"
    }
   },
   "source": [
    "Let's plot it!"
   ]
  },
  {
   "cell_type": "code",
   "execution_count": 29,
   "metadata": {
    "slideshow": {
     "slide_type": "fragment"
    }
   },
   "outputs": [
    {
     "data": {
      "text/plain": [
       "<BarContainer object of 18 artists>"
      ]
     },
     "execution_count": 29,
     "metadata": {},
     "output_type": "execute_result"
    },
    {
     "data": {
      "image/png": "[encoded data removed]",
      "text/plain": [
       "<Figure size 864x720 with 1 Axes>"
      ]
     },
     "metadata": {},
     "output_type": "display_data"
    }
   ],
   "source": [
    "total_carrier_stats.sort_values(by=['DELAY_PROB'], inplace=True)\n",
    "\n",
    "fig, ax = plt.subplots()\n",
    "\n",
    "ax.set_ylabel('Carriers')\n",
    "ax.set_xlabel('Probability of Delay')\n",
    "ax.set_title('Top 10 Carriers with the highest probability of delay')\n",
    "\n",
    "\n",
    "fig.set_size_inches(12, 10)\n",
    "\n",
    "ax.barh(total_carrier_stats.CODE_DESC, total_carrier_stats.DELAY_PROB, align='center')\n",
    "\n",
    "# total_carrier_stats.plot(x='CODE_DESC', y='DELAY_PROB', kind='barh', figsize=(12,10), grid=True)"
   ]
  },
  {
   "cell_type": "markdown",
   "metadata": {
    "slideshow": {
     "slide_type": "slide"
    }
   },
   "source": [
    "# Distribution of Departures for Airports <a class=\"anchor\" id=\"question3\"></a>"
   ]
  },
  {
   "cell_type": "markdown",
   "metadata": {
    "slideshow": {
     "slide_type": "fragment"
    }
   },
   "source": [
    "* Here, we will take into consideration the 1% low flights outlier\n",
    "\n",
    "* So, we have a dataframe containing the number of flight departures per airport (airport_flights)"
   ]
  },
  {
   "cell_type": "code",
   "execution_count": 30,
   "metadata": {
    "slideshow": {
     "slide_type": "slide"
    }
   },
   "outputs": [
    {
     "data": {
      "text/html": [
       "<div>\n",
       "<style scoped>\n",
       "    .dataframe tbody tr th:only-of-type {\n",
       "        vertical-align: middle;\n",
       "    }\n",
       "\n",
       "    .dataframe tbody tr th {\n",
       "        vertical-align: top;\n",
       "    }\n",
       "\n",
       "    .dataframe thead th {\n",
       "        text-align: right;\n",
       "    }\n",
       "</style>\n",
       "<table border=\"1\" class=\"dataframe\">\n",
       "  <thead>\n",
       "    <tr style=\"text-align: right;\">\n",
       "      <th></th>\n",
       "      <th>TOTAL_FLIGHTS</th>\n",
       "    </tr>\n",
       "    <tr>\n",
       "      <th>ORIGIN</th>\n",
       "      <th></th>\n",
       "    </tr>\n",
       "  </thead>\n",
       "  <tbody>\n",
       "    <tr>\n",
       "      <td>AKN</td>\n",
       "      <td>63</td>\n",
       "    </tr>\n",
       "    <tr>\n",
       "      <td>BKG</td>\n",
       "      <td>71</td>\n",
       "    </tr>\n",
       "    <tr>\n",
       "      <td>DLG</td>\n",
       "      <td>84</td>\n",
       "    </tr>\n",
       "    <tr>\n",
       "      <td>GST</td>\n",
       "      <td>84</td>\n",
       "    </tr>\n",
       "    <tr>\n",
       "      <td>HYA</td>\n",
       "      <td>89</td>\n",
       "    </tr>\n",
       "    <tr>\n",
       "      <td>...</td>\n",
       "      <td>...</td>\n",
       "    </tr>\n",
       "    <tr>\n",
       "      <td>CLT</td>\n",
       "      <td>233317</td>\n",
       "    </tr>\n",
       "    <tr>\n",
       "      <td>DEN</td>\n",
       "      <td>235989</td>\n",
       "    </tr>\n",
       "    <tr>\n",
       "      <td>DFW</td>\n",
       "      <td>279298</td>\n",
       "    </tr>\n",
       "    <tr>\n",
       "      <td>ORD</td>\n",
       "      <td>332953</td>\n",
       "    </tr>\n",
       "    <tr>\n",
       "      <td>ATL</td>\n",
       "      <td>390046</td>\n",
       "    </tr>\n",
       "  </tbody>\n",
       "</table>\n",
       "<p>354 rows × 1 columns</p>\n",
       "</div>"
      ],
      "text/plain": [
       "        TOTAL_FLIGHTS\n",
       "ORIGIN               \n",
       "AKN                63\n",
       "BKG                71\n",
       "DLG                84\n",
       "GST                84\n",
       "HYA                89\n",
       "...               ...\n",
       "CLT            233317\n",
       "DEN            235989\n",
       "DFW            279298\n",
       "ORD            332953\n",
       "ATL            390046\n",
       "\n",
       "[354 rows x 1 columns]"
      ]
     },
     "execution_count": 30,
     "metadata": {},
     "output_type": "execute_result"
    }
   ],
   "source": [
    "airport_flights"
   ]
  },
  {
   "cell_type": "markdown",
   "metadata": {
    "slideshow": {
     "slide_type": "slide"
    }
   },
   "source": [
    "Let's find the maximun flight number"
   ]
  },
  {
   "cell_type": "code",
   "execution_count": 31,
   "metadata": {
    "slideshow": {
     "slide_type": "fragment"
    }
   },
   "outputs": [
    {
     "data": {
      "text/plain": [
       "TOTAL_FLIGHTS    390046\n",
       "dtype: int64"
      ]
     },
     "execution_count": 31,
     "metadata": {},
     "output_type": "execute_result"
    }
   ],
   "source": [
    "max_flights = airport_flights.agg('max')\n",
    "max_flights"
   ]
  },
  {
   "cell_type": "markdown",
   "metadata": {
    "slideshow": {
     "slide_type": "slide"
    }
   },
   "source": [
    "We are going to plot the flights on a linear scale"
   ]
  },
  {
   "cell_type": "code",
   "execution_count": 32,
   "metadata": {
    "slideshow": {
     "slide_type": "fragment"
    }
   },
   "outputs": [
    {
     "data": {
      "image/png": "[encoded data removed]",
      "text/plain": [
       "<Figure size 864x720 with 1 Axes>"
      ]
     },
     "metadata": {},
     "output_type": "display_data"
    }
   ],
   "source": [
    "fig, ax = plt.subplots()\n",
    "\n",
    "ax.set_ylabel('Number of Airports')\n",
    "ax.set_xlabel('Number of Flights')\n",
    "ax.set_title('Distribution of Departures for Aiports')\n",
    "\n",
    "fig.set_size_inches(12, 10)\n",
    "_ = ax.hist(airport_flights.TOTAL_FLIGHTS, bins=np.linspace(0., 400000., 10))"
   ]
  },
  {
   "cell_type": "markdown",
   "metadata": {
    "slideshow": {
     "slide_type": "slide"
    }
   },
   "source": [
    "* Yeah, there is not much to see here... \n",
    "\n",
    "* That is because the airport flights distribution belongs to the [Power Law](https://en.wikipedia.org/wiki/Power_law) phenomenons.\n",
    "\n",
    "* That's why we are going to plot it on a logarithmic scale."
   ]
  },
  {
   "cell_type": "code",
   "execution_count": 33,
   "metadata": {
    "slideshow": {
     "slide_type": "slide"
    }
   },
   "outputs": [
    {
     "data": {
      "image/png": "[encoded data removed]",
      "text/plain": [
       "<Figure size 864x720 with 1 Axes>"
      ]
     },
     "metadata": {},
     "output_type": "display_data"
    }
   ],
   "source": [
    "#create 50 separate bins\n",
    "bins = np.logspace(0, 6, num=50)\n",
    "bins = np.insert(bins, 0, 0)\n",
    "\n",
    "fig, ax = plt.subplots()\n",
    "\n",
    "ax.set_ylabel('Number of Airports')\n",
    "ax.set_xlabel('Number of Flights')\n",
    "ax.set_title('Distribution of Departures for Aiports')\n",
    "plt.xscale('log')\n",
    "fig.set_size_inches(12, 10)\n",
    "\n",
    "_ = ax.hist(airport_flights.TOTAL_FLIGHTS, bins=bins)"
   ]
  },
  {
   "cell_type": "markdown",
   "metadata": {
    "slideshow": {
     "slide_type": "slide"
    }
   },
   "source": [
    "# Temporal Distribution of Delays <a class=\"anchor\" id=\"question4\"></a>\n",
    "\n",
    "\n",
    "We are interested in the temporal distribution of delays, so we are going to create a plot that shows the number of flights and the number of delayed flights per month of year.\n"
   ]
  },
  {
   "cell_type": "code",
   "execution_count": 34,
   "metadata": {
    "slideshow": {
     "slide_type": "slide"
    }
   },
   "outputs": [
    {
     "data": {
      "text/html": [
       "<div>\n",
       "<style scoped>\n",
       "    .dataframe tbody tr th:only-of-type {\n",
       "        vertical-align: middle;\n",
       "    }\n",
       "\n",
       "    .dataframe tbody tr th {\n",
       "        vertical-align: top;\n",
       "    }\n",
       "\n",
       "    .dataframe thead th {\n",
       "        text-align: right;\n",
       "    }\n",
       "</style>\n",
       "<table border=\"1\" class=\"dataframe\">\n",
       "  <thead>\n",
       "    <tr style=\"text-align: right;\">\n",
       "      <th></th>\n",
       "      <th>TOTAL_FLIGHTS</th>\n",
       "    </tr>\n",
       "    <tr>\n",
       "      <th>FL_DATE</th>\n",
       "      <th></th>\n",
       "    </tr>\n",
       "  </thead>\n",
       "  <tbody>\n",
       "    <tr>\n",
       "      <td>1</td>\n",
       "      <td>570118</td>\n",
       "    </tr>\n",
       "    <tr>\n",
       "      <td>2</td>\n",
       "      <td>520731</td>\n",
       "    </tr>\n",
       "    <tr>\n",
       "      <td>3</td>\n",
       "      <td>611987</td>\n",
       "    </tr>\n",
       "    <tr>\n",
       "      <td>4</td>\n",
       "      <td>596046</td>\n",
       "    </tr>\n",
       "    <tr>\n",
       "      <td>5</td>\n",
       "      <td>616529</td>\n",
       "    </tr>\n",
       "  </tbody>\n",
       "</table>\n",
       "</div>"
      ],
      "text/plain": [
       "         TOTAL_FLIGHTS\n",
       "FL_DATE               \n",
       "1               570118\n",
       "2               520731\n",
       "3               611987\n",
       "4               596046\n",
       "5               616529"
      ]
     },
     "execution_count": 34,
     "metadata": {},
     "output_type": "execute_result"
    }
   ],
   "source": [
    "#group by month\n",
    "monthly_flights = pd.DataFrame(flights.groupby(flights.FL_DATE.dt.month).size(), columns=['TOTAL_FLIGHTS'])\n",
    "\n",
    "monthly_flights.head()"
   ]
  },
  {
   "cell_type": "code",
   "execution_count": 35,
   "metadata": {
    "slideshow": {
     "slide_type": "slide"
    }
   },
   "outputs": [
    {
     "data": {
      "text/html": [
       "<div>\n",
       "<style scoped>\n",
       "    .dataframe tbody tr th:only-of-type {\n",
       "        vertical-align: middle;\n",
       "    }\n",
       "\n",
       "    .dataframe tbody tr th {\n",
       "        vertical-align: top;\n",
       "    }\n",
       "\n",
       "    .dataframe thead th {\n",
       "        text-align: right;\n",
       "    }\n",
       "</style>\n",
       "<table border=\"1\" class=\"dataframe\">\n",
       "  <thead>\n",
       "    <tr style=\"text-align: right;\">\n",
       "      <th></th>\n",
       "      <th>TOTAL_FLIGHT_DELAYS</th>\n",
       "    </tr>\n",
       "    <tr>\n",
       "      <th>FL_DATE</th>\n",
       "      <th></th>\n",
       "    </tr>\n",
       "  </thead>\n",
       "  <tbody>\n",
       "    <tr>\n",
       "      <td>1</td>\n",
       "      <td>183723</td>\n",
       "    </tr>\n",
       "    <tr>\n",
       "      <td>2</td>\n",
       "      <td>174962</td>\n",
       "    </tr>\n",
       "    <tr>\n",
       "      <td>3</td>\n",
       "      <td>199775</td>\n",
       "    </tr>\n",
       "    <tr>\n",
       "      <td>4</td>\n",
       "      <td>193204</td>\n",
       "    </tr>\n",
       "    <tr>\n",
       "      <td>5</td>\n",
       "      <td>215382</td>\n",
       "    </tr>\n",
       "  </tbody>\n",
       "</table>\n",
       "</div>"
      ],
      "text/plain": [
       "         TOTAL_FLIGHT_DELAYS\n",
       "FL_DATE                     \n",
       "1                     183723\n",
       "2                     174962\n",
       "3                     199775\n",
       "4                     193204\n",
       "5                     215382"
      ]
     },
     "execution_count": 35,
     "metadata": {},
     "output_type": "execute_result"
    }
   ],
   "source": [
    "total_delays = flights.loc[flights.DEP_DELAY > 0]\n",
    "\n",
    "delay_flights = pd.DataFrame(total_delays.groupby(total_delays.FL_DATE.dt.month).size(), columns=['TOTAL_FLIGHT_DELAYS'])\n",
    "\n",
    "delay_flights.head()"
   ]
  },
  {
   "cell_type": "markdown",
   "metadata": {
    "slideshow": {
     "slide_type": "slide"
    }
   },
   "source": [
    "You know what time is it? It's **MERGE TIME**"
   ]
  },
  {
   "cell_type": "code",
   "execution_count": 36,
   "metadata": {
    "slideshow": {
     "slide_type": "fragment"
    }
   },
   "outputs": [
    {
     "data": {
      "text/html": [
       "<div>\n",
       "<style scoped>\n",
       "    .dataframe tbody tr th:only-of-type {\n",
       "        vertical-align: middle;\n",
       "    }\n",
       "\n",
       "    .dataframe tbody tr th {\n",
       "        vertical-align: top;\n",
       "    }\n",
       "\n",
       "    .dataframe thead th {\n",
       "        text-align: right;\n",
       "    }\n",
       "</style>\n",
       "<table border=\"1\" class=\"dataframe\">\n",
       "  <thead>\n",
       "    <tr style=\"text-align: right;\">\n",
       "      <th></th>\n",
       "      <th>TOTAL_FLIGHTS</th>\n",
       "      <th>TOTAL_FLIGHT_DELAYS</th>\n",
       "    </tr>\n",
       "    <tr>\n",
       "      <th>FL_DATE</th>\n",
       "      <th></th>\n",
       "      <th></th>\n",
       "    </tr>\n",
       "  </thead>\n",
       "  <tbody>\n",
       "    <tr>\n",
       "      <td>1</td>\n",
       "      <td>570118</td>\n",
       "      <td>183723</td>\n",
       "    </tr>\n",
       "    <tr>\n",
       "      <td>2</td>\n",
       "      <td>520731</td>\n",
       "      <td>174962</td>\n",
       "    </tr>\n",
       "    <tr>\n",
       "      <td>3</td>\n",
       "      <td>611987</td>\n",
       "      <td>199775</td>\n",
       "    </tr>\n",
       "    <tr>\n",
       "      <td>4</td>\n",
       "      <td>596046</td>\n",
       "      <td>193204</td>\n",
       "    </tr>\n",
       "    <tr>\n",
       "      <td>5</td>\n",
       "      <td>616529</td>\n",
       "      <td>215382</td>\n",
       "    </tr>\n",
       "    <tr>\n",
       "      <td>6</td>\n",
       "      <td>626193</td>\n",
       "      <td>238353</td>\n",
       "    </tr>\n",
       "    <tr>\n",
       "      <td>7</td>\n",
       "      <td>645299</td>\n",
       "      <td>246392</td>\n",
       "    </tr>\n",
       "    <tr>\n",
       "      <td>8</td>\n",
       "      <td>644673</td>\n",
       "      <td>239323</td>\n",
       "    </tr>\n",
       "    <tr>\n",
       "      <td>9</td>\n",
       "      <td>585749</td>\n",
       "      <td>167257</td>\n",
       "    </tr>\n",
       "    <tr>\n",
       "      <td>10</td>\n",
       "      <td>616101</td>\n",
       "      <td>187187</td>\n",
       "    </tr>\n",
       "    <tr>\n",
       "      <td>11</td>\n",
       "      <td>586178</td>\n",
       "      <td>201256</td>\n",
       "    </tr>\n",
       "    <tr>\n",
       "      <td>12</td>\n",
       "      <td>593842</td>\n",
       "      <td>202403</td>\n",
       "    </tr>\n",
       "  </tbody>\n",
       "</table>\n",
       "</div>"
      ],
      "text/plain": [
       "         TOTAL_FLIGHTS  TOTAL_FLIGHT_DELAYS\n",
       "FL_DATE                                    \n",
       "1               570118               183723\n",
       "2               520731               174962\n",
       "3               611987               199775\n",
       "4               596046               193204\n",
       "5               616529               215382\n",
       "6               626193               238353\n",
       "7               645299               246392\n",
       "8               644673               239323\n",
       "9               585749               167257\n",
       "10              616101               187187\n",
       "11              586178               201256\n",
       "12              593842               202403"
      ]
     },
     "execution_count": 36,
     "metadata": {},
     "output_type": "execute_result"
    }
   ],
   "source": [
    "distribution = pd.merge(monthly_flights, delay_flights, on='FL_DATE', how='inner')\n",
    "distribution"
   ]
  },
  {
   "cell_type": "markdown",
   "metadata": {
    "slideshow": {
     "slide_type": "slide"
    }
   },
   "source": [
    "We are going to create a ```BarPlot```"
   ]
  },
  {
   "cell_type": "code",
   "execution_count": 37,
   "metadata": {
    "slideshow": {
     "slide_type": "fragment"
    }
   },
   "outputs": [
    {
     "data": {
      "image/png": "[encoded data removed]",
      "text/plain": [
       "<Figure size 756x540 with 1 Axes>"
      ]
     },
     "metadata": {},
     "output_type": "display_data"
    }
   ],
   "source": [
    "import calendar\n",
    "\n",
    "datelist = []\n",
    "for month_idx in range(1, 13):\n",
    "    datelist.append(calendar.month_abbr[month_idx])\n",
    "\n",
    "plt.style.use('seaborn')\n",
    "    \n",
    "fig, ax = plt.subplots()\n",
    "x = np.arange(len(datelist))  # the label locations\n",
    "width = 0.30\n",
    "rects1 = ax.bar(x - width/2, distribution.TOTAL_FLIGHTS, width, label='Flights')\n",
    "rects2 = ax.bar(x + width/2, distribution.TOTAL_FLIGHT_DELAYS, width, label='Delays')\n",
    "\n",
    "ax.set_ylabel('Number Of Flights')\n",
    "ax.set_xlabel('Months')\n",
    "ax.set_title('Temporal Distribution of Delays')\n",
    "ax.set_xticks(x)\n",
    "ax.set_xticklabels(datelist)\n",
    "ax.legend()\n",
    "\n",
    "fig.set_size_inches(10.5, 7.5)\n",
    "fig.tight_layout()\n",
    "\n",
    "plt.show()"
   ]
  },
  {
   "cell_type": "markdown",
   "metadata": {
    "slideshow": {
     "slide_type": "slide"
    }
   },
   "source": [
    "# Which airline has the best performance? <a class=\"anchor\" id=\"question5\"></a>\n",
    "\n",
    "We will create a table that shows, for each possible origin and destination, which airline has the best performance, in terms of mean departure delay."
   ]
  },
  {
   "cell_type": "markdown",
   "metadata": {
    "slideshow": {
     "slide_type": "fragment"
    }
   },
   "source": [
    "Let's create a sorted MultiIndex"
   ]
  },
  {
   "cell_type": "code",
   "execution_count": 38,
   "metadata": {
    "slideshow": {
     "slide_type": "slide"
    }
   },
   "outputs": [
    {
     "data": {
      "text/html": [
       "<div>\n",
       "<style scoped>\n",
       "    .dataframe tbody tr th:only-of-type {\n",
       "        vertical-align: middle;\n",
       "    }\n",
       "\n",
       "    .dataframe tbody tr th {\n",
       "        vertical-align: top;\n",
       "    }\n",
       "\n",
       "    .dataframe thead tr th {\n",
       "        text-align: left;\n",
       "    }\n",
       "\n",
       "    .dataframe thead tr:last-of-type th {\n",
       "        text-align: right;\n",
       "    }\n",
       "</style>\n",
       "<table border=\"1\" class=\"dataframe\">\n",
       "  <thead>\n",
       "    <tr>\n",
       "      <th></th>\n",
       "      <th></th>\n",
       "      <th></th>\n",
       "      <th>DEP_DELAY</th>\n",
       "    </tr>\n",
       "    <tr>\n",
       "      <th></th>\n",
       "      <th></th>\n",
       "      <th></th>\n",
       "      <th>mean</th>\n",
       "    </tr>\n",
       "    <tr>\n",
       "      <th>ORIGIN</th>\n",
       "      <th>DEST</th>\n",
       "      <th>CARRIER</th>\n",
       "      <th></th>\n",
       "    </tr>\n",
       "  </thead>\n",
       "  <tbody>\n",
       "    <tr>\n",
       "      <td rowspan=\"5\" valign=\"top\">ABE</td>\n",
       "      <td rowspan=\"3\" valign=\"top\">ATL</td>\n",
       "      <td>9E</td>\n",
       "      <td>53.771429</td>\n",
       "    </tr>\n",
       "    <tr>\n",
       "      <td>DL</td>\n",
       "      <td>58.046154</td>\n",
       "    </tr>\n",
       "    <tr>\n",
       "      <td>EV</td>\n",
       "      <td>40.976190</td>\n",
       "    </tr>\n",
       "    <tr>\n",
       "      <td>CLT</td>\n",
       "      <td>OH</td>\n",
       "      <td>35.364706</td>\n",
       "    </tr>\n",
       "    <tr>\n",
       "      <td>DTW</td>\n",
       "      <td>OO</td>\n",
       "      <td>72.098425</td>\n",
       "    </tr>\n",
       "    <tr>\n",
       "      <td>...</td>\n",
       "      <td>...</td>\n",
       "      <td>...</td>\n",
       "      <td>...</td>\n",
       "    </tr>\n",
       "    <tr>\n",
       "      <td rowspan=\"2\" valign=\"top\">YAK</td>\n",
       "      <td>CDV</td>\n",
       "      <td>AS</td>\n",
       "      <td>31.888889</td>\n",
       "    </tr>\n",
       "    <tr>\n",
       "      <td>JNU</td>\n",
       "      <td>AS</td>\n",
       "      <td>23.195652</td>\n",
       "    </tr>\n",
       "    <tr>\n",
       "      <td rowspan=\"2\" valign=\"top\">YNG</td>\n",
       "      <td>PIE</td>\n",
       "      <td>G4</td>\n",
       "      <td>111.000000</td>\n",
       "    </tr>\n",
       "    <tr>\n",
       "      <td>SFB</td>\n",
       "      <td>G4</td>\n",
       "      <td>15.000000</td>\n",
       "    </tr>\n",
       "    <tr>\n",
       "      <td>YUM</td>\n",
       "      <td>PHX</td>\n",
       "      <td>OO</td>\n",
       "      <td>28.715415</td>\n",
       "    </tr>\n",
       "  </tbody>\n",
       "</table>\n",
       "<p>12692 rows × 1 columns</p>\n",
       "</div>"
      ],
      "text/plain": [
       "                      DEP_DELAY\n",
       "                           mean\n",
       "ORIGIN DEST CARRIER            \n",
       "ABE    ATL  9E        53.771429\n",
       "            DL        58.046154\n",
       "            EV        40.976190\n",
       "       CLT  OH        35.364706\n",
       "       DTW  OO        72.098425\n",
       "...                         ...\n",
       "YAK    CDV  AS        31.888889\n",
       "       JNU  AS        23.195652\n",
       "YNG    PIE  G4       111.000000\n",
       "       SFB  G4        15.000000\n",
       "YUM    PHX  OO        28.715415\n",
       "\n",
       "[12692 rows x 1 columns]"
      ]
     },
     "execution_count": 38,
     "metadata": {},
     "output_type": "execute_result"
    }
   ],
   "source": [
    "#select specific columns of the dataset\n",
    "short_flights = flights.loc[:, ['ORIGIN', 'DEST', 'CARRIER','DEP_DELAY']]\n",
    "\n",
    "#create a MultiIndex\n",
    "origin_dest = short_flights.set_index(['ORIGIN', 'DEST', 'CARRIER'])\n",
    "\n",
    "#sort the Index\n",
    "origin_dest.sort_index(inplace=True)\n",
    "\n",
    "#keep the positive delays\n",
    "origin_dest = origin_dest.loc[origin_dest.DEP_DELAY > 0]\n",
    "\n",
    "#find the mean flight delay for each carrier\n",
    "mean_origin_dest = origin_dest.groupby(['ORIGIN', 'DEST', 'CARRIER']).agg(['mean'])\n",
    "\n",
    "mean_origin_dest"
   ]
  },
  {
   "cell_type": "markdown",
   "metadata": {
    "slideshow": {
     "slide_type": "slide"
    }
   },
   "source": [
    "* Now we need to find the **CARRIER** the minimum delay flight for each flight route.\n",
    "\n",
    "* What we can do is to create a new column that also holds the carrier and find the min for each flight group"
   ]
  },
  {
   "cell_type": "code",
   "execution_count": 39,
   "metadata": {
    "slideshow": {
     "slide_type": "fragment"
    }
   },
   "outputs": [
    {
     "data": {
      "text/html": [
       "<div>\n",
       "<style scoped>\n",
       "    .dataframe tbody tr th:only-of-type {\n",
       "        vertical-align: middle;\n",
       "    }\n",
       "\n",
       "    .dataframe tbody tr th {\n",
       "        vertical-align: top;\n",
       "    }\n",
       "\n",
       "    .dataframe thead th {\n",
       "        text-align: right;\n",
       "    }\n",
       "</style>\n",
       "<table border=\"1\" class=\"dataframe\">\n",
       "  <thead>\n",
       "    <tr style=\"text-align: right;\">\n",
       "      <th></th>\n",
       "      <th></th>\n",
       "      <th>MEAN_DEP_DELAY</th>\n",
       "      <th>CARRIER</th>\n",
       "    </tr>\n",
       "    <tr>\n",
       "      <th>ORIGIN</th>\n",
       "      <th>DEST</th>\n",
       "      <th></th>\n",
       "      <th></th>\n",
       "    </tr>\n",
       "  </thead>\n",
       "  <tbody>\n",
       "    <tr>\n",
       "      <td rowspan=\"5\" valign=\"top\">ABE</td>\n",
       "      <td>ATL</td>\n",
       "      <td>40.976190</td>\n",
       "      <td>9E</td>\n",
       "    </tr>\n",
       "    <tr>\n",
       "      <td>CLT</td>\n",
       "      <td>35.364706</td>\n",
       "      <td>OH</td>\n",
       "    </tr>\n",
       "    <tr>\n",
       "      <td>DTW</td>\n",
       "      <td>72.098425</td>\n",
       "      <td>OO</td>\n",
       "    </tr>\n",
       "    <tr>\n",
       "      <td>FLL</td>\n",
       "      <td>55.574074</td>\n",
       "      <td>G4</td>\n",
       "    </tr>\n",
       "    <tr>\n",
       "      <td>MDT</td>\n",
       "      <td>175.000000</td>\n",
       "      <td>OO</td>\n",
       "    </tr>\n",
       "    <tr>\n",
       "      <td>...</td>\n",
       "      <td>...</td>\n",
       "      <td>...</td>\n",
       "      <td>...</td>\n",
       "    </tr>\n",
       "    <tr>\n",
       "      <td rowspan=\"2\" valign=\"top\">YAK</td>\n",
       "      <td>CDV</td>\n",
       "      <td>31.888889</td>\n",
       "      <td>AS</td>\n",
       "    </tr>\n",
       "    <tr>\n",
       "      <td>JNU</td>\n",
       "      <td>23.195652</td>\n",
       "      <td>AS</td>\n",
       "    </tr>\n",
       "    <tr>\n",
       "      <td rowspan=\"2\" valign=\"top\">YNG</td>\n",
       "      <td>PIE</td>\n",
       "      <td>111.000000</td>\n",
       "      <td>G4</td>\n",
       "    </tr>\n",
       "    <tr>\n",
       "      <td>SFB</td>\n",
       "      <td>15.000000</td>\n",
       "      <td>G4</td>\n",
       "    </tr>\n",
       "    <tr>\n",
       "      <td>YUM</td>\n",
       "      <td>PHX</td>\n",
       "      <td>28.715415</td>\n",
       "      <td>OO</td>\n",
       "    </tr>\n",
       "  </tbody>\n",
       "</table>\n",
       "<p>6311 rows × 2 columns</p>\n",
       "</div>"
      ],
      "text/plain": [
       "             MEAN_DEP_DELAY CARRIER\n",
       "ORIGIN DEST                        \n",
       "ABE    ATL        40.976190      9E\n",
       "       CLT        35.364706      OH\n",
       "       DTW        72.098425      OO\n",
       "       FLL        55.574074      G4\n",
       "       MDT       175.000000      OO\n",
       "...                     ...     ...\n",
       "YAK    CDV        31.888889      AS\n",
       "       JNU        23.195652      AS\n",
       "YNG    PIE       111.000000      G4\n",
       "       SFB        15.000000      G4\n",
       "YUM    PHX        28.715415      OO\n",
       "\n",
       "[6311 rows x 2 columns]"
      ]
     },
     "execution_count": 39,
     "metadata": {},
     "output_type": "execute_result"
    }
   ],
   "source": [
    "#create a new column that also holds the Carrier, same as the Index but now is also a column\n",
    "mean_origin_dest['CARRIER'] = mean_origin_dest.index.get_level_values('CARRIER')\n",
    "\n",
    "#find the minimun value for each flight route\n",
    "min_mean_origin_dest = mean_origin_dest.groupby(['ORIGIN', 'DEST']).min()\n",
    "\n",
    "min_mean_origin_dest.columns = min_mean_origin_dest.columns.droplevel()\n",
    "\n",
    "columns = ['MEAN_DEP_DELAY', 'CARRIER']\n",
    "\n",
    "min_mean_origin_dest.columns = columns\n",
    "\n",
    "columns = ['MEAN_DEP_DELAY', 'CARRIER']\n",
    "\n",
    "min_mean_origin_dest.columns = columns\n",
    "\n",
    "min_mean_origin_dest"
   ]
  },
  {
   "cell_type": "markdown",
   "metadata": {
    "slideshow": {
     "slide_type": "slide"
    }
   },
   "source": [
    "* We want a user friendly answer for the Carrier names.\n",
    "\n",
    "* Here, we will showcase another way of obtaining this information\n",
    "\n",
    "* We can achieve that by grabbing the names of the CARRIERS from the [FAA Operations & Performance Data](https://aspmhelp.faa.gov/index.php/ASQP:_Carrier_Codes_and_Names) website.\n",
    "\n"
   ]
  },
  {
   "cell_type": "markdown",
   "metadata": {
    "slideshow": {
     "slide_type": "slide"
    }
   },
   "source": [
    "Let's try and read the page that contains the information we need"
   ]
  },
  {
   "cell_type": "code",
   "execution_count": 40,
   "metadata": {
    "slideshow": {
     "slide_type": "fragment"
    }
   },
   "outputs": [
    {
     "name": "stdout",
     "output_type": "stream",
     "text": [
      "b'<!DOCTYPE html>\\n<html lang=\"en\" dir=\"ltr\" class=\"client-nojs\">\\n<head>\\n<title>ASQP: Carrier Codes and Names - ASPMHelp</title>\\n<meta charset=\"UTF-8\" />\\n<meta name=\"generator\" content=\"MediaWiki 1.21.1\" />\\n<link rel=\"shortcut icon\" href=\"/favicon.ico\" />\\n<link rel=\"search\" type=\"application/opensearchdescription+xml\" href=\"/opensearch_desc.php\" title=\"ASPMHelp (en)\" />\\n<link rel=\"EditURI\" type=\"application/rsd+xml\" href=\"https://aspmhelp.faa.gov/api.php?action=rsd\" />\\n<link rel=\"alternate\" type=\"application/atom+xml\" title=\"ASPMHelp Atom feed\" href=\"/index.php?title=Special:RecentChanges&amp;feed=atom\" />\\n<link rel=\"stylesheet\" href=\"https://aspmhelp.faa.gov/load.php?debug=false&amp;lang=en&amp;modules=mediawiki.legacy.commonPrint%2Cshared%7Cskins.vector&amp;only=styles&amp;skin=vector&amp;*\" />\\n<meta name=\"ResourceLoaderDynamicStyles\" content=\"\" />\\n<link rel=\"stylesheet\" href=\"https://aspmhelp.faa.gov/load.php?debug=false&amp;lang=en&amp;modules=site&amp;only=styles&amp;skin=vector&amp;*\" />\\n<style>a:lang(ar),a:lang(ckb),a:lang(fa),a:lang(kk-arab),a:lang(mzn),a:lang(ps),a:lang(ur){text-decoration:none}\\n/* cache key: wikidb-apoweb_:resourceloader:filter:minify-css:7:3cab71823e26347bd953c5bf8cc81c89 */</style>\\n\\n<script src=\"https://aspmhelp.faa.gov/load.php?debug=false&amp;lang=en&amp;modules=startup&amp;only=scripts&amp;skin=vector&amp;*\"></script>\\n<script>if(window.mw){\\nmw.config.set({\"wgCanonicalNamespace\":\"\",\"wgCanonicalSpecialPageName\":false,\"wgNamespaceNumber\":0,\"wgPageName\":\"ASQP:_Carrier_Codes_and_Names\",\"wgTitle\":\"ASQP: Carrier Codes and Names\",\"wgCurRevisionId\":6607,\"wgArticleId\":331,\"wgIsArticle\":true,\"wgAction\":\"view\",\"wgUserName\":null,\"wgUserGroups\":[\"*\"],\"wgCategories\":[],\"wgBreakFrames\":false,\"wgPageContentLanguage\":\"en\",\"wgSeparatorTransformTable\":[\"\",\"\"],\"wgDigitTransformTable\":[\"\",\"\"],\"wgDefaultDateFormat\":\"dmy\",\"wgMonthNames\":[\"\",\"January\",\"February\",\"March\",\"April\",\"May\",\"June\",\"July\",\"August\",\"September\",\"October\",\"November\",\"December\"],\"wgMonthNamesShort\":[\"\",\"Jan\",\"Feb\",\"Mar\",\"Apr\",\"May\",\"Jun\",\"Jul\",\"Aug\",\"Sep\",\"Oct\",\"Nov\",\"Dec\"],\"wgRelevantPageName\":\"ASQP:_Carrier_Codes_and_Names\",\"wgRestrictionEdit\":[],\"wgRestrictionMove\":[]});\\n}</script><script>if(window.mw){\\nmw.loader.implement(\"user.options\",function(){mw.user.options.set({\"ccmeonemails\":0,\"cols\":80,\"date\":\"default\",\"diffonly\":0,\"disablemail\":0,\"disablesuggest\":0,\"editfont\":\"default\",\"editondblclick\":0,\"editsection\":1,\"editsectiononrightclick\":0,\"enotifminoredits\":0,\"enotifrevealaddr\":0,\"enotifusertalkpages\":1,\"enotifwatchlistpages\":0,\"extendwatchlist\":0,\"externaldiff\":0,\"externaleditor\":0,\"fancysig\":0,\"forceeditsummary\":0,\"gender\":\"unknown\",\"hideminor\":0,\"hidepatrolled\":0,\"imagesize\":2,\"justify\":0,\"math\":1,\"minordefault\":0,\"newpageshidepatrolled\":0,\"nocache\":0,\"noconvertlink\":0,\"norollbackdiff\":0,\"numberheadings\":0,\"previewonfirst\":0,\"previewontop\":1,\"quickbar\":5,\"rcdays\":7,\"rclimit\":50,\"rememberpassword\":0,\"rows\":25,\"searchlimit\":20,\"showhiddencats\":0,\"showjumplinks\":1,\"shownumberswatching\":1,\"showtoc\":1,\"showtoolbar\":1,\"skin\":\"vector\",\"stubthreshold\":0,\"thumbsize\":2,\"underline\":2,\"uselivepreview\":0,\"usenewrc\":0,\"watchcreations\":0,\"watchdefault\":0,\"watchdeletion\":0,\"watchlistdays\":3,\\n\"watchlisthideanons\":0,\"watchlisthidebots\":0,\"watchlisthideliu\":0,\"watchlisthideminor\":0,\"watchlisthideown\":0,\"watchlisthidepatrolled\":0,\"watchmoves\":0,\"wllimit\":250,\"variant\":\"en\",\"language\":\"en\",\"searchNs0\":true,\"searchNs1\":false,\"searchNs2\":false,\"searchNs3\":false,\"searchNs4\":false,\"searchNs5\":false,\"searchNs6\":false,\"searchNs7\":false,\"searchNs8\":false,\"searchNs9\":false,\"searchNs10\":false,\"searchNs11\":false,\"searchNs12\":false,\"searchNs13\":false,\"searchNs14\":false,\"searchNs15\":false});;},{},{});mw.loader.implement(\"user.tokens\",function(){mw.user.tokens.set({\"editToken\":\"+\\\\\\\\\",\"patrolToken\":false,\"watchToken\":false});;},{},{});\\n/* cache key: wikidb-apoweb_:resourceloader:filter:minify-js:7:5e9d6f662546365d82558dd92b2a2224 */\\n}</script>\\n<script>if(window.mw){\\nmw.loader.load([\"mediawiki.page.startup\",\"mediawiki.legacy.wikibits\",\"mediawiki.legacy.ajax\"]);\\n}</script>\\n<!--[if lt IE 7]><style type=\"text/css\">body{behavior:url(\"/skins/vector/csshover.min.htc\")}</style><![endif]--></head>\\n<body class=\"mediawiki ltr sitedir-ltr ns-0 ns-subject page-ASQP_Carrier_Codes_and_Names skin-vector action-view vector-animateLayout\">\\n\\t\\t<div id=\"mw-page-base\" class=\"noprint\"></div>\\r\\n\\t\\t<div id=\"mw-head-base\" class=\"noprint\"></div>\\r\\n\\t\\t<!-- content -->\\r\\n\\t\\t<div id=\"content\" class=\"mw-body\" role=\"main\">\\r\\n\\t\\t\\t<a id=\"top\"></a>\\r\\n\\t\\t\\t<div id=\"mw-js-message\" style=\"display:none;\"></div>\\r\\n\\t\\t\\t\\t\\t\\t<!-- firstHeading -->\\r\\n\\t\\t\\t<h1 id=\"firstHeading\" class=\"firstHeading\" lang=\"en\"><span dir=\"auto\">ASQP: Carrier Codes and Names</span></h1>\\r\\n\\t\\t\\t<!-- /firstHeading -->\\r\\n\\t\\t\\t<!-- bodyContent -->\\r\\n\\t\\t\\t<div id=\"bodyContent\">\\r\\n\\t\\t\\t\\t\\t\\t\\t\\t<!-- tagline -->\\r\\n\\t\\t\\t\\t<div id=\"siteSub\">From ASPMHelp</div>\\r\\n\\t\\t\\t\\t<!-- /tagline -->\\r\\n\\t\\t\\t\\t\\t\\t\\t\\t<!-- subtitle -->\\r\\n\\t\\t\\t\\t<div id=\"contentSub\"></div>\\r\\n\\t\\t\\t\\t<!-- /subtitle -->\\r\\n\\t\\t\\t\\t\\t\\t\\t\\t\\t\\t\\t\\t\\t\\t\\t\\t<!-- jumpto -->\\r\\n\\t\\t\\t\\t<div id=\"jump-to-nav\" class=\"mw-jump\">\\r\\n\\t\\t\\t\\t\\tJump to:\\t\\t\\t\\t\\t<a href=\"#mw-navigation\">navigation</a>, \\t\\t\\t\\t\\t<a href=\"#p-search\">search</a>\\r\\n\\t\\t\\t\\t</div>\\r\\n\\t\\t\\t\\t<!-- /jumpto -->\\r\\n\\t\\t\\t\\t\\t\\t\\t\\t<!-- bodycontent -->\\r\\n\\t\\t\\t\\t<div id=\"mw-content-text\" lang=\"en\" dir=\"ltr\" class=\"mw-content-ltr\"><p>These are the carriers currently tracked in ASQP:\\n</p>\\n<table class=\"wikitable\">\\n\\n<tr>\\n<th> IATA Code\\n</th>\\n<th> ICAO Code\\n</th>\\n<th> Air Carrier Name\\n</th></tr>\\n<tr>\\n<td> ZW\\n</td>\\n<td> AWI\\n</td>\\n<td> Air Wisconsin\\n</td></tr>\\n<tr>\\n<td> AS\\n</td>\\n<td> ASA\\n</td>\\n<td> Alaska Airlines\\n</td></tr>\\n<tr>\\n<td> G4\\n</td>\\n<td> AAY\\xc2\\xa0\\n</td>\\n<td> Allegiant Air LLC\\xc2\\xa0\\n</td></tr>\\n<tr>\\n<td> AA\\n</td>\\n<td> AAL\\n</td>\\n<td> American Airlines\\n</td></tr>\\n<tr>\\n<td> C5\\n</td>\\n<td> UCA\\xc2\\xa0\\n</td>\\n<td> Champlain Air\\xc2\\xa0\\n</td></tr>\\n<tr>\\n<td> CP\\n</td>\\n<td> CPZ\\xc2\\xa0\\n</td>\\n<td> Compass Airlines\\xc2\\xa0\\n</td></tr>\\n<tr>\\n<td> DL\\n</td>\\n<td> DAL\\xc2\\xa0\\n</td>\\n<td> Delta Air Lines, Inc.\\xc2\\xa0\\n</td></tr>\\n<tr>\\n<td> EM\\n</td>\\n<td> CFS\\xc2\\xa0\\n</td>\\n<td> Empire Airline\\xc2\\xa0\\n</td></tr>\\n<tr>\\n<td> 9E\\n</td>\\n<td> EDV\\xc2\\xa0\\n</td>\\n<td> Endeavor Air\\xc2\\xa0\\n</td></tr>\\n<tr>\\n<td> MQ\\n</td>\\n<td> ENY\\xc2\\xa0\\n</td>\\n<td> Envoy Air\\xc2\\xa0\\n</td></tr>\\n<tr>\\n<td> EV\\n</td>\\n<td> ASQ\\xc2\\xa0\\n</td>\\n<td> ExpressJet Airlines\\xc2\\xa0\\n</td></tr>\\n<tr>\\n<td> F9\\n</td>\\n<td> FFT\\xc2\\xa0\\n</td>\\n<td> Frontier Airlines, Inc.\\xc2\\xa0\\n</td></tr>\\n<tr>\\n<td> G7\\n</td>\\n<td> GJS\\xc2\\xa0\\n</td>\\n<td> GoJet Airlines\\xc2\\xa0\\n</td></tr>\\n<tr>\\n<td> HA\\n</td>\\n<td> HAL\\xc2\\xa0\\n</td>\\n<td> Hawaiian Airlines Inc.\\xc2\\xa0\\n</td></tr>\\n<tr>\\n<td> QX\\n</td>\\n<td> QXE\\xc2\\xa0\\n</td>\\n<td> Horizon Air\\xc2\\xa0\\n</td></tr>\\n<tr>\\n<td> B6\\n</td>\\n<td> JBU\\xc2\\xa0\\n</td>\\n<td> Jetblue Airways Corporation\\xc2\\xa0\\n</td></tr>\\n<tr>\\n<td> OH\\n</td>\\n<td> JIA\\xc2\\xa0\\n</td>\\n<td> Jetstream Intl\\xc2\\xa0\\n</td></tr>\\n<tr>\\n<td> YV\\n</td>\\n<td> ASH\\xc2\\xa0\\n</td>\\n<td> Mesa Airlines, Inc.\\xc2\\xa0\\n</td></tr>\\n<tr>\\n<td> KS\\n</td>\\n<td> NLA\\xc2\\xa0\\n</td>\\n<td> Penair\\xc2\\xa0\\n</td></tr>\\n<tr>\\n<td> PT\\n</td>\\n<td> PDT\\xc2\\xa0\\n</td>\\n<td> Piedmont Airlines\\xc2\\xa0\\n</td></tr>\\n<tr>\\n<td> YX\\n</td>\\n<td> RPA\\xc2\\xa0\\n</td>\\n<td> Republic Airlines\\xc2\\xa0\\n</td></tr>\\n<tr>\\n<td> OO\\n</td>\\n<td> SKW\\xc2\\xa0\\n</td>\\n<td> Skywest Airlines\\xc2\\xa0\\n</td></tr>\\n<tr>\\n<td> WN\\n</td>\\n<td> SWA\\xc2\\xa0\\n</td>\\n<td> Southwest Airlines\\xc2\\xa0\\n</td></tr>\\n<tr>\\n<td> NK\\n</td>\\n<td> NKS\\xc2\\xa0\\n</td>\\n<td> Spirit Airlines, Inc.\\xc2\\xa0\\n</td></tr>\\n<tr>\\n<td> AX\\n</td>\\n<td> LOF\\xc2\\xa0\\n</td>\\n<td> Trans State\\xc2\\xa0\\n</td></tr>\\n<tr>\\n<td> UA\\n</td>\\n<td> UAL\\xc2\\xa0\\n</td>\\n<td> United Airlines, Inc.\\xc2\\xa0\\n</td></tr></table>\\n<h2> <span class=\"mw-headline\" id=\"Branded_Codeshare_Partners\">Branded Codeshare Partners</span></h2>\\n<p>The following table shows the relationship between ASQP selling carriers and their regional partners.  All of the airlines in the table are ASQP carriers.\\n</p>\\n<table class=\"wikitable\">\\n\\n<tr>\\n<th> American Airlines Branded Codeshare Partners\\n</th>\\n<th> Alaska Airlines Branded Codeshare Partners\\n</th>\\n<th> Delta Air Lines Branded Codeshare Partners\\n</th>\\n<th> Hawaiian Airlines Branded Codeshare Partners\\n</th>\\n<th> United Airlines Branded Codeshare Partners\\n</th></tr>\\n<tr>\\n<td> Compass Airlines\\n</td>\\n<td> Horizon Air\\n</td>\\n<td> Compass Airlines\\n</td>\\n<td> Empire Airlines\\n</td>\\n<td> Air Wisconsin Airlines\\n</td></tr>\\n<tr>\\n<td> Envoy Air\\n</td>\\n<td> Peninsula Airways\\n</td>\\n<td> Endeavor Air\\n</td>\\n<td>\\n</td>\\n<td> ExpressJet Airlines\\n</td></tr>\\n<tr>\\n<td> ExpressJet Airlines\\n</td>\\n<td> SkyWest Airlines\\n</td>\\n<td> ExpressJet Airlines\\n</td>\\n<td>\\n</td>\\n<td>\\n</td></tr>\\n<tr>\\n<td> Mesa Airlines\\n</td>\\n<td>\\n</td>\\n<td> GoJet Airlines\\n</td>\\n<td>\\n</td>\\n<td> GoJet\\n</td></tr>\\n<tr>\\n<td> Piedmont Airlines\\n</td>\\n<td>\\n</td>\\n<td> Republic Airline\\n</td>\\n<td>\\n</td>\\n<td> Mesa Airlines\\n</td></tr>\\n<tr>\\n<td> PSA Airlines\\n</td>\\n<td>\\n</td>\\n<td> SkyWest Airlines\\n</td>\\n<td>\\n</td>\\n<td> Republic Airline\\n</td></tr>\\n<tr>\\n<td> Republic Airline\\n</td>\\n<td>\\n</td>\\n<td>\\n</td>\\n<td>\\n</td>\\n<td> SkyWest Airlines\\n</td></tr>\\n<tr>\\n<td> SkyWest Airlines\\n</td>\\n<td>\\n</td>\\n<td>\\n</td>\\n<td>\\n</td>\\n<td> Trans States Airlines\\n</td></tr>\\n<tr>\\n<td> Trans States Airlines\\n</td>\\n<td>\\n</td>\\n<td>\\n</td>\\n<td>\\n</td>\\n<td>\\n</td></tr>\\n</table>\\n\\n<!-- \\nNewPP limit report\\nPreprocessor visited node count: 3/1000000\\nPreprocessor generated node count: 8/1000000\\nPost\\xe2\\x80\\x90expand include size: 0/2097152 bytes\\nTemplate argument size: 0/2097152 bytes\\nHighest expansion depth: 2/40\\nExpensive parser function count: 0/100\\n-->\\n</div>\\t\\t\\t\\t<!-- /bodycontent -->\\r\\n\\t\\t\\t\\t\\t\\t\\t\\t<!-- printfooter -->\\r\\n\\t\\t\\t\\t<div class=\"printfooter\">\\r\\n\\t\\t\\t\\tRetrieved from \"<a href=\"https://aspmhelp.faa.gov/index.php?title=ASQP:_Carrier_Codes_and_Names&amp;oldid=6607\">https://aspmhelp.faa.gov/index.php?title=ASQP:_Carrier_Codes_and_Names&amp;oldid=6607</a>\"\\t\\t\\t\\t</div>\\r\\n\\t\\t\\t\\t<!-- /printfooter -->\\r\\n\\t\\t\\t\\t\\t\\t\\t\\t\\t\\t\\t\\t<!-- catlinks -->\\r\\n\\t\\t\\t\\t<div id=\\'catlinks\\' class=\\'catlinks catlinks-allhidden\\'></div>\\t\\t\\t\\t<!-- /catlinks -->\\r\\n\\t\\t\\t\\t\\t\\t\\t\\t\\t\\t\\t\\t<div class=\"visualClear\"></div>\\r\\n\\t\\t\\t\\t<!-- debughtml -->\\r\\n\\t\\t\\t\\t\\t\\t\\t\\t<!-- /debughtml -->\\r\\n\\t\\t\\t</div>\\r\\n\\t\\t\\t<!-- /bodyContent -->\\r\\n\\t\\t</div>\\r\\n\\t\\t<!-- /content -->\\r\\n\\t\\t<div id=\"mw-navigation\">\\r\\n\\t\\t\\t<h2>Navigation menu</h2>\\r\\n\\t\\t\\t<!-- header -->\\r\\n\\t\\t\\t<div id=\"mw-head\">\\r\\n\\t\\t\\t\\t\\n<!-- 0 -->\\n<div id=\"p-personal\" role=\"navigation\" class=\"\">\\r\\n\\t<h3>Personal tools</h3>\\r\\n\\t<ul>\\r\\n<li id=\"pt-login\"><a href=\"/index.php?title=Special:UserLogin&amp;returnto=ASQP%3A+Carrier+Codes+and+Names\" title=\"You are encouraged to log in; however, it is not mandatory [o]\" accesskey=\"o\">Log in</a></li>\\t</ul>\\r\\n</div>\\r\\n\\n<!-- /0 -->\\n\\t\\t\\t\\t<div id=\"left-navigation\">\\r\\n\\t\\t\\t\\t\\t\\n<!-- 0 -->\\n<div id=\"p-namespaces\" role=\"navigation\" class=\"vectorTabs\">\\r\\n\\t<h3>Namespaces</h3>\\r\\n\\t<ul>\\r\\n\\t\\t\\t\\t\\t<li  id=\"ca-nstab-main\" class=\"selected\"><span><a href=\"/index.php/ASQP:_Carrier_Codes_and_Names\"  title=\"View the content page [c]\" accesskey=\"c\">Page</a></span></li>\\r\\n\\t\\t\\t\\t\\t<li  id=\"ca-talk\" class=\"new\"><span><a href=\"/index.php?title=Talk:ASQP:_Carrier_Codes_and_Names&amp;action=edit&amp;redlink=1\"  title=\"Discussion about the content page [t]\" accesskey=\"t\">Discussion</a></span></li>\\r\\n\\t\\t\\t</ul>\\r\\n</div>\\r\\n\\n<!-- /0 -->\\n\\n<!-- 1 -->\\n<div id=\"p-variants\" role=\"navigation\" class=\"vectorMenu emptyPortlet\">\\r\\n\\t<h3 id=\"mw-vector-current-variant\">\\r\\n\\t\\t</h3>\\r\\n\\t<h3><span>Variants</span><a href=\"#\"></a></h3>\\r\\n\\t<div class=\"menu\">\\r\\n\\t\\t<ul>\\r\\n\\t\\t\\t\\t\\t</ul>\\r\\n\\t</div>\\r\\n</div>\\r\\n\\n<!-- /1 -->\\n\\t\\t\\t\\t</div>\\r\\n\\t\\t\\t\\t<div id=\"right-navigation\">\\r\\n\\t\\t\\t\\t\\t\\n<!-- 0 -->\\n<div id=\"p-views\" role=\"navigation\" class=\"vectorTabs\">\\r\\n\\t<h3>Views</h3>\\r\\n\\t<ul>\\r\\n\\t\\t\\t\\t\\t<li id=\"ca-view\" class=\"selected\"><span><a href=\"/index.php/ASQP:_Carrier_Codes_and_Names\" >Read</a></span></li>\\r\\n\\t\\t\\t</ul>\\r\\n</div>\\r\\n\\n<!-- /0 -->\\n\\n<!-- 1 -->\\n<div id=\"p-cactions\" role=\"navigation\" class=\"vectorMenu emptyPortlet\">\\r\\n\\t<h3><span>Actions</span><a href=\"#\"></a></h3>\\r\\n\\t<div class=\"menu\">\\r\\n\\t\\t<ul>\\r\\n\\t\\t\\t\\t\\t</ul>\\r\\n\\t</div>\\r\\n</div>\\r\\n\\n<!-- /1 -->\\n\\n<!-- 2 -->\\n<div id=\"p-search\" role=\"search\">\\r\\n\\t<h3><label for=\"searchInput\">Search</label></h3>\\r\\n\\t<form action=\"/index.php\" id=\"searchform\">\\r\\n\\t\\t\\t\\t<div>\\r\\n\\t\\t\\t<input type=\"search\" name=\"search\" title=\"Search ASPMHelp [f]\" accesskey=\"f\" id=\"searchInput\" />\\t\\t\\t<input type=\"submit\" name=\"go\" value=\"Go\" title=\"Go to a page with this exact name if exists\" id=\"searchGoButton\" class=\"searchButton\" />\\t\\t\\t<input type=\"submit\" name=\"fulltext\" value=\"Search\" title=\"Search the pages for this text\" id=\"mw-searchButton\" class=\"searchButton\" />\\t\\t\\t\\t\\t<input type=\\'hidden\\' name=\"title\" value=\"Special:Search\"/>\\r\\n\\t\\t</div>\\r\\n\\t</form>\\r\\n</div>\\r\\n\\n<!-- /2 -->\\n\\t\\t\\t\\t</div>\\r\\n\\t\\t\\t</div>\\r\\n\\t\\t\\t<!-- /header -->\\r\\n\\t\\t\\t<!-- panel -->\\r\\n\\t\\t\\t<div id=\"mw-panel\">\\r\\n\\t\\t\\t\\t<!-- logo -->\\r\\n\\t\\t\\t\\t\\t<div id=\"p-logo\" role=\"banner\"><a style=\"background-image: url(/images/faa.gif);\" href=\"/index.php/Main_Page\"  title=\"Visit the main page\"></a></div>\\r\\n\\t\\t\\t\\t<!-- /logo -->\\r\\n\\t\\t\\t\\t\\n<!-- navigation -->\\n<div class=\"portal\" role=\"navigation\" id=\\'p-navigation\\'>\\r\\n\\t<h3>Navigation</h3>\\r\\n\\t<div class=\"body\">\\r\\n\\t\\t<ul>\\r\\n\\t\\t\\t<li id=\"n-mainpage\"><a href=\"/index.php/Main_Page\" title=\"Visit the main page [z]\" accesskey=\"z\">Main Page</a></li>\\r\\n\\t\\t</ul>\\r\\n\\t</div>\\r\\n</div>\\r\\n\\n<!-- /navigation -->\\n\\n<!-- SEARCH -->\\n\\n<!-- /SEARCH -->\\n\\n<!-- TOOLBOX -->\\n<div class=\"portal\" role=\"navigation\" id=\\'p-tb\\'>\\r\\n\\t<h3>Toolbox</h3>\\r\\n\\t<div class=\"body\">\\r\\n\\t\\t<ul>\\r\\n\\t\\t\\t<li id=\"t-whatlinkshere\"><a href=\"/index.php/Special:WhatLinksHere/ASQP:_Carrier_Codes_and_Names\" title=\"A list of all wiki pages that link here [j]\" accesskey=\"j\">What links here</a></li>\\r\\n\\t\\t\\t<li id=\"t-recentchangeslinked\"><a href=\"/index.php/Special:RecentChangesLinked/ASQP:_Carrier_Codes_and_Names\" title=\"Recent changes in pages linked from this page [k]\" accesskey=\"k\">Related changes</a></li>\\r\\n\\t\\t\\t<li id=\"t-specialpages\"><a href=\"/index.php/Special:SpecialPages\" title=\"A list of all special pages [q]\" accesskey=\"q\">Special pages</a></li>\\r\\n\\t\\t\\t<li id=\"t-print\"><a href=\"/index.php?title=ASQP:_Carrier_Codes_and_Names&amp;printable=yes\" rel=\"alternate\" title=\"Printable version of this page [p]\" accesskey=\"p\">Printable version</a></li>\\r\\n\\t\\t\\t<li id=\"t-permalink\"><a href=\"/index.php?title=ASQP:_Carrier_Codes_and_Names&amp;oldid=6607\" title=\"Permanent link to this revision of the page\">Permanent link</a></li>\\r\\n\\t\\t\\t<li id=\"t-info\"><a href=\"/index.php?title=ASQP:_Carrier_Codes_and_Names&amp;action=info\">Page information</a></li>\\r\\n\\t\\t</ul>\\r\\n\\t</div>\\r\\n</div>\\r\\n\\n<!-- /TOOLBOX -->\\n\\n<!-- LANGUAGES -->\\n\\n<!-- /LANGUAGES -->\\n\\t\\t\\t</div>\\r\\n\\t\\t\\t<!-- /panel -->\\r\\n\\t\\t</div>\\r\\n\\t\\t<!-- footer -->\\r\\n\\t\\t<div id=\"footer\" role=\"contentinfo\">\\r\\n\\t\\t\\t\\t\\t\\t\\t<ul id=\"footer-info\">\\r\\n\\t\\t\\t\\t\\t\\t\\t\\t\\t\\t\\t<li id=\"footer-info-lastmod\"> This page was last modified on 29 November 2018, at 13:02.</li>\\r\\n\\t\\t\\t\\t\\t\\t\\t\\t\\t\\t\\t<li id=\"footer-info-viewcount\">This page has been accessed 22,330 times.</li>\\r\\n\\t\\t\\t\\t\\t\\t\\t\\t\\t</ul>\\r\\n\\t\\t\\t\\t\\t\\t\\t<ul id=\"footer-places\">\\r\\n\\t\\t\\t\\t\\t\\t\\t\\t\\t\\t\\t<li id=\"footer-places-privacy\"><a href=\"/index.php/ASPMHelp:Privacy_policy\" title=\"ASPMHelp:Privacy policy\">Privacy policy</a></li>\\r\\n\\t\\t\\t\\t\\t\\t\\t\\t\\t\\t\\t<li id=\"footer-places-about\"><a href=\"/index.php/ASPMHelp:About\" title=\"ASPMHelp:About\">About ASPMHelp</a></li>\\r\\n\\t\\t\\t\\t\\t\\t\\t\\t\\t</ul>\\r\\n\\t\\t\\t\\t\\t\\t\\t\\t\\t\\t<ul id=\"footer-icons\" class=\"noprint\">\\r\\n\\t\\t\\t\\t\\t<li id=\"footer-poweredbyico\">\\r\\n\\t\\t\\t\\t\\t\\t<a href=\"//www.mediawiki.org/\"><img src=\"/skins/common/images/poweredby_mediawiki_88x31.png\" alt=\"Powered by MediaWiki\" width=\"88\" height=\"31\" /></a>\\r\\n\\t\\t\\t\\t\\t</li>\\r\\n\\t\\t\\t\\t</ul>\\r\\n\\t\\t\\t\\t\\t\\t<div style=\"clear:both\"></div>\\r\\n\\t\\t</div>\\r\\n\\t\\t<!-- /footer -->\\r\\n\\t\\t<script>if(window.mw){\\nmw.loader.state({\"site\":\"loading\",\"user\":\"missing\",\"user.groups\":\"ready\"});\\n}</script>\\n<script>if(window.mw){\\nmw.loader.load([\"mediawiki.action.view.postEdit\",\"mediawiki.user\",\"mediawiki.page.ready\",\"mediawiki.searchSuggest\",\"mediawiki.hidpi\",\"skins.vector.js\"], null, true);\\n}</script>\\n<script src=\"https://aspmhelp.faa.gov/load.php?debug=false&amp;lang=en&amp;modules=site&amp;only=scripts&amp;skin=vector&amp;*\"></script>\\n<!-- Served in 0.377 secs. -->\\r\\n\\t</body>\\r\\n</html>\\r\\n'\n"
     ]
    }
   ],
   "source": [
    "try:\n",
    "    r = requests.get(\"https://aspmhelp.faa.gov/index.php/ASQP:_Carrier_Codes_and_Names\")\n",
    "except requests.exceptions.HTTPError as he:\n",
    "    print(he)\n",
    "except requests.exceptions.ConnectionError as ce:\n",
    "    print(ce)\n",
    "print(r.content)"
   ]
  },
  {
   "cell_type": "markdown",
   "metadata": {
    "slideshow": {
     "slide_type": "slide"
    }
   },
   "source": [
    "Time for some cooking... In today's menu we have **Flights soup**.\n",
    "\n",
    "The soup's ingridients are all the html tags for the page, including the table with the Carrier's codes and names."
   ]
  },
  {
   "cell_type": "code",
   "execution_count": 41,
   "metadata": {
    "slideshow": {
     "slide_type": "slide"
    }
   },
   "outputs": [
    {
     "data": {
      "text/plain": [
       "<!DOCTYPE html>\n",
       "\n",
       "<html class=\"client-nojs\" dir=\"ltr\" lang=\"en\">\n",
       "<head>\n",
       "<title>ASQP: Carrier Codes and Names - ASPMHelp</title>\n",
       "<meta charset=\"utf-8\"/>\n",
       "<meta content=\"MediaWiki 1.21.1\" name=\"generator\"/>\n",
       "<link href=\"/favicon.ico\" rel=\"shortcut icon\"/>\n",
       "<link href=\"/opensearch_desc.php\" rel=\"search\" title=\"ASPMHelp (en)\" type=\"application/opensearchdescription+xml\"/>\n",
       "<link href=\"https://aspmhelp.faa.gov/api.php?action=rsd\" rel=\"EditURI\" type=\"application/rsd+xml\"/>\n",
       "<link href=\"/index.php?title=Special:RecentChanges&amp;feed=atom\" rel=\"alternate\" title=\"ASPMHelp Atom feed\" type=\"application/atom+xml\"/>\n",
       "<link href=\"https://aspmhelp.faa.gov/load.php?debug=false&amp;lang=en&amp;modules=mediawiki.legacy.commonPrint%2Cshared%7Cskins.vector&amp;only=styles&amp;skin=vector&amp;*\" rel=\"stylesheet\"/>\n",
       "<meta content=\"\" name=\"ResourceLoaderDynamicStyles\"/>\n",
       "<link href=\"https://aspmhelp.faa.gov/load.php?debug=false&amp;lang=en&amp;modules=site&amp;only=styles&amp;skin=vector&amp;*\" rel=\"stylesheet\"/>\n",
       "<style>a:lang(ar),a:lang(ckb),a:lang(fa),a:lang(kk-arab),a:lang(mzn),a:lang(ps),a:lang(ur){text-decoration:none}\n",
       "/* cache key: wikidb-apoweb_:resourceloader:filter:minify-css:7:3cab71823e26347bd953c5bf8cc81c89 */</style>\n",
       "<script src=\"https://aspmhelp.faa.gov/load.php?debug=false&amp;lang=en&amp;modules=startup&amp;only=scripts&amp;skin=vector&amp;*\"></script>\n",
       "<script>if(window.mw){\n",
       "mw.config.set({\"wgCanonicalNamespace\":\"\",\"wgCanonicalSpecialPageName\":false,\"wgNamespaceNumber\":0,\"wgPageName\":\"ASQP:_Carrier_Codes_and_Names\",\"wgTitle\":\"ASQP: Carrier Codes and Names\",\"wgCurRevisionId\":6607,\"wgArticleId\":331,\"wgIsArticle\":true,\"wgAction\":\"view\",\"wgUserName\":null,\"wgUserGroups\":[\"*\"],\"wgCategories\":[],\"wgBreakFrames\":false,\"wgPageContentLanguage\":\"en\",\"wgSeparatorTransformTable\":[\"\",\"\"],\"wgDigitTransformTable\":[\"\",\"\"],\"wgDefaultDateFormat\":\"dmy\",\"wgMonthNames\":[\"\",\"January\",\"February\",\"March\",\"April\",\"May\",\"June\",\"July\",\"August\",\"September\",\"October\",\"November\",\"December\"],\"wgMonthNamesShort\":[\"\",\"Jan\",\"Feb\",\"Mar\",\"Apr\",\"May\",\"Jun\",\"Jul\",\"Aug\",\"Sep\",\"Oct\",\"Nov\",\"Dec\"],\"wgRelevantPageName\":\"ASQP:_Carrier_Codes_and_Names\",\"wgRestrictionEdit\":[],\"wgRestrictionMove\":[]});\n",
       "}</script><script>if(window.mw){\n",
       "mw.loader.implement(\"user.options\",function(){mw.user.options.set({\"ccmeonemails\":0,\"cols\":80,\"date\":\"default\",\"diffonly\":0,\"disablemail\":0,\"disablesuggest\":0,\"editfont\":\"default\",\"editondblclick\":0,\"editsection\":1,\"editsectiononrightclick\":0,\"enotifminoredits\":0,\"enotifrevealaddr\":0,\"enotifusertalkpages\":1,\"enotifwatchlistpages\":0,\"extendwatchlist\":0,\"externaldiff\":0,\"externaleditor\":0,\"fancysig\":0,\"forceeditsummary\":0,\"gender\":\"unknown\",\"hideminor\":0,\"hidepatrolled\":0,\"imagesize\":2,\"justify\":0,\"math\":1,\"minordefault\":0,\"newpageshidepatrolled\":0,\"nocache\":0,\"noconvertlink\":0,\"norollbackdiff\":0,\"numberheadings\":0,\"previewonfirst\":0,\"previewontop\":1,\"quickbar\":5,\"rcdays\":7,\"rclimit\":50,\"rememberpassword\":0,\"rows\":25,\"searchlimit\":20,\"showhiddencats\":0,\"showjumplinks\":1,\"shownumberswatching\":1,\"showtoc\":1,\"showtoolbar\":1,\"skin\":\"vector\",\"stubthreshold\":0,\"thumbsize\":2,\"underline\":2,\"uselivepreview\":0,\"usenewrc\":0,\"watchcreations\":0,\"watchdefault\":0,\"watchdeletion\":0,\"watchlistdays\":3,\n",
       "\"watchlisthideanons\":0,\"watchlisthidebots\":0,\"watchlisthideliu\":0,\"watchlisthideminor\":0,\"watchlisthideown\":0,\"watchlisthidepatrolled\":0,\"watchmoves\":0,\"wllimit\":250,\"variant\":\"en\",\"language\":\"en\",\"searchNs0\":true,\"searchNs1\":false,\"searchNs2\":false,\"searchNs3\":false,\"searchNs4\":false,\"searchNs5\":false,\"searchNs6\":false,\"searchNs7\":false,\"searchNs8\":false,\"searchNs9\":false,\"searchNs10\":false,\"searchNs11\":false,\"searchNs12\":false,\"searchNs13\":false,\"searchNs14\":false,\"searchNs15\":false});;},{},{});mw.loader.implement(\"user.tokens\",function(){mw.user.tokens.set({\"editToken\":\"+\\\\\",\"patrolToken\":false,\"watchToken\":false});;},{},{});\n",
       "/* cache key: wikidb-apoweb_:resourceloader:filter:minify-js:7:5e9d6f662546365d82558dd92b2a2224 */\n",
       "}</script>\n",
       "<script>if(window.mw){\n",
       "mw.loader.load([\"mediawiki.page.startup\",\"mediawiki.legacy.wikibits\",\"mediawiki.legacy.ajax\"]);\n",
       "}</script>\n",
       "<!--[if lt IE 7]><style type=\"text/css\">body{behavior:url(\"/skins/vector/csshover.min.htc\")}</style><![endif]--></head>\n",
       "<body class=\"mediawiki ltr sitedir-ltr ns-0 ns-subject page-ASQP_Carrier_Codes_and_Names skin-vector action-view vector-animateLayout\">\n",
       "<div class=\"noprint\" id=\"mw-page-base\"></div>\n",
       "<div class=\"noprint\" id=\"mw-head-base\"></div>\n",
       "<!-- content -->\n",
       "<div class=\"mw-body\" id=\"content\" role=\"main\">\n",
       "<a id=\"top\"></a>\n",
       "<div id=\"mw-js-message\" style=\"display:none;\"></div>\n",
       "<!-- firstHeading -->\n",
       "<h1 class=\"firstHeading\" id=\"firstHeading\" lang=\"en\"><span dir=\"auto\">ASQP: Carrier Codes and Names</span></h1>\n",
       "<!-- /firstHeading -->\n",
       "<!-- bodyContent -->\n",
       "<div id=\"bodyContent\">\n",
       "<!-- tagline -->\n",
       "<div id=\"siteSub\">From ASPMHelp</div>\n",
       "<!-- /tagline -->\n",
       "<!-- subtitle -->\n",
       "<div id=\"contentSub\"></div>\n",
       "<!-- /subtitle -->\n",
       "<!-- jumpto -->\n",
       "<div class=\"mw-jump\" id=\"jump-to-nav\">\n",
       "\t\t\t\t\tJump to:\t\t\t\t\t<a href=\"#mw-navigation\">navigation</a>, \t\t\t\t\t<a href=\"#p-search\">search</a>\n",
       "</div>\n",
       "<!-- /jumpto -->\n",
       "<!-- bodycontent -->\n",
       "<div class=\"mw-content-ltr\" dir=\"ltr\" id=\"mw-content-text\" lang=\"en\"><p>These are the carriers currently tracked in ASQP:\n",
       "</p>\n",
       "<table class=\"wikitable\">\n",
       "<tr>\n",
       "<th> IATA Code\n",
       "</th>\n",
       "<th> ICAO Code\n",
       "</th>\n",
       "<th> Air Carrier Name\n",
       "</th></tr>\n",
       "<tr>\n",
       "<td> ZW\n",
       "</td>\n",
       "<td> AWI\n",
       "</td>\n",
       "<td> Air Wisconsin\n",
       "</td></tr>\n",
       "<tr>\n",
       "<td> AS\n",
       "</td>\n",
       "<td> ASA\n",
       "</td>\n",
       "<td> Alaska Airlines\n",
       "</td></tr>\n",
       "<tr>\n",
       "<td> G4\n",
       "</td>\n",
       "<td> AAY \n",
       "</td>\n",
       "<td> Allegiant Air LLC \n",
       "</td></tr>\n",
       "<tr>\n",
       "<td> AA\n",
       "</td>\n",
       "<td> AAL\n",
       "</td>\n",
       "<td> American Airlines\n",
       "</td></tr>\n",
       "<tr>\n",
       "<td> C5\n",
       "</td>\n",
       "<td> UCA \n",
       "</td>\n",
       "<td> Champlain Air \n",
       "</td></tr>\n",
       "<tr>\n",
       "<td> CP\n",
       "</td>\n",
       "<td> CPZ \n",
       "</td>\n",
       "<td> Compass Airlines \n",
       "</td></tr>\n",
       "<tr>\n",
       "<td> DL\n",
       "</td>\n",
       "<td> DAL \n",
       "</td>\n",
       "<td> Delta Air Lines, Inc. \n",
       "</td></tr>\n",
       "<tr>\n",
       "<td> EM\n",
       "</td>\n",
       "<td> CFS \n",
       "</td>\n",
       "<td> Empire Airline \n",
       "</td></tr>\n",
       "<tr>\n",
       "<td> 9E\n",
       "</td>\n",
       "<td> EDV \n",
       "</td>\n",
       "<td> Endeavor Air \n",
       "</td></tr>\n",
       "<tr>\n",
       "<td> MQ\n",
       "</td>\n",
       "<td> ENY \n",
       "</td>\n",
       "<td> Envoy Air \n",
       "</td></tr>\n",
       "<tr>\n",
       "<td> EV\n",
       "</td>\n",
       "<td> ASQ \n",
       "</td>\n",
       "<td> ExpressJet Airlines \n",
       "</td></tr>\n",
       "<tr>\n",
       "<td> F9\n",
       "</td>\n",
       "<td> FFT \n",
       "</td>\n",
       "<td> Frontier Airlines, Inc. \n",
       "</td></tr>\n",
       "<tr>\n",
       "<td> G7\n",
       "</td>\n",
       "<td> GJS \n",
       "</td>\n",
       "<td> GoJet Airlines \n",
       "</td></tr>\n",
       "<tr>\n",
       "<td> HA\n",
       "</td>\n",
       "<td> HAL \n",
       "</td>\n",
       "<td> Hawaiian Airlines Inc. \n",
       "</td></tr>\n",
       "<tr>\n",
       "<td> QX\n",
       "</td>\n",
       "<td> QXE \n",
       "</td>\n",
       "<td> Horizon Air \n",
       "</td></tr>\n",
       "<tr>\n",
       "<td> B6\n",
       "</td>\n",
       "<td> JBU \n",
       "</td>\n",
       "<td> Jetblue Airways Corporation \n",
       "</td></tr>\n",
       "<tr>\n",
       "<td> OH\n",
       "</td>\n",
       "<td> JIA \n",
       "</td>\n",
       "<td> Jetstream Intl \n",
       "</td></tr>\n",
       "<tr>\n",
       "<td> YV\n",
       "</td>\n",
       "<td> ASH \n",
       "</td>\n",
       "<td> Mesa Airlines, Inc. \n",
       "</td></tr>\n",
       "<tr>\n",
       "<td> KS\n",
       "</td>\n",
       "<td> NLA \n",
       "</td>\n",
       "<td> Penair \n",
       "</td></tr>\n",
       "<tr>\n",
       "<td> PT\n",
       "</td>\n",
       "<td> PDT \n",
       "</td>\n",
       "<td> Piedmont Airlines \n",
       "</td></tr>\n",
       "<tr>\n",
       "<td> YX\n",
       "</td>\n",
       "<td> RPA \n",
       "</td>\n",
       "<td> Republic Airlines \n",
       "</td></tr>\n",
       "<tr>\n",
       "<td> OO\n",
       "</td>\n",
       "<td> SKW \n",
       "</td>\n",
       "<td> Skywest Airlines \n",
       "</td></tr>\n",
       "<tr>\n",
       "<td> WN\n",
       "</td>\n",
       "<td> SWA \n",
       "</td>\n",
       "<td> Southwest Airlines \n",
       "</td></tr>\n",
       "<tr>\n",
       "<td> NK\n",
       "</td>\n",
       "<td> NKS \n",
       "</td>\n",
       "<td> Spirit Airlines, Inc. \n",
       "</td></tr>\n",
       "<tr>\n",
       "<td> AX\n",
       "</td>\n",
       "<td> LOF \n",
       "</td>\n",
       "<td> Trans State \n",
       "</td></tr>\n",
       "<tr>\n",
       "<td> UA\n",
       "</td>\n",
       "<td> UAL \n",
       "</td>\n",
       "<td> United Airlines, Inc. \n",
       "</td></tr></table>\n",
       "<h2> <span class=\"mw-headline\" id=\"Branded_Codeshare_Partners\">Branded Codeshare Partners</span></h2>\n",
       "<p>The following table shows the relationship between ASQP selling carriers and their regional partners.  All of the airlines in the table are ASQP carriers.\n",
       "</p>\n",
       "<table class=\"wikitable\">\n",
       "<tr>\n",
       "<th> American Airlines Branded Codeshare Partners\n",
       "</th>\n",
       "<th> Alaska Airlines Branded Codeshare Partners\n",
       "</th>\n",
       "<th> Delta Air Lines Branded Codeshare Partners\n",
       "</th>\n",
       "<th> Hawaiian Airlines Branded Codeshare Partners\n",
       "</th>\n",
       "<th> United Airlines Branded Codeshare Partners\n",
       "</th></tr>\n",
       "<tr>\n",
       "<td> Compass Airlines\n",
       "</td>\n",
       "<td> Horizon Air\n",
       "</td>\n",
       "<td> Compass Airlines\n",
       "</td>\n",
       "<td> Empire Airlines\n",
       "</td>\n",
       "<td> Air Wisconsin Airlines\n",
       "</td></tr>\n",
       "<tr>\n",
       "<td> Envoy Air\n",
       "</td>\n",
       "<td> Peninsula Airways\n",
       "</td>\n",
       "<td> Endeavor Air\n",
       "</td>\n",
       "<td>\n",
       "</td>\n",
       "<td> ExpressJet Airlines\n",
       "</td></tr>\n",
       "<tr>\n",
       "<td> ExpressJet Airlines\n",
       "</td>\n",
       "<td> SkyWest Airlines\n",
       "</td>\n",
       "<td> ExpressJet Airlines\n",
       "</td>\n",
       "<td>\n",
       "</td>\n",
       "<td>\n",
       "</td></tr>\n",
       "<tr>\n",
       "<td> Mesa Airlines\n",
       "</td>\n",
       "<td>\n",
       "</td>\n",
       "<td> GoJet Airlines\n",
       "</td>\n",
       "<td>\n",
       "</td>\n",
       "<td> GoJet\n",
       "</td></tr>\n",
       "<tr>\n",
       "<td> Piedmont Airlines\n",
       "</td>\n",
       "<td>\n",
       "</td>\n",
       "<td> Republic Airline\n",
       "</td>\n",
       "<td>\n",
       "</td>\n",
       "<td> Mesa Airlines\n",
       "</td></tr>\n",
       "<tr>\n",
       "<td> PSA Airlines\n",
       "</td>\n",
       "<td>\n",
       "</td>\n",
       "<td> SkyWest Airlines\n",
       "</td>\n",
       "<td>\n",
       "</td>\n",
       "<td> Republic Airline\n",
       "</td></tr>\n",
       "<tr>\n",
       "<td> Republic Airline\n",
       "</td>\n",
       "<td>\n",
       "</td>\n",
       "<td>\n",
       "</td>\n",
       "<td>\n",
       "</td>\n",
       "<td> SkyWest Airlines\n",
       "</td></tr>\n",
       "<tr>\n",
       "<td> SkyWest Airlines\n",
       "</td>\n",
       "<td>\n",
       "</td>\n",
       "<td>\n",
       "</td>\n",
       "<td>\n",
       "</td>\n",
       "<td> Trans States Airlines\n",
       "</td></tr>\n",
       "<tr>\n",
       "<td> Trans States Airlines\n",
       "</td>\n",
       "<td>\n",
       "</td>\n",
       "<td>\n",
       "</td>\n",
       "<td>\n",
       "</td>\n",
       "<td>\n",
       "</td></tr>\n",
       "</table>\n",
       "<!-- \n",
       "NewPP limit report\n",
       "Preprocessor visited node count: 3/1000000\n",
       "Preprocessor generated node count: 8/1000000\n",
       "Post‐expand include size: 0/2097152 bytes\n",
       "Template argument size: 0/2097152 bytes\n",
       "Highest expansion depth: 2/40\n",
       "Expensive parser function count: 0/100\n",
       "-->\n",
       "</div> <!-- /bodycontent -->\n",
       "<!-- printfooter -->\n",
       "<div class=\"printfooter\">\n",
       "\t\t\t\tRetrieved from \"<a href=\"https://aspmhelp.faa.gov/index.php?title=ASQP:_Carrier_Codes_and_Names&amp;oldid=6607\">https://aspmhelp.faa.gov/index.php?title=ASQP:_Carrier_Codes_and_Names&amp;oldid=6607</a>\"\t\t\t\t</div>\n",
       "<!-- /printfooter -->\n",
       "<!-- catlinks -->\n",
       "<div class=\"catlinks catlinks-allhidden\" id=\"catlinks\"></div> <!-- /catlinks -->\n",
       "<div class=\"visualClear\"></div>\n",
       "<!-- debughtml -->\n",
       "<!-- /debughtml -->\n",
       "</div>\n",
       "<!-- /bodyContent -->\n",
       "</div>\n",
       "<!-- /content -->\n",
       "<div id=\"mw-navigation\">\n",
       "<h2>Navigation menu</h2>\n",
       "<!-- header -->\n",
       "<div id=\"mw-head\">\n",
       "<!-- 0 -->\n",
       "<div class=\"\" id=\"p-personal\" role=\"navigation\">\n",
       "<h3>Personal tools</h3>\n",
       "<ul>\n",
       "<li id=\"pt-login\"><a accesskey=\"o\" href=\"/index.php?title=Special:UserLogin&amp;returnto=ASQP%3A+Carrier+Codes+and+Names\" title=\"You are encouraged to log in; however, it is not mandatory [o]\">Log in</a></li> </ul>\n",
       "</div>\n",
       "<!-- /0 -->\n",
       "<div id=\"left-navigation\">\n",
       "<!-- 0 -->\n",
       "<div class=\"vectorTabs\" id=\"p-namespaces\" role=\"navigation\">\n",
       "<h3>Namespaces</h3>\n",
       "<ul>\n",
       "<li class=\"selected\" id=\"ca-nstab-main\"><span><a accesskey=\"c\" href=\"/index.php/ASQP:_Carrier_Codes_and_Names\" title=\"View the content page [c]\">Page</a></span></li>\n",
       "<li class=\"new\" id=\"ca-talk\"><span><a accesskey=\"t\" href=\"/index.php?title=Talk:ASQP:_Carrier_Codes_and_Names&amp;action=edit&amp;redlink=1\" title=\"Discussion about the content page [t]\">Discussion</a></span></li>\n",
       "</ul>\n",
       "</div>\n",
       "<!-- /0 -->\n",
       "<!-- 1 -->\n",
       "<div class=\"vectorMenu emptyPortlet\" id=\"p-variants\" role=\"navigation\">\n",
       "<h3 id=\"mw-vector-current-variant\">\n",
       "</h3>\n",
       "<h3><span>Variants</span><a href=\"#\"></a></h3>\n",
       "<div class=\"menu\">\n",
       "<ul>\n",
       "</ul>\n",
       "</div>\n",
       "</div>\n",
       "<!-- /1 -->\n",
       "</div>\n",
       "<div id=\"right-navigation\">\n",
       "<!-- 0 -->\n",
       "<div class=\"vectorTabs\" id=\"p-views\" role=\"navigation\">\n",
       "<h3>Views</h3>\n",
       "<ul>\n",
       "<li class=\"selected\" id=\"ca-view\"><span><a href=\"/index.php/ASQP:_Carrier_Codes_and_Names\">Read</a></span></li>\n",
       "</ul>\n",
       "</div>\n",
       "<!-- /0 -->\n",
       "<!-- 1 -->\n",
       "<div class=\"vectorMenu emptyPortlet\" id=\"p-cactions\" role=\"navigation\">\n",
       "<h3><span>Actions</span><a href=\"#\"></a></h3>\n",
       "<div class=\"menu\">\n",
       "<ul>\n",
       "</ul>\n",
       "</div>\n",
       "</div>\n",
       "<!-- /1 -->\n",
       "<!-- 2 -->\n",
       "<div id=\"p-search\" role=\"search\">\n",
       "<h3><label for=\"searchInput\">Search</label></h3>\n",
       "<form action=\"/index.php\" id=\"searchform\">\n",
       "<div>\n",
       "<input accesskey=\"f\" id=\"searchInput\" name=\"search\" title=\"Search ASPMHelp [f]\" type=\"search\"/> <input class=\"searchButton\" id=\"searchGoButton\" name=\"go\" title=\"Go to a page with this exact name if exists\" type=\"submit\" value=\"Go\"/> <input class=\"searchButton\" id=\"mw-searchButton\" name=\"fulltext\" title=\"Search the pages for this text\" type=\"submit\" value=\"Search\"/> <input name=\"title\" type=\"hidden\" value=\"Special:Search\"/>\n",
       "</div>\n",
       "</form>\n",
       "</div>\n",
       "<!-- /2 -->\n",
       "</div>\n",
       "</div>\n",
       "<!-- /header -->\n",
       "<!-- panel -->\n",
       "<div id=\"mw-panel\">\n",
       "<!-- logo -->\n",
       "<div id=\"p-logo\" role=\"banner\"><a href=\"/index.php/Main_Page\" style=\"background-image: url(/images/faa.gif);\" title=\"Visit the main page\"></a></div>\n",
       "<!-- /logo -->\n",
       "<!-- navigation -->\n",
       "<div class=\"portal\" id=\"p-navigation\" role=\"navigation\">\n",
       "<h3>Navigation</h3>\n",
       "<div class=\"body\">\n",
       "<ul>\n",
       "<li id=\"n-mainpage\"><a accesskey=\"z\" href=\"/index.php/Main_Page\" title=\"Visit the main page [z]\">Main Page</a></li>\n",
       "</ul>\n",
       "</div>\n",
       "</div>\n",
       "<!-- /navigation -->\n",
       "<!-- SEARCH -->\n",
       "<!-- /SEARCH -->\n",
       "<!-- TOOLBOX -->\n",
       "<div class=\"portal\" id=\"p-tb\" role=\"navigation\">\n",
       "<h3>Toolbox</h3>\n",
       "<div class=\"body\">\n",
       "<ul>\n",
       "<li id=\"t-whatlinkshere\"><a accesskey=\"j\" href=\"/index.php/Special:WhatLinksHere/ASQP:_Carrier_Codes_and_Names\" title=\"A list of all wiki pages that link here [j]\">What links here</a></li>\n",
       "<li id=\"t-recentchangeslinked\"><a accesskey=\"k\" href=\"/index.php/Special:RecentChangesLinked/ASQP:_Carrier_Codes_and_Names\" title=\"Recent changes in pages linked from this page [k]\">Related changes</a></li>\n",
       "<li id=\"t-specialpages\"><a accesskey=\"q\" href=\"/index.php/Special:SpecialPages\" title=\"A list of all special pages [q]\">Special pages</a></li>\n",
       "<li id=\"t-print\"><a accesskey=\"p\" href=\"/index.php?title=ASQP:_Carrier_Codes_and_Names&amp;printable=yes\" rel=\"alternate\" title=\"Printable version of this page [p]\">Printable version</a></li>\n",
       "<li id=\"t-permalink\"><a href=\"/index.php?title=ASQP:_Carrier_Codes_and_Names&amp;oldid=6607\" title=\"Permanent link to this revision of the page\">Permanent link</a></li>\n",
       "<li id=\"t-info\"><a href=\"/index.php?title=ASQP:_Carrier_Codes_and_Names&amp;action=info\">Page information</a></li>\n",
       "</ul>\n",
       "</div>\n",
       "</div>\n",
       "<!-- /TOOLBOX -->\n",
       "<!-- LANGUAGES -->\n",
       "<!-- /LANGUAGES -->\n",
       "</div>\n",
       "<!-- /panel -->\n",
       "</div>\n",
       "<!-- footer -->\n",
       "<div id=\"footer\" role=\"contentinfo\">\n",
       "<ul id=\"footer-info\">\n",
       "<li id=\"footer-info-lastmod\"> This page was last modified on 29 November 2018, at 13:02.</li>\n",
       "<li id=\"footer-info-viewcount\">This page has been accessed 22,330 times.</li>\n",
       "</ul>\n",
       "<ul id=\"footer-places\">\n",
       "<li id=\"footer-places-privacy\"><a href=\"/index.php/ASPMHelp:Privacy_policy\" title=\"ASPMHelp:Privacy policy\">Privacy policy</a></li>\n",
       "<li id=\"footer-places-about\"><a href=\"/index.php/ASPMHelp:About\" title=\"ASPMHelp:About\">About ASPMHelp</a></li>\n",
       "</ul>\n",
       "<ul class=\"noprint\" id=\"footer-icons\">\n",
       "<li id=\"footer-poweredbyico\">\n",
       "<a href=\"//www.mediawiki.org/\"><img alt=\"Powered by MediaWiki\" height=\"31\" src=\"/skins/common/images/poweredby_mediawiki_88x31.png\" width=\"88\"/></a>\n",
       "</li>\n",
       "</ul>\n",
       "<div style=\"clear:both\"></div>\n",
       "</div>\n",
       "<!-- /footer -->\n",
       "<script>if(window.mw){\n",
       "mw.loader.state({\"site\":\"loading\",\"user\":\"missing\",\"user.groups\":\"ready\"});\n",
       "}</script>\n",
       "<script>if(window.mw){\n",
       "mw.loader.load([\"mediawiki.action.view.postEdit\",\"mediawiki.user\",\"mediawiki.page.ready\",\"mediawiki.searchSuggest\",\"mediawiki.hidpi\",\"skins.vector.js\"], null, true);\n",
       "}</script>\n",
       "<script src=\"https://aspmhelp.faa.gov/load.php?debug=false&amp;lang=en&amp;modules=site&amp;only=scripts&amp;skin=vector&amp;*\"></script>\n",
       "<!-- Served in 0.377 secs. -->\n",
       "</body>\n",
       "</html>"
      ]
     },
     "execution_count": 41,
     "metadata": {},
     "output_type": "execute_result"
    }
   ],
   "source": [
    "html = r.content\n",
    "soup = BeautifulSoup(html, 'html.parser')\n",
    "soup"
   ]
  },
  {
   "cell_type": "markdown",
   "metadata": {
    "slideshow": {
     "slide_type": "slide"
    }
   },
   "source": [
    "We will parse the html and collect the data"
   ]
  },
  {
   "cell_type": "code",
   "execution_count": 42,
   "metadata": {
    "slideshow": {
     "slide_type": "fragment"
    }
   },
   "outputs": [
    {
     "data": {
      "text/plain": [
       "[[],\n",
       " ['ZW', 'AWI', 'Air Wisconsin'],\n",
       " ['AS', 'ASA', 'Alaska Airlines'],\n",
       " ['G4', 'AAY', 'Allegiant Air LLC'],\n",
       " ['AA', 'AAL', 'American Airlines']]"
      ]
     },
     "execution_count": 42,
     "metadata": {},
     "output_type": "execute_result"
    }
   ],
   "source": [
    "table = soup.find(\"table\")\n",
    "\n",
    "rows = table.findAll('tr')\n",
    "\n",
    "final_list = []\n",
    "intermediate_list = []\n",
    "\n",
    "for tr in rows:\n",
    "    for td in tr.findAll(\"td\"):\n",
    "        intermediate_list.append(td.findNext(text=True).strip())\n",
    "    ## finds every element inside the table\n",
    "    final_list.append(intermediate_list)\n",
    "    intermediate_list = []\n",
    "\n",
    "data = final_list\n",
    "\n",
    "data[:5]"
   ]
  },
  {
   "cell_type": "markdown",
   "metadata": {
    "slideshow": {
     "slide_type": "slide"
    }
   },
   "source": [
    "Let's create a DataFrame out of that data"
   ]
  },
  {
   "cell_type": "code",
   "execution_count": 43,
   "metadata": {
    "slideshow": {
     "slide_type": "fragment"
    }
   },
   "outputs": [
    {
     "data": {
      "text/html": [
       "<div>\n",
       "<style scoped>\n",
       "    .dataframe tbody tr th:only-of-type {\n",
       "        vertical-align: middle;\n",
       "    }\n",
       "\n",
       "    .dataframe tbody tr th {\n",
       "        vertical-align: top;\n",
       "    }\n",
       "\n",
       "    .dataframe thead th {\n",
       "        text-align: right;\n",
       "    }\n",
       "</style>\n",
       "<table border=\"1\" class=\"dataframe\">\n",
       "  <thead>\n",
       "    <tr style=\"text-align: right;\">\n",
       "      <th></th>\n",
       "      <th>CARRIER_NAME</th>\n",
       "    </tr>\n",
       "    <tr>\n",
       "      <th>CARRIER</th>\n",
       "      <th></th>\n",
       "    </tr>\n",
       "  </thead>\n",
       "  <tbody>\n",
       "    <tr>\n",
       "      <td>ZW</td>\n",
       "      <td>Air Wisconsin</td>\n",
       "    </tr>\n",
       "    <tr>\n",
       "      <td>AS</td>\n",
       "      <td>Alaska Airlines</td>\n",
       "    </tr>\n",
       "    <tr>\n",
       "      <td>G4</td>\n",
       "      <td>Allegiant Air LLC</td>\n",
       "    </tr>\n",
       "    <tr>\n",
       "      <td>AA</td>\n",
       "      <td>American Airlines</td>\n",
       "    </tr>\n",
       "    <tr>\n",
       "      <td>C5</td>\n",
       "      <td>Champlain Air</td>\n",
       "    </tr>\n",
       "  </tbody>\n",
       "</table>\n",
       "</div>"
      ],
      "text/plain": [
       "              CARRIER_NAME\n",
       "CARRIER                   \n",
       "ZW           Air Wisconsin\n",
       "AS         Alaska Airlines\n",
       "G4       Allegiant Air LLC\n",
       "AA       American Airlines\n",
       "C5           Champlain Air"
      ]
     },
     "execution_count": 43,
     "metadata": {},
     "output_type": "execute_result"
    }
   ],
   "source": [
    "car_names = pd.DataFrame(data, columns=['CARRIER', 'CARRIER_CODE', 'CARRIER_NAME'])\n",
    "\n",
    "#delete first row\n",
    "car_names = car_names.drop(0)\n",
    "\n",
    "car_names.index = car_names.CARRIER\n",
    "\n",
    "#delete columns that are not needed\n",
    "car_names.drop(car_names.columns[[0,1]], axis=1,inplace=True)\n",
    "\n",
    "car_names.head()"
   ]
  },
  {
   "cell_type": "markdown",
   "metadata": {
    "slideshow": {
     "slide_type": "slide"
    }
   },
   "source": [
    "We can now join the Name column with the ```min_mean_origin_dest``` dataframe"
   ]
  },
  {
   "cell_type": "code",
   "execution_count": 44,
   "metadata": {
    "slideshow": {
     "slide_type": "fragment"
    }
   },
   "outputs": [
    {
     "data": {
      "text/html": [
       "<div>\n",
       "<style scoped>\n",
       "    .dataframe tbody tr th:only-of-type {\n",
       "        vertical-align: middle;\n",
       "    }\n",
       "\n",
       "    .dataframe tbody tr th {\n",
       "        vertical-align: top;\n",
       "    }\n",
       "\n",
       "    .dataframe thead th {\n",
       "        text-align: right;\n",
       "    }\n",
       "</style>\n",
       "<table border=\"1\" class=\"dataframe\">\n",
       "  <thead>\n",
       "    <tr style=\"text-align: right;\">\n",
       "      <th></th>\n",
       "      <th></th>\n",
       "      <th>MEAN_DEP_DELAY</th>\n",
       "      <th>CARRIER</th>\n",
       "      <th>CARRIER_NAME</th>\n",
       "    </tr>\n",
       "    <tr>\n",
       "      <th>ORIGIN</th>\n",
       "      <th>DEST</th>\n",
       "      <th></th>\n",
       "      <th></th>\n",
       "      <th></th>\n",
       "    </tr>\n",
       "  </thead>\n",
       "  <tbody>\n",
       "    <tr>\n",
       "      <td rowspan=\"5\" valign=\"top\">ABE</td>\n",
       "      <td>ATL</td>\n",
       "      <td>40.976190</td>\n",
       "      <td>9E</td>\n",
       "      <td>Endeavor Air</td>\n",
       "    </tr>\n",
       "    <tr>\n",
       "      <td>CLT</td>\n",
       "      <td>35.364706</td>\n",
       "      <td>OH</td>\n",
       "      <td>Jetstream Intl</td>\n",
       "    </tr>\n",
       "    <tr>\n",
       "      <td>DTW</td>\n",
       "      <td>72.098425</td>\n",
       "      <td>OO</td>\n",
       "      <td>Skywest Airlines</td>\n",
       "    </tr>\n",
       "    <tr>\n",
       "      <td>FLL</td>\n",
       "      <td>55.574074</td>\n",
       "      <td>G4</td>\n",
       "      <td>Allegiant Air LLC</td>\n",
       "    </tr>\n",
       "    <tr>\n",
       "      <td>MDT</td>\n",
       "      <td>175.000000</td>\n",
       "      <td>OO</td>\n",
       "      <td>Skywest Airlines</td>\n",
       "    </tr>\n",
       "    <tr>\n",
       "      <td>...</td>\n",
       "      <td>...</td>\n",
       "      <td>...</td>\n",
       "      <td>...</td>\n",
       "      <td>...</td>\n",
       "    </tr>\n",
       "    <tr>\n",
       "      <td rowspan=\"2\" valign=\"top\">YAK</td>\n",
       "      <td>CDV</td>\n",
       "      <td>31.888889</td>\n",
       "      <td>AS</td>\n",
       "      <td>Alaska Airlines</td>\n",
       "    </tr>\n",
       "    <tr>\n",
       "      <td>JNU</td>\n",
       "      <td>23.195652</td>\n",
       "      <td>AS</td>\n",
       "      <td>Alaska Airlines</td>\n",
       "    </tr>\n",
       "    <tr>\n",
       "      <td rowspan=\"2\" valign=\"top\">YNG</td>\n",
       "      <td>PIE</td>\n",
       "      <td>111.000000</td>\n",
       "      <td>G4</td>\n",
       "      <td>Allegiant Air LLC</td>\n",
       "    </tr>\n",
       "    <tr>\n",
       "      <td>SFB</td>\n",
       "      <td>15.000000</td>\n",
       "      <td>G4</td>\n",
       "      <td>Allegiant Air LLC</td>\n",
       "    </tr>\n",
       "    <tr>\n",
       "      <td>YUM</td>\n",
       "      <td>PHX</td>\n",
       "      <td>28.715415</td>\n",
       "      <td>OO</td>\n",
       "      <td>Skywest Airlines</td>\n",
       "    </tr>\n",
       "  </tbody>\n",
       "</table>\n",
       "<p>6311 rows × 3 columns</p>\n",
       "</div>"
      ],
      "text/plain": [
       "             MEAN_DEP_DELAY CARRIER       CARRIER_NAME\n",
       "ORIGIN DEST                                           \n",
       "ABE    ATL        40.976190      9E       Endeavor Air\n",
       "       CLT        35.364706      OH     Jetstream Intl\n",
       "       DTW        72.098425      OO   Skywest Airlines\n",
       "       FLL        55.574074      G4  Allegiant Air LLC\n",
       "       MDT       175.000000      OO   Skywest Airlines\n",
       "...                     ...     ...                ...\n",
       "YAK    CDV        31.888889      AS    Alaska Airlines\n",
       "       JNU        23.195652      AS    Alaska Airlines\n",
       "YNG    PIE       111.000000      G4  Allegiant Air LLC\n",
       "       SFB        15.000000      G4  Allegiant Air LLC\n",
       "YUM    PHX        28.715415      OO   Skywest Airlines\n",
       "\n",
       "[6311 rows x 3 columns]"
      ]
     },
     "execution_count": 44,
     "metadata": {},
     "output_type": "execute_result"
    }
   ],
   "source": [
    "best_carrier = min_mean_origin_dest.join(car_names, on='CARRIER')\n",
    "\n",
    "best_carrier"
   ]
  },
  {
   "cell_type": "markdown",
   "metadata": {
    "slideshow": {
     "slide_type": "slide"
    }
   },
   "source": [
    "Let's check if we have any missing values"
   ]
  },
  {
   "cell_type": "code",
   "execution_count": 45,
   "metadata": {
    "slideshow": {
     "slide_type": "fragment"
    }
   },
   "outputs": [
    {
     "data": {
      "text/plain": [
       "MEAN_DEP_DELAY    0\n",
       "CARRIER           0\n",
       "CARRIER_NAME      0\n",
       "dtype: int64"
      ]
     },
     "execution_count": 45,
     "metadata": {},
     "output_type": "execute_result"
    }
   ],
   "source": [
    "best_carrier.isna().sum()"
   ]
  },
  {
   "cell_type": "markdown",
   "metadata": {
    "slideshow": {
     "slide_type": "fragment"
    }
   },
   "source": [
    "Luckily we don't!"
   ]
  },
  {
   "cell_type": "markdown",
   "metadata": {
    "slideshow": {
     "slide_type": "slide"
    }
   },
   "source": [
    "We will create a function that will determine **the best Carrier** for a particular pair of origin and destination airport."
   ]
  },
  {
   "cell_type": "code",
   "execution_count": 46,
   "metadata": {
    "slideshow": {
     "slide_type": "fragment"
    }
   },
   "outputs": [],
   "source": [
    "def select_min(df, orig, dest):\n",
    "    res =  df.loc[orig, dest]\n",
    "    return res.CARRIER_NAME"
   ]
  },
  {
   "cell_type": "markdown",
   "metadata": {
    "slideshow": {
     "slide_type": "slide"
    }
   },
   "source": [
    "Let's try the function for **Lehigh Valley International Airport** in Penny with the **Atlanta Airport Shuttle** in Atlanta and see who is the **Master Carrier** for this particular flight route "
   ]
  },
  {
   "cell_type": "code",
   "execution_count": 47,
   "metadata": {
    "slideshow": {
     "slide_type": "fragment"
    }
   },
   "outputs": [
    {
     "data": {
      "text/plain": [
       "'Endeavor Air'"
      ]
     },
     "execution_count": 47,
     "metadata": {},
     "output_type": "execute_result"
    }
   ],
   "source": [
    "select_min(best_carrier, 'ABE', 'ATL')"
   ]
  },
  {
   "cell_type": "markdown",
   "metadata": {
    "slideshow": {
     "slide_type": "fragment"
    }
   },
   "source": [
    "For this particular flight route, we can see that **Pinnacle Airlines** had the best performance"
   ]
  },
  {
   "cell_type": "markdown",
   "metadata": {
    "slideshow": {
     "slide_type": "slide"
    }
   },
   "source": [
    "Another example for this function. Let's put **Northwest Arkansas Regional Airport** in Bentonville with the **O'Hare** in Chicago and see who is the **Master Carrier** for this particular flight route. "
   ]
  },
  {
   "cell_type": "code",
   "execution_count": 48,
   "metadata": {
    "slideshow": {
     "slide_type": "fragment"
    }
   },
   "outputs": [
    {
     "data": {
      "text/plain": [
       "'American Airlines'"
      ]
     },
     "execution_count": 48,
     "metadata": {},
     "output_type": "execute_result"
    }
   ],
   "source": [
    "select_min(best_carrier, 'XNA', 'ORD')"
   ]
  },
  {
   "cell_type": "markdown",
   "metadata": {
    "slideshow": {
     "slide_type": "fragment"
    }
   },
   "source": [
    "For this particular flight route, we can see that **American Airlines** had the best performance"
   ]
  },
  {
   "cell_type": "markdown",
   "metadata": {
    "slideshow": {
     "slide_type": "slide"
    }
   },
   "source": [
    "# Annex1 - Which are the most busy airports? <a class=\"anchor\" id=\"annexI\"></a>"
   ]
  },
  {
   "cell_type": "code",
   "execution_count": 49,
   "metadata": {
    "scrolled": true,
    "slideshow": {
     "slide_type": "fragment"
    }
   },
   "outputs": [
    {
     "data": {
      "text/html": [
       "<div>\n",
       "<style scoped>\n",
       "    .dataframe tbody tr th:only-of-type {\n",
       "        vertical-align: middle;\n",
       "    }\n",
       "\n",
       "    .dataframe tbody tr th {\n",
       "        vertical-align: top;\n",
       "    }\n",
       "\n",
       "    .dataframe thead th {\n",
       "        text-align: right;\n",
       "    }\n",
       "</style>\n",
       "<table border=\"1\" class=\"dataframe\">\n",
       "  <thead>\n",
       "    <tr style=\"text-align: right;\">\n",
       "      <th></th>\n",
       "      <th>TAIL_NUM</th>\n",
       "    </tr>\n",
       "    <tr>\n",
       "      <th>ORIGIN</th>\n",
       "      <th></th>\n",
       "    </tr>\n",
       "  </thead>\n",
       "  <tbody>\n",
       "    <tr>\n",
       "      <td>ATL</td>\n",
       "      <td>389847</td>\n",
       "    </tr>\n",
       "    <tr>\n",
       "      <td>ORD</td>\n",
       "      <td>332166</td>\n",
       "    </tr>\n",
       "    <tr>\n",
       "      <td>DFW</td>\n",
       "      <td>279134</td>\n",
       "    </tr>\n",
       "    <tr>\n",
       "      <td>DEN</td>\n",
       "      <td>235577</td>\n",
       "    </tr>\n",
       "    <tr>\n",
       "      <td>CLT</td>\n",
       "      <td>232020</td>\n",
       "    </tr>\n",
       "    <tr>\n",
       "      <td>...</td>\n",
       "      <td>...</td>\n",
       "    </tr>\n",
       "    <tr>\n",
       "      <td>AKN</td>\n",
       "      <td>63</td>\n",
       "    </tr>\n",
       "    <tr>\n",
       "      <td>CYS</td>\n",
       "      <td>58</td>\n",
       "    </tr>\n",
       "    <tr>\n",
       "      <td>IFP</td>\n",
       "      <td>45</td>\n",
       "    </tr>\n",
       "    <tr>\n",
       "      <td>ART</td>\n",
       "      <td>24</td>\n",
       "    </tr>\n",
       "    <tr>\n",
       "      <td>YNG</td>\n",
       "      <td>2</td>\n",
       "    </tr>\n",
       "  </tbody>\n",
       "</table>\n",
       "<p>358 rows × 1 columns</p>\n",
       "</div>"
      ],
      "text/plain": [
       "        TAIL_NUM\n",
       "ORIGIN          \n",
       "ATL       389847\n",
       "ORD       332166\n",
       "DFW       279134\n",
       "DEN       235577\n",
       "CLT       232020\n",
       "...          ...\n",
       "AKN           63\n",
       "CYS           58\n",
       "IFP           45\n",
       "ART           24\n",
       "YNG            2\n",
       "\n",
       "[358 rows x 1 columns]"
      ]
     },
     "execution_count": 49,
     "metadata": {},
     "output_type": "execute_result"
    }
   ],
   "source": [
    "flights_move = flights.loc[:, ['ORIGIN', 'TAIL_NUM']]\n",
    "\n",
    "#number of departing flights for each ORIGIN airport \n",
    "grouped = flights_move.groupby('ORIGIN').count().sort_values(by=['TAIL_NUM'], ascending=False)\n",
    "\n",
    "grouped"
   ]
  },
  {
   "cell_type": "markdown",
   "metadata": {
    "slideshow": {
     "slide_type": "slide"
    }
   },
   "source": [
    "* We will try and map the flights on a scatterplot and scale the points according to the number of flights per Airport.\n",
    "\n",
    "* For that, we need the coordinates of each airport. We can find them on this repository: https://github.com/datasets/airport-codes"
   ]
  },
  {
   "cell_type": "code",
   "execution_count": 50,
   "metadata": {
    "slideshow": {
     "slide_type": "fragment"
    }
   },
   "outputs": [],
   "source": [
    "airport_coord = pd.read_csv('https://raw.githubusercontent.com/datasets/airport-codes/master/archive/data.csv')"
   ]
  },
  {
   "cell_type": "markdown",
   "metadata": {
    "slideshow": {
     "slide_type": "slide"
    }
   },
   "source": [
    "Let's check how the dataframe looks like"
   ]
  },
  {
   "cell_type": "code",
   "execution_count": 51,
   "metadata": {
    "slideshow": {
     "slide_type": "fragment"
    }
   },
   "outputs": [
    {
     "data": {
      "text/html": [
       "<div>\n",
       "<style scoped>\n",
       "    .dataframe tbody tr th:only-of-type {\n",
       "        vertical-align: middle;\n",
       "    }\n",
       "\n",
       "    .dataframe tbody tr th {\n",
       "        vertical-align: top;\n",
       "    }\n",
       "\n",
       "    .dataframe thead th {\n",
       "        text-align: right;\n",
       "    }\n",
       "</style>\n",
       "<table border=\"1\" class=\"dataframe\">\n",
       "  <thead>\n",
       "    <tr style=\"text-align: right;\">\n",
       "      <th></th>\n",
       "      <th>id</th>\n",
       "      <th>ident</th>\n",
       "      <th>type</th>\n",
       "      <th>name</th>\n",
       "      <th>latitude_deg</th>\n",
       "      <th>longitude_deg</th>\n",
       "      <th>elevation_ft</th>\n",
       "      <th>continent</th>\n",
       "      <th>iso_country</th>\n",
       "      <th>iso_region</th>\n",
       "      <th>municipality</th>\n",
       "      <th>scheduled_service</th>\n",
       "      <th>gps_code</th>\n",
       "      <th>iata_code</th>\n",
       "      <th>local_code</th>\n",
       "      <th>home_link</th>\n",
       "      <th>wikipedia_link</th>\n",
       "      <th>keywords</th>\n",
       "    </tr>\n",
       "  </thead>\n",
       "  <tbody>\n",
       "    <tr>\n",
       "      <td>0</td>\n",
       "      <td>6523</td>\n",
       "      <td>00A</td>\n",
       "      <td>heliport</td>\n",
       "      <td>Total Rf Heliport</td>\n",
       "      <td>40.070801</td>\n",
       "      <td>-74.933601</td>\n",
       "      <td>11.0</td>\n",
       "      <td>NaN</td>\n",
       "      <td>US</td>\n",
       "      <td>US-PA</td>\n",
       "      <td>Bensalem</td>\n",
       "      <td>no</td>\n",
       "      <td>00A</td>\n",
       "      <td>NaN</td>\n",
       "      <td>00A</td>\n",
       "      <td>NaN</td>\n",
       "      <td>NaN</td>\n",
       "      <td>NaN</td>\n",
       "    </tr>\n",
       "    <tr>\n",
       "      <td>1</td>\n",
       "      <td>323361</td>\n",
       "      <td>00AA</td>\n",
       "      <td>small_airport</td>\n",
       "      <td>Aero B Ranch Airport</td>\n",
       "      <td>38.704022</td>\n",
       "      <td>-101.473911</td>\n",
       "      <td>3435.0</td>\n",
       "      <td>NaN</td>\n",
       "      <td>US</td>\n",
       "      <td>US-KS</td>\n",
       "      <td>Leoti</td>\n",
       "      <td>no</td>\n",
       "      <td>00AA</td>\n",
       "      <td>NaN</td>\n",
       "      <td>00AA</td>\n",
       "      <td>NaN</td>\n",
       "      <td>NaN</td>\n",
       "      <td>NaN</td>\n",
       "    </tr>\n",
       "    <tr>\n",
       "      <td>2</td>\n",
       "      <td>6524</td>\n",
       "      <td>00AK</td>\n",
       "      <td>small_airport</td>\n",
       "      <td>Lowell Field</td>\n",
       "      <td>59.949200</td>\n",
       "      <td>-151.695999</td>\n",
       "      <td>450.0</td>\n",
       "      <td>NaN</td>\n",
       "      <td>US</td>\n",
       "      <td>US-AK</td>\n",
       "      <td>Anchor Point</td>\n",
       "      <td>no</td>\n",
       "      <td>00AK</td>\n",
       "      <td>NaN</td>\n",
       "      <td>00AK</td>\n",
       "      <td>NaN</td>\n",
       "      <td>NaN</td>\n",
       "      <td>NaN</td>\n",
       "    </tr>\n",
       "    <tr>\n",
       "      <td>3</td>\n",
       "      <td>6525</td>\n",
       "      <td>00AL</td>\n",
       "      <td>small_airport</td>\n",
       "      <td>Epps Airpark</td>\n",
       "      <td>34.864799</td>\n",
       "      <td>-86.770302</td>\n",
       "      <td>820.0</td>\n",
       "      <td>NaN</td>\n",
       "      <td>US</td>\n",
       "      <td>US-AL</td>\n",
       "      <td>Harvest</td>\n",
       "      <td>no</td>\n",
       "      <td>00AL</td>\n",
       "      <td>NaN</td>\n",
       "      <td>00AL</td>\n",
       "      <td>NaN</td>\n",
       "      <td>NaN</td>\n",
       "      <td>NaN</td>\n",
       "    </tr>\n",
       "    <tr>\n",
       "      <td>4</td>\n",
       "      <td>6526</td>\n",
       "      <td>00AR</td>\n",
       "      <td>closed</td>\n",
       "      <td>Newport Hospital &amp; Clinic Heliport</td>\n",
       "      <td>35.608700</td>\n",
       "      <td>-91.254898</td>\n",
       "      <td>237.0</td>\n",
       "      <td>NaN</td>\n",
       "      <td>US</td>\n",
       "      <td>US-AR</td>\n",
       "      <td>Newport</td>\n",
       "      <td>no</td>\n",
       "      <td>NaN</td>\n",
       "      <td>NaN</td>\n",
       "      <td>NaN</td>\n",
       "      <td>NaN</td>\n",
       "      <td>NaN</td>\n",
       "      <td>00AR</td>\n",
       "    </tr>\n",
       "  </tbody>\n",
       "</table>\n",
       "</div>"
      ],
      "text/plain": [
       "       id ident           type                                name  \\\n",
       "0    6523   00A       heliport                   Total Rf Heliport   \n",
       "1  323361  00AA  small_airport                Aero B Ranch Airport   \n",
       "2    6524  00AK  small_airport                        Lowell Field   \n",
       "3    6525  00AL  small_airport                        Epps Airpark   \n",
       "4    6526  00AR         closed  Newport Hospital & Clinic Heliport   \n",
       "\n",
       "   latitude_deg  longitude_deg  elevation_ft continent iso_country iso_region  \\\n",
       "0     40.070801     -74.933601          11.0       NaN          US      US-PA   \n",
       "1     38.704022    -101.473911        3435.0       NaN          US      US-KS   \n",
       "2     59.949200    -151.695999         450.0       NaN          US      US-AK   \n",
       "3     34.864799     -86.770302         820.0       NaN          US      US-AL   \n",
       "4     35.608700     -91.254898         237.0       NaN          US      US-AR   \n",
       "\n",
       "   municipality scheduled_service gps_code iata_code local_code home_link  \\\n",
       "0      Bensalem                no      00A       NaN        00A       NaN   \n",
       "1         Leoti                no     00AA       NaN       00AA       NaN   \n",
       "2  Anchor Point                no     00AK       NaN       00AK       NaN   \n",
       "3       Harvest                no     00AL       NaN       00AL       NaN   \n",
       "4       Newport                no      NaN       NaN        NaN       NaN   \n",
       "\n",
       "  wikipedia_link keywords  \n",
       "0            NaN      NaN  \n",
       "1            NaN      NaN  \n",
       "2            NaN      NaN  \n",
       "3            NaN      NaN  \n",
       "4            NaN     00AR  "
      ]
     },
     "execution_count": 51,
     "metadata": {},
     "output_type": "execute_result"
    }
   ],
   "source": [
    "airport_coord.head()"
   ]
  },
  {
   "cell_type": "markdown",
   "metadata": {
    "slideshow": {
     "slide_type": "slide"
    }
   },
   "source": [
    "We only need the latitudes, longtitudes and Iata Codes for each airport"
   ]
  },
  {
   "cell_type": "code",
   "execution_count": 52,
   "metadata": {
    "slideshow": {
     "slide_type": "fragment"
    }
   },
   "outputs": [
    {
     "data": {
      "text/html": [
       "<div>\n",
       "<style scoped>\n",
       "    .dataframe tbody tr th:only-of-type {\n",
       "        vertical-align: middle;\n",
       "    }\n",
       "\n",
       "    .dataframe tbody tr th {\n",
       "        vertical-align: top;\n",
       "    }\n",
       "\n",
       "    .dataframe thead th {\n",
       "        text-align: right;\n",
       "    }\n",
       "</style>\n",
       "<table border=\"1\" class=\"dataframe\">\n",
       "  <thead>\n",
       "    <tr style=\"text-align: right;\">\n",
       "      <th></th>\n",
       "      <th>latitude_deg</th>\n",
       "      <th>longitude_deg</th>\n",
       "      <th>iata_code</th>\n",
       "    </tr>\n",
       "  </thead>\n",
       "  <tbody>\n",
       "    <tr>\n",
       "      <td>223</td>\n",
       "      <td>11.222000</td>\n",
       "      <td>169.852005</td>\n",
       "      <td>UTK</td>\n",
       "    </tr>\n",
       "    <tr>\n",
       "      <td>440</td>\n",
       "      <td>25.325399</td>\n",
       "      <td>-80.274803</td>\n",
       "      <td>OCA</td>\n",
       "    </tr>\n",
       "    <tr>\n",
       "      <td>594</td>\n",
       "      <td>61.934601</td>\n",
       "      <td>-162.899994</td>\n",
       "      <td>PQS</td>\n",
       "    </tr>\n",
       "    <tr>\n",
       "      <td>673</td>\n",
       "      <td>38.851918</td>\n",
       "      <td>-106.928341</td>\n",
       "      <td>CSE</td>\n",
       "    </tr>\n",
       "    <tr>\n",
       "      <td>1088</td>\n",
       "      <td>30.251801</td>\n",
       "      <td>-98.622498</td>\n",
       "      <td>JCY</td>\n",
       "    </tr>\n",
       "    <tr>\n",
       "      <td>...</td>\n",
       "      <td>...</td>\n",
       "      <td>...</td>\n",
       "      <td>...</td>\n",
       "    </tr>\n",
       "    <tr>\n",
       "      <td>55084</td>\n",
       "      <td>38.965698</td>\n",
       "      <td>121.539001</td>\n",
       "      <td>DLC</td>\n",
       "    </tr>\n",
       "    <tr>\n",
       "      <td>55085</td>\n",
       "      <td>42.253889</td>\n",
       "      <td>125.703333</td>\n",
       "      <td>TNH</td>\n",
       "    </tr>\n",
       "    <tr>\n",
       "      <td>55086</td>\n",
       "      <td>41.639801</td>\n",
       "      <td>123.483002</td>\n",
       "      <td>SHE</td>\n",
       "    </tr>\n",
       "    <tr>\n",
       "      <td>55087</td>\n",
       "      <td>42.882801</td>\n",
       "      <td>129.451004</td>\n",
       "      <td>YNJ</td>\n",
       "    </tr>\n",
       "    <tr>\n",
       "      <td>55088</td>\n",
       "      <td>40.542524</td>\n",
       "      <td>122.358600</td>\n",
       "      <td>YKH</td>\n",
       "    </tr>\n",
       "  </tbody>\n",
       "</table>\n",
       "<p>9177 rows × 3 columns</p>\n",
       "</div>"
      ],
      "text/plain": [
       "       latitude_deg  longitude_deg iata_code\n",
       "223       11.222000     169.852005       UTK\n",
       "440       25.325399     -80.274803       OCA\n",
       "594       61.934601    -162.899994       PQS\n",
       "673       38.851918    -106.928341       CSE\n",
       "1088      30.251801     -98.622498       JCY\n",
       "...             ...            ...       ...\n",
       "55084     38.965698     121.539001       DLC\n",
       "55085     42.253889     125.703333       TNH\n",
       "55086     41.639801     123.483002       SHE\n",
       "55087     42.882801     129.451004       YNJ\n",
       "55088     40.542524     122.358600       YKH\n",
       "\n",
       "[9177 rows x 3 columns]"
      ]
     },
     "execution_count": 52,
     "metadata": {},
     "output_type": "execute_result"
    }
   ],
   "source": [
    "airport_coord_clean = airport_coord.loc[:, ['latitude_deg', 'longitude_deg', 'iata_code']]\n",
    "\n",
    "#clean the dataset from nulls\n",
    "airport_coord_clean.dropna(inplace=True)\n",
    "\n",
    "airport_coord_clean"
   ]
  },
  {
   "cell_type": "markdown",
   "metadata": {
    "slideshow": {
     "slide_type": "slide"
    }
   },
   "source": [
    "We can now merge on the Code column this dataframe with our initial one "
   ]
  },
  {
   "cell_type": "code",
   "execution_count": 53,
   "metadata": {
    "slideshow": {
     "slide_type": "fragment"
    }
   },
   "outputs": [],
   "source": [
    "merged_coord = pd.merge(grouped, airport_coord_clean, left_on='ORIGIN', right_on='iata_code', how='inner')"
   ]
  },
  {
   "cell_type": "markdown",
   "metadata": {
    "slideshow": {
     "slide_type": "slide"
    }
   },
   "source": [
    "We now got the coordinates"
   ]
  },
  {
   "cell_type": "code",
   "execution_count": 54,
   "metadata": {
    "slideshow": {
     "slide_type": "fragment"
    }
   },
   "outputs": [
    {
     "data": {
      "text/html": [
       "<div>\n",
       "<style scoped>\n",
       "    .dataframe tbody tr th:only-of-type {\n",
       "        vertical-align: middle;\n",
       "    }\n",
       "\n",
       "    .dataframe tbody tr th {\n",
       "        vertical-align: top;\n",
       "    }\n",
       "\n",
       "    .dataframe thead th {\n",
       "        text-align: right;\n",
       "    }\n",
       "</style>\n",
       "<table border=\"1\" class=\"dataframe\">\n",
       "  <thead>\n",
       "    <tr style=\"text-align: right;\">\n",
       "      <th></th>\n",
       "      <th>TAIL_NUM</th>\n",
       "      <th>latitude_deg</th>\n",
       "      <th>longitude_deg</th>\n",
       "      <th>iata_code</th>\n",
       "    </tr>\n",
       "  </thead>\n",
       "  <tbody>\n",
       "    <tr>\n",
       "      <td>0</td>\n",
       "      <td>389847</td>\n",
       "      <td>33.636700</td>\n",
       "      <td>-84.428101</td>\n",
       "      <td>ATL</td>\n",
       "    </tr>\n",
       "    <tr>\n",
       "      <td>1</td>\n",
       "      <td>332166</td>\n",
       "      <td>41.978600</td>\n",
       "      <td>-87.904800</td>\n",
       "      <td>ORD</td>\n",
       "    </tr>\n",
       "    <tr>\n",
       "      <td>2</td>\n",
       "      <td>279134</td>\n",
       "      <td>32.896801</td>\n",
       "      <td>-97.038002</td>\n",
       "      <td>DFW</td>\n",
       "    </tr>\n",
       "    <tr>\n",
       "      <td>3</td>\n",
       "      <td>235577</td>\n",
       "      <td>39.861698</td>\n",
       "      <td>-104.672997</td>\n",
       "      <td>DEN</td>\n",
       "    </tr>\n",
       "    <tr>\n",
       "      <td>4</td>\n",
       "      <td>232020</td>\n",
       "      <td>35.214001</td>\n",
       "      <td>-80.943100</td>\n",
       "      <td>CLT</td>\n",
       "    </tr>\n",
       "    <tr>\n",
       "      <td>...</td>\n",
       "      <td>...</td>\n",
       "      <td>...</td>\n",
       "      <td>...</td>\n",
       "      <td>...</td>\n",
       "    </tr>\n",
       "    <tr>\n",
       "      <td>354</td>\n",
       "      <td>63</td>\n",
       "      <td>58.676800</td>\n",
       "      <td>-156.649002</td>\n",
       "      <td>AKN</td>\n",
       "    </tr>\n",
       "    <tr>\n",
       "      <td>355</td>\n",
       "      <td>58</td>\n",
       "      <td>41.155701</td>\n",
       "      <td>-104.811996</td>\n",
       "      <td>CYS</td>\n",
       "    </tr>\n",
       "    <tr>\n",
       "      <td>356</td>\n",
       "      <td>45</td>\n",
       "      <td>35.157398</td>\n",
       "      <td>-114.559998</td>\n",
       "      <td>IFP</td>\n",
       "    </tr>\n",
       "    <tr>\n",
       "      <td>357</td>\n",
       "      <td>24</td>\n",
       "      <td>43.991901</td>\n",
       "      <td>-76.021698</td>\n",
       "      <td>ART</td>\n",
       "    </tr>\n",
       "    <tr>\n",
       "      <td>358</td>\n",
       "      <td>2</td>\n",
       "      <td>41.260700</td>\n",
       "      <td>-80.679100</td>\n",
       "      <td>YNG</td>\n",
       "    </tr>\n",
       "  </tbody>\n",
       "</table>\n",
       "<p>359 rows × 4 columns</p>\n",
       "</div>"
      ],
      "text/plain": [
       "     TAIL_NUM  latitude_deg  longitude_deg iata_code\n",
       "0      389847     33.636700     -84.428101       ATL\n",
       "1      332166     41.978600     -87.904800       ORD\n",
       "2      279134     32.896801     -97.038002       DFW\n",
       "3      235577     39.861698    -104.672997       DEN\n",
       "4      232020     35.214001     -80.943100       CLT\n",
       "..        ...           ...            ...       ...\n",
       "354        63     58.676800    -156.649002       AKN\n",
       "355        58     41.155701    -104.811996       CYS\n",
       "356        45     35.157398    -114.559998       IFP\n",
       "357        24     43.991901     -76.021698       ART\n",
       "358         2     41.260700     -80.679100       YNG\n",
       "\n",
       "[359 rows x 4 columns]"
      ]
     },
     "execution_count": 54,
     "metadata": {},
     "output_type": "execute_result"
    }
   ],
   "source": [
    "merged_coord"
   ]
  },
  {
   "cell_type": "markdown",
   "metadata": {
    "slideshow": {
     "slide_type": "slide"
    }
   },
   "source": [
    "We have to convert the coordinates from 2D sphare to pixel ones"
   ]
  },
  {
   "cell_type": "code",
   "execution_count": 55,
   "metadata": {
    "slideshow": {
     "slide_type": "fragment"
    }
   },
   "outputs": [],
   "source": [
    " def lat_lng_to_pixels(lat, lng):\n",
    "    lat_rad = lat * np.pi / 180.0\n",
    "    lat_rad = np.log(np.tan((lat_rad + np.pi / 2.0) / 2.0))\n",
    "    x = 100 * (lng + 180.0) / 360.0\n",
    "    y = 100 * (lat_rad - np.pi) / (2.0 * np.pi)\n",
    "    return (x, y)\n",
    "\n",
    "px, py = lat_lng_to_pixels(merged_coord.latitude_deg, merged_coord.longitude_deg)"
   ]
  },
  {
   "cell_type": "code",
   "execution_count": 56,
   "metadata": {
    "slideshow": {
     "slide_type": "slide"
    }
   },
   "outputs": [
    {
     "data": {
      "text/plain": [
       "<matplotlib.collections.PathCollection at 0x7fc9b0c49320>"
      ]
     },
     "execution_count": 56,
     "metadata": {},
     "output_type": "execute_result"
    },
    {
     "data": {
      "image/png": "[encoded data removed]",
      "text/plain": [
       "<Figure size 1008x576 with 1 Axes>"
      ]
     },
     "metadata": {},
     "output_type": "display_data"
    }
   ],
   "source": [
    "f = plt.figure(figsize=(14,8))\n",
    "plt.scatter(px, py)"
   ]
  },
  {
   "cell_type": "markdown",
   "metadata": {},
   "source": [
    "We can make this plot more clear"
   ]
  },
  {
   "cell_type": "code",
   "execution_count": 57,
   "metadata": {
    "slideshow": {
     "slide_type": "slide"
    }
   },
   "outputs": [
    {
     "data": {
      "text/plain": [
       "<matplotlib.collections.PathCollection at 0x7fc9b0baba90>"
      ]
     },
     "execution_count": 57,
     "metadata": {},
     "output_type": "execute_result"
    },
    {
     "data": {
      "image/png": "[encoded data removed]",
      "text/plain": [
       "<Figure size 1008x864 with 1 Axes>"
      ]
     },
     "metadata": {},
     "output_type": "display_data"
    }
   ],
   "source": [
    "plt.figure(figsize=(14, 12))\n",
    "plt.axis('equal')\n",
    "plt.title('Most busy airports', fontsize=20)\n",
    "plt.xlim(15.40, 31.55)\n",
    "plt.ylim(-46.43, -31.54)\n",
    "plt.axis('off')\n",
    "area = merged_coord.TAIL_NUM/150\n",
    "plt.scatter(px, py, s=area, alpha=0.5)"
   ]
  },
  {
   "cell_type": "markdown",
   "metadata": {
    "slideshow": {
     "slide_type": "fragment"
    }
   },
   "source": [
    "Here we can also observe the **shape of US**"
   ]
  }
 ],
 "metadata": {
  "celltoolbar": "Edit Metadata",
  "kernelspec": {
   "display_name": "Python 3",
   "language": "python",
   "name": "python3"
  },
  "language_info": {
   "codemirror_mode": {
    "name": "ipython",
    "version": 3
   },
   "file_extension": ".py",
   "mimetype": "text/x-python",
   "name": "python",
   "nbconvert_exporter": "python",
   "pygments_lexer": "ipython3",
   "version": "3.7.4"
  }
 },
 "nbformat": 4,
 "nbformat_minor": 2
}
